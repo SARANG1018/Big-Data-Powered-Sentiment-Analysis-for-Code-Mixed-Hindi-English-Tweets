{
 "cells": [
  {
   "cell_type": "code",
   "execution_count": 2,
   "id": "40ea8476-2127-48de-b195-d8d6c50c9423",
   "metadata": {
    "colab": {
     "base_uri": "https://localhost:8080/"
    },
    "execution": {
     "iopub.execute_input": "2025-05-06T22:30:25.418334Z",
     "iopub.status.busy": "2025-05-06T22:30:25.417867Z",
     "iopub.status.idle": "2025-05-06T22:30:36.265507Z",
     "shell.execute_reply": "2025-05-06T22:30:36.264617Z",
     "shell.execute_reply.started": "2025-05-06T22:30:25.418310Z"
    },
    "id": "40ea8476-2127-48de-b195-d8d6c50c9423",
    "outputId": "827b366d-2aee-4d19-89d8-3f7e709e9208",
    "trusted": true
   },
   "outputs": [
    {
     "name": "stdout",
     "output_type": "stream",
     "text": [
      "Collecting spark-nlp==5.5.3\n",
      "  Downloading spark_nlp-5.5.3-py2.py3-none-any.whl.metadata (19 kB)\n",
      "Requirement already satisfied: pyspark in /usr/local/lib/python3.11/dist-packages (3.5.4)\n",
      "Requirement already satisfied: py4j==0.10.9.7 in /usr/local/lib/python3.11/dist-packages (from pyspark) (0.10.9.7)\n",
      "Downloading spark_nlp-5.5.3-py2.py3-none-any.whl (635 kB)\n",
      "\u001b[2K   \u001b[90m━━━━━━━━━━━━━━━━━━━━━━━━━━━━━━━━━━━━━━━━\u001b[0m \u001b[32m635.7/635.7 kB\u001b[0m \u001b[31m10.9 MB/s\u001b[0m eta \u001b[36m0:00:00\u001b[0ma \u001b[36m0:00:01\u001b[0m\n",
      "\u001b[?25hInstalling collected packages: spark-nlp\n",
      "Successfully installed spark-nlp-5.5.3\n",
      "Collecting ekphrasis\n",
      "  Downloading ekphrasis-0.5.4-py3-none-any.whl.metadata (610 bytes)\n",
      "Requirement already satisfied: termcolor in /usr/local/lib/python3.11/dist-packages (from ekphrasis) (2.5.0)\n",
      "Requirement already satisfied: tqdm in /usr/local/lib/python3.11/dist-packages (from ekphrasis) (4.67.1)\n",
      "Requirement already satisfied: colorama in /usr/local/lib/python3.11/dist-packages (from ekphrasis) (0.4.6)\n",
      "Requirement already satisfied: ujson in /usr/local/lib/python3.11/dist-packages (from ekphrasis) (5.10.0)\n",
      "Requirement already satisfied: matplotlib in /usr/local/lib/python3.11/dist-packages (from ekphrasis) (3.7.5)\n",
      "Requirement already satisfied: nltk in /usr/local/lib/python3.11/dist-packages (from ekphrasis) (3.9.1)\n",
      "Collecting ftfy (from ekphrasis)\n",
      "  Downloading ftfy-6.3.1-py3-none-any.whl.metadata (7.3 kB)\n",
      "Requirement already satisfied: numpy in /usr/local/lib/python3.11/dist-packages (from ekphrasis) (1.26.4)\n",
      "Requirement already satisfied: wcwidth in /usr/local/lib/python3.11/dist-packages (from ftfy->ekphrasis) (0.2.13)\n",
      "Requirement already satisfied: contourpy>=1.0.1 in /usr/local/lib/python3.11/dist-packages (from matplotlib->ekphrasis) (1.3.1)\n",
      "Requirement already satisfied: cycler>=0.10 in /usr/local/lib/python3.11/dist-packages (from matplotlib->ekphrasis) (0.12.1)\n",
      "Requirement already satisfied: fonttools>=4.22.0 in /usr/local/lib/python3.11/dist-packages (from matplotlib->ekphrasis) (4.56.0)\n",
      "Requirement already satisfied: kiwisolver>=1.0.1 in /usr/local/lib/python3.11/dist-packages (from matplotlib->ekphrasis) (1.4.8)\n",
      "Requirement already satisfied: packaging>=20.0 in /usr/local/lib/python3.11/dist-packages (from matplotlib->ekphrasis) (24.2)\n",
      "Requirement already satisfied: pillow>=6.2.0 in /usr/local/lib/python3.11/dist-packages (from matplotlib->ekphrasis) (11.1.0)\n",
      "Requirement already satisfied: pyparsing>=2.3.1 in /usr/local/lib/python3.11/dist-packages (from matplotlib->ekphrasis) (3.2.1)\n",
      "Requirement already satisfied: python-dateutil>=2.7 in /usr/local/lib/python3.11/dist-packages (from matplotlib->ekphrasis) (2.9.0.post0)\n",
      "Requirement already satisfied: mkl_fft in /usr/local/lib/python3.11/dist-packages (from numpy->ekphrasis) (1.3.8)\n",
      "Requirement already satisfied: mkl_random in /usr/local/lib/python3.11/dist-packages (from numpy->ekphrasis) (1.2.4)\n",
      "Requirement already satisfied: mkl_umath in /usr/local/lib/python3.11/dist-packages (from numpy->ekphrasis) (0.1.1)\n",
      "Requirement already satisfied: mkl in /usr/local/lib/python3.11/dist-packages (from numpy->ekphrasis) (2025.1.0)\n",
      "Requirement already satisfied: tbb4py in /usr/local/lib/python3.11/dist-packages (from numpy->ekphrasis) (2022.1.0)\n",
      "Requirement already satisfied: mkl-service in /usr/local/lib/python3.11/dist-packages (from numpy->ekphrasis) (2.4.1)\n",
      "Requirement already satisfied: click in /usr/local/lib/python3.11/dist-packages (from nltk->ekphrasis) (8.1.8)\n",
      "Requirement already satisfied: joblib in /usr/local/lib/python3.11/dist-packages (from nltk->ekphrasis) (1.4.2)\n",
      "Requirement already satisfied: regex>=2021.8.3 in /usr/local/lib/python3.11/dist-packages (from nltk->ekphrasis) (2024.11.6)\n",
      "Requirement already satisfied: six>=1.5 in /usr/local/lib/python3.11/dist-packages (from python-dateutil>=2.7->matplotlib->ekphrasis) (1.17.0)\n",
      "Requirement already satisfied: intel-openmp<2026,>=2024 in /usr/local/lib/python3.11/dist-packages (from mkl->numpy->ekphrasis) (2024.2.0)\n",
      "Requirement already satisfied: tbb==2022.* in /usr/local/lib/python3.11/dist-packages (from mkl->numpy->ekphrasis) (2022.1.0)\n",
      "Requirement already satisfied: tcmlib==1.* in /usr/local/lib/python3.11/dist-packages (from tbb==2022.*->mkl->numpy->ekphrasis) (1.2.0)\n",
      "Requirement already satisfied: intel-cmplr-lib-rt in /usr/local/lib/python3.11/dist-packages (from mkl_umath->numpy->ekphrasis) (2024.2.0)\n",
      "Requirement already satisfied: intel-cmplr-lib-ur==2024.2.0 in /usr/local/lib/python3.11/dist-packages (from intel-openmp<2026,>=2024->mkl->numpy->ekphrasis) (2024.2.0)\n",
      "Downloading ekphrasis-0.5.4-py3-none-any.whl (83 kB)\n",
      "\u001b[2K   \u001b[90m━━━━━━━━━━━━━━━━━━━━━━━━━━━━━━━━━━━━━━━━\u001b[0m \u001b[32m83.8/83.8 kB\u001b[0m \u001b[31m2.8 MB/s\u001b[0m eta \u001b[36m0:00:00\u001b[0m\n",
      "\u001b[?25hDownloading ftfy-6.3.1-py3-none-any.whl (44 kB)\n",
      "\u001b[2K   \u001b[90m━━━━━━━━━━━━━━━━━━━━━━━━━━━━━━━━━━━━━━━━\u001b[0m \u001b[32m44.8/44.8 kB\u001b[0m \u001b[31m2.4 MB/s\u001b[0m eta \u001b[36m0:00:00\u001b[0m\n",
      "\u001b[?25hInstalling collected packages: ftfy, ekphrasis\n",
      "Successfully installed ekphrasis-0.5.4 ftfy-6.3.1\n"
     ]
    }
   ],
   "source": [
    "! pip install spark-nlp==5.5.3 pyspark\n",
    "! pip install ekphrasis\n",
    "! pip install transformers --quiet"
   ]
  },
  {
   "cell_type": "code",
   "execution_count": 3,
   "id": "b0e4264f-20b6-4e2b-a96c-74dec2504277",
   "metadata": {
    "execution": {
     "iopub.execute_input": "2025-05-06T22:30:36.267188Z",
     "iopub.status.busy": "2025-05-06T22:30:36.266888Z",
     "iopub.status.idle": "2025-05-06T22:30:36.991669Z",
     "shell.execute_reply": "2025-05-06T22:30:36.990945Z",
     "shell.execute_reply.started": "2025-05-06T22:30:36.267164Z"
    },
    "id": "b0e4264f-20b6-4e2b-a96c-74dec2504277",
    "trusted": true
   },
   "outputs": [],
   "source": [
    "from pyspark.sql import SparkSession\n",
    "import sparknlp"
   ]
  },
  {
   "cell_type": "code",
   "execution_count": 4,
   "id": "6f9378b0-c7c0-4714-8e05-b576b441e91d",
   "metadata": {
    "colab": {
     "base_uri": "https://localhost:8080/",
     "height": 240
    },
    "execution": {
     "iopub.execute_input": "2025-05-06T22:30:36.992777Z",
     "iopub.status.busy": "2025-05-06T22:30:36.992452Z",
     "iopub.status.idle": "2025-05-06T22:31:50.685440Z",
     "shell.execute_reply": "2025-05-06T22:31:50.684606Z",
     "shell.execute_reply.started": "2025-05-06T22:30:36.992762Z"
    },
    "id": "6f9378b0-c7c0-4714-8e05-b576b441e91d",
    "outputId": "3eef1bd6-8eaa-43aa-e91b-3aff54642eb5",
    "trusted": true
   },
   "outputs": [
    {
     "name": "stdout",
     "output_type": "stream",
     "text": [
      ":: loading settings :: url = jar:file:/usr/local/lib/python3.11/dist-packages/pyspark/jars/ivy-2.5.1.jar!/org/apache/ivy/core/settings/ivysettings.xml\n"
     ]
    },
    {
     "name": "stderr",
     "output_type": "stream",
     "text": [
      "Ivy Default Cache set to: /root/.ivy2/cache\n",
      "The jars for the packages stored in: /root/.ivy2/jars\n",
      "com.johnsnowlabs.nlp#spark-nlp-gpu_2.12 added as a dependency\n",
      ":: resolving dependencies :: org.apache.spark#spark-submit-parent-320aaabe-60d9-43d4-9ccc-63b6218da3c3;1.0\n",
      "\tconfs: [default]\n",
      "\tfound com.johnsnowlabs.nlp#spark-nlp-gpu_2.12;5.5.3 in central\n",
      "\tfound com.typesafe#config;1.4.2 in central\n",
      "\tfound org.rocksdb#rocksdbjni;6.29.5 in central\n",
      "\tfound com.amazonaws#aws-java-sdk-s3;1.12.500 in central\n",
      "\tfound com.amazonaws#aws-java-sdk-kms;1.12.500 in central\n",
      "\tfound com.amazonaws#aws-java-sdk-core;1.12.500 in central\n",
      "\tfound commons-logging#commons-logging;1.1.3 in central\n",
      "\tfound commons-codec#commons-codec;1.15 in central\n",
      "\tfound org.apache.httpcomponents#httpclient;4.5.13 in central\n",
      "\tfound org.apache.httpcomponents#httpcore;4.4.13 in central\n",
      "\tfound software.amazon.ion#ion-java;1.0.2 in central\n",
      "\tfound joda-time#joda-time;2.8.1 in central\n",
      "\tfound com.amazonaws#jmespath-java;1.12.500 in central\n",
      "\tfound com.github.universal-automata#liblevenshtein;3.0.0 in central\n",
      "\tfound com.google.protobuf#protobuf-java-util;3.0.0-beta-3 in central\n",
      "\tfound com.google.protobuf#protobuf-java;3.0.0-beta-3 in central\n",
      "\tfound com.google.code.gson#gson;2.3 in central\n",
      "\tfound it.unimi.dsi#fastutil;7.0.12 in central\n",
      "\tfound org.projectlombok#lombok;1.16.8 in central\n",
      "\tfound com.google.cloud#google-cloud-storage;2.20.1 in central\n",
      "\tfound com.google.guava#guava;31.1-jre in central\n",
      "\tfound com.google.guava#failureaccess;1.0.1 in central\n",
      "\tfound com.google.guava#listenablefuture;9999.0-empty-to-avoid-conflict-with-guava in central\n",
      "\tfound com.google.errorprone#error_prone_annotations;2.18.0 in central\n",
      "\tfound com.google.j2objc#j2objc-annotations;1.3 in central\n",
      "\tfound com.google.http-client#google-http-client;1.43.0 in central\n",
      "\tfound io.opencensus#opencensus-contrib-http-util;0.31.1 in central\n",
      "\tfound com.google.http-client#google-http-client-jackson2;1.43.0 in central\n",
      "\tfound com.google.http-client#google-http-client-gson;1.43.0 in central\n",
      "\tfound com.google.api-client#google-api-client;2.2.0 in central\n",
      "\tfound com.google.oauth-client#google-oauth-client;1.34.1 in central\n",
      "\tfound com.google.http-client#google-http-client-apache-v2;1.43.0 in central\n",
      "\tfound com.google.apis#google-api-services-storage;v1-rev20220705-2.0.0 in central\n",
      "\tfound com.google.code.gson#gson;2.10.1 in central\n",
      "\tfound com.google.cloud#google-cloud-core;2.12.0 in central\n",
      "\tfound io.grpc#grpc-context;1.53.0 in central\n",
      "\tfound com.google.auto.value#auto-value-annotations;1.10.1 in central\n",
      "\tfound com.google.auto.value#auto-value;1.10.1 in central\n",
      "\tfound javax.annotation#javax.annotation-api;1.3.2 in central\n",
      "\tfound com.google.cloud#google-cloud-core-http;2.12.0 in central\n",
      "\tfound com.google.http-client#google-http-client-appengine;1.43.0 in central\n",
      "\tfound com.google.api#gax-httpjson;0.108.2 in central\n",
      "\tfound com.google.cloud#google-cloud-core-grpc;2.12.0 in central\n",
      "\tfound io.grpc#grpc-alts;1.53.0 in central\n",
      "\tfound io.grpc#grpc-grpclb;1.53.0 in central\n",
      "\tfound org.conscrypt#conscrypt-openjdk-uber;2.5.2 in central\n",
      "\tfound io.grpc#grpc-auth;1.53.0 in central\n",
      "\tfound io.grpc#grpc-protobuf;1.53.0 in central\n",
      "\tfound io.grpc#grpc-protobuf-lite;1.53.0 in central\n",
      "\tfound io.grpc#grpc-core;1.53.0 in central\n",
      "\tfound com.google.api#gax;2.23.2 in central\n",
      "\tfound com.google.api#gax-grpc;2.23.2 in central\n",
      "\tfound com.google.auth#google-auth-library-credentials;1.16.0 in central\n",
      "\tfound com.google.auth#google-auth-library-oauth2-http;1.16.0 in central\n",
      "\tfound com.google.api#api-common;2.6.2 in central\n",
      "\tfound io.opencensus#opencensus-api;0.31.1 in central\n",
      "\tfound com.google.api.grpc#proto-google-iam-v1;1.9.2 in central\n",
      "\tfound com.google.protobuf#protobuf-java;3.21.12 in central\n",
      "\tfound com.google.protobuf#protobuf-java-util;3.21.12 in central\n",
      "\tfound com.google.api.grpc#proto-google-common-protos;2.14.2 in central\n",
      "\tfound org.threeten#threetenbp;1.6.5 in central\n",
      "\tfound com.google.api.grpc#proto-google-cloud-storage-v2;2.20.1-alpha in central\n",
      "\tfound com.google.api.grpc#grpc-google-cloud-storage-v2;2.20.1-alpha in central\n",
      "\tfound com.google.api.grpc#gapic-google-cloud-storage-v2;2.20.1-alpha in central\n",
      "\tfound com.google.code.findbugs#jsr305;3.0.2 in central\n",
      "\tfound io.grpc#grpc-api;1.53.0 in central\n",
      "\tfound io.grpc#grpc-stub;1.53.0 in central\n",
      "\tfound org.checkerframework#checker-qual;3.31.0 in central\n",
      "\tfound io.perfmark#perfmark-api;0.26.0 in central\n",
      "\tfound com.google.android#annotations;4.1.1.4 in central\n",
      "\tfound org.codehaus.mojo#animal-sniffer-annotations;1.22 in central\n",
      "\tfound io.opencensus#opencensus-proto;0.2.0 in central\n",
      "\tfound io.grpc#grpc-services;1.53.0 in central\n",
      "\tfound com.google.re2j#re2j;1.6 in central\n",
      "\tfound io.grpc#grpc-netty-shaded;1.53.0 in central\n",
      "\tfound io.grpc#grpc-googleapis;1.53.0 in central\n",
      "\tfound io.grpc#grpc-xds;1.53.0 in central\n",
      "\tfound com.navigamez#greex;1.0 in central\n",
      "\tfound dk.brics.automaton#automaton;1.11-8 in central\n",
      "\tfound org.jsoup#jsoup;1.18.2 in central\n",
      "\tfound jakarta.mail#jakarta.mail-api;2.1.3 in central\n",
      "\tfound jakarta.activation#jakarta.activation-api;2.1.3 in central\n",
      "\tfound org.eclipse.angus#angus-mail;2.0.3 in central\n",
      "\tfound org.eclipse.angus#angus-activation;2.0.2 in central\n",
      "\tfound org.apache.poi#poi-ooxml;4.1.2 in central\n",
      "\tfound org.apache.poi#poi;4.1.2 in central\n",
      "\tfound org.apache.commons#commons-collections4;4.4 in central\n",
      "\tfound org.apache.commons#commons-math3;3.6.1 in central\n",
      "\tfound com.zaxxer#SparseBitSet;1.2 in central\n",
      "\tfound org.apache.poi#poi-ooxml-schemas;4.1.2 in central\n",
      "\tfound org.apache.xmlbeans#xmlbeans;3.1.0 in central\n",
      "\tfound org.apache.commons#commons-compress;1.19 in central\n",
      "\tfound com.github.virtuald#curvesapi;1.06 in central\n",
      "\tfound org.apache.poi#poi-scratchpad;4.1.2 in central\n",
      "\tfound com.johnsnowlabs.nlp#tensorflow-gpu_2.12;0.4.4 in central\n",
      "\tfound com.microsoft.onnxruntime#onnxruntime_gpu;1.19.2 in central\n",
      "\tfound com.johnsnowlabs.nlp#jsl-llamacpp-gpu_2.12;0.1.4 in central\n",
      "\tfound org.jetbrains#annotations;24.1.0 in central\n",
      "\tfound com.johnsnowlabs.nlp#jsl-openvino-gpu_2.12;0.1.0 in central\n",
      "downloading https://repo1.maven.org/maven2/com/johnsnowlabs/nlp/spark-nlp-gpu_2.12/5.5.3/spark-nlp-gpu_2.12-5.5.3.jar ...\n",
      "\t[SUCCESSFUL ] com.johnsnowlabs.nlp#spark-nlp-gpu_2.12;5.5.3!spark-nlp-gpu_2.12.jar (485ms)\n",
      "downloading https://repo1.maven.org/maven2/com/typesafe/config/1.4.2/config-1.4.2.jar ...\n",
      "\t[SUCCESSFUL ] com.typesafe#config;1.4.2!config.jar(bundle) (28ms)\n",
      "downloading https://repo1.maven.org/maven2/org/rocksdb/rocksdbjni/6.29.5/rocksdbjni-6.29.5.jar ...\n",
      "\t[SUCCESSFUL ] org.rocksdb#rocksdbjni;6.29.5!rocksdbjni.jar (398ms)\n",
      "downloading https://repo1.maven.org/maven2/com/amazonaws/aws-java-sdk-s3/1.12.500/aws-java-sdk-s3-1.12.500.jar ...\n",
      "\t[SUCCESSFUL ] com.amazonaws#aws-java-sdk-s3;1.12.500!aws-java-sdk-s3.jar (39ms)\n",
      "downloading https://repo1.maven.org/maven2/com/github/universal-automata/liblevenshtein/3.0.0/liblevenshtein-3.0.0.jar ...\n",
      "\t[SUCCESSFUL ] com.github.universal-automata#liblevenshtein;3.0.0!liblevenshtein.jar (28ms)\n",
      "downloading https://repo1.maven.org/maven2/com/google/cloud/google-cloud-storage/2.20.1/google-cloud-storage-2.20.1.jar ...\n",
      "\t[SUCCESSFUL ] com.google.cloud#google-cloud-storage;2.20.1!google-cloud-storage.jar (35ms)\n",
      "downloading https://repo1.maven.org/maven2/com/navigamez/greex/1.0/greex-1.0.jar ...\n",
      "\t[SUCCESSFUL ] com.navigamez#greex;1.0!greex.jar (30ms)\n",
      "downloading https://repo1.maven.org/maven2/org/jsoup/jsoup/1.18.2/jsoup-1.18.2.jar ...\n",
      "\t[SUCCESSFUL ] org.jsoup#jsoup;1.18.2!jsoup.jar (33ms)\n",
      "downloading https://repo1.maven.org/maven2/jakarta/mail/jakarta.mail-api/2.1.3/jakarta.mail-api-2.1.3.jar ...\n",
      "\t[SUCCESSFUL ] jakarta.mail#jakarta.mail-api;2.1.3!jakarta.mail-api.jar (27ms)\n",
      "downloading https://repo1.maven.org/maven2/org/eclipse/angus/angus-mail/2.0.3/angus-mail-2.0.3.jar ...\n",
      "\t[SUCCESSFUL ] org.eclipse.angus#angus-mail;2.0.3!angus-mail.jar (32ms)\n",
      "downloading https://repo1.maven.org/maven2/org/apache/poi/poi-ooxml/4.1.2/poi-ooxml-4.1.2.jar ...\n",
      "\t[SUCCESSFUL ] org.apache.poi#poi-ooxml;4.1.2!poi-ooxml.jar (42ms)\n",
      "downloading https://repo1.maven.org/maven2/org/apache/poi/poi-scratchpad/4.1.2/poi-scratchpad-4.1.2.jar ...\n",
      "\t[SUCCESSFUL ] org.apache.poi#poi-scratchpad;4.1.2!poi-scratchpad.jar (42ms)\n",
      "downloading https://repo1.maven.org/maven2/com/johnsnowlabs/nlp/tensorflow-gpu_2.12/0.4.4/tensorflow-gpu_2.12-0.4.4.jar ...\n",
      "\t[SUCCESSFUL ] com.johnsnowlabs.nlp#tensorflow-gpu_2.12;0.4.4!tensorflow-gpu_2.12.jar (4862ms)\n",
      "downloading https://repo1.maven.org/maven2/com/microsoft/onnxruntime/onnxruntime_gpu/1.19.2/onnxruntime_gpu-1.19.2.jar ...\n",
      "\t[SUCCESSFUL ] com.microsoft.onnxruntime#onnxruntime_gpu;1.19.2!onnxruntime_gpu.jar (3080ms)\n",
      "downloading https://repo1.maven.org/maven2/com/johnsnowlabs/nlp/jsl-llamacpp-gpu_2.12/0.1.4/jsl-llamacpp-gpu_2.12-0.1.4.jar ...\n",
      "\t[SUCCESSFUL ] com.johnsnowlabs.nlp#jsl-llamacpp-gpu_2.12;0.1.4!jsl-llamacpp-gpu_2.12.jar (3595ms)\n",
      "downloading https://repo1.maven.org/maven2/com/johnsnowlabs/nlp/jsl-openvino-gpu_2.12/0.1.0/jsl-openvino-gpu_2.12-0.1.0.jar ...\n",
      "\t[SUCCESSFUL ] com.johnsnowlabs.nlp#jsl-openvino-gpu_2.12;0.1.0!jsl-openvino-gpu_2.12.jar (1317ms)\n",
      "downloading https://repo1.maven.org/maven2/com/amazonaws/aws-java-sdk-kms/1.12.500/aws-java-sdk-kms-1.12.500.jar ...\n",
      "\t[SUCCESSFUL ] com.amazonaws#aws-java-sdk-kms;1.12.500!aws-java-sdk-kms.jar (33ms)\n",
      "downloading https://repo1.maven.org/maven2/com/amazonaws/aws-java-sdk-core/1.12.500/aws-java-sdk-core-1.12.500.jar ...\n",
      "\t[SUCCESSFUL ] com.amazonaws#aws-java-sdk-core;1.12.500!aws-java-sdk-core.jar (38ms)\n",
      "downloading https://repo1.maven.org/maven2/com/amazonaws/jmespath-java/1.12.500/jmespath-java-1.12.500.jar ...\n",
      "\t[SUCCESSFUL ] com.amazonaws#jmespath-java;1.12.500!jmespath-java.jar (39ms)\n",
      "downloading https://repo1.maven.org/maven2/commons-logging/commons-logging/1.1.3/commons-logging-1.1.3.jar ...\n",
      "\t[SUCCESSFUL ] commons-logging#commons-logging;1.1.3!commons-logging.jar (27ms)\n",
      "downloading https://repo1.maven.org/maven2/commons-codec/commons-codec/1.15/commons-codec-1.15.jar ...\n",
      "\t[SUCCESSFUL ] commons-codec#commons-codec;1.15!commons-codec.jar (29ms)\n",
      "downloading https://repo1.maven.org/maven2/org/apache/httpcomponents/httpclient/4.5.13/httpclient-4.5.13.jar ...\n",
      "\t[SUCCESSFUL ] org.apache.httpcomponents#httpclient;4.5.13!httpclient.jar (33ms)\n",
      "downloading https://repo1.maven.org/maven2/software/amazon/ion/ion-java/1.0.2/ion-java-1.0.2.jar ...\n",
      "\t[SUCCESSFUL ] software.amazon.ion#ion-java;1.0.2!ion-java.jar(bundle) (33ms)\n",
      "downloading https://repo1.maven.org/maven2/joda-time/joda-time/2.8.1/joda-time-2.8.1.jar ...\n",
      "\t[SUCCESSFUL ] joda-time#joda-time;2.8.1!joda-time.jar (33ms)\n",
      "downloading https://repo1.maven.org/maven2/org/apache/httpcomponents/httpcore/4.4.13/httpcore-4.4.13.jar ...\n",
      "\t[SUCCESSFUL ] org.apache.httpcomponents#httpcore;4.4.13!httpcore.jar (29ms)\n",
      "downloading https://repo1.maven.org/maven2/it/unimi/dsi/fastutil/7.0.12/fastutil-7.0.12.jar ...\n",
      "\t[SUCCESSFUL ] it.unimi.dsi#fastutil;7.0.12!fastutil.jar (170ms)\n",
      "downloading https://repo1.maven.org/maven2/org/projectlombok/lombok/1.16.8/lombok-1.16.8.jar ...\n",
      "\t[SUCCESSFUL ] org.projectlombok#lombok;1.16.8!lombok.jar (39ms)\n",
      "downloading https://repo1.maven.org/maven2/com/google/guava/guava/31.1-jre/guava-31.1-jre.jar ...\n",
      "\t[SUCCESSFUL ] com.google.guava#guava;31.1-jre!guava.jar(bundle) (50ms)\n",
      "downloading https://repo1.maven.org/maven2/com/google/guava/failureaccess/1.0.1/failureaccess-1.0.1.jar ...\n",
      "\t[SUCCESSFUL ] com.google.guava#failureaccess;1.0.1!failureaccess.jar(bundle) (25ms)\n",
      "downloading https://repo1.maven.org/maven2/com/google/guava/listenablefuture/9999.0-empty-to-avoid-conflict-with-guava/listenablefuture-9999.0-empty-to-avoid-conflict-with-guava.jar ...\n",
      "\t[SUCCESSFUL ] com.google.guava#listenablefuture;9999.0-empty-to-avoid-conflict-with-guava!listenablefuture.jar (25ms)\n",
      "downloading https://repo1.maven.org/maven2/com/google/errorprone/error_prone_annotations/2.18.0/error_prone_annotations-2.18.0.jar ...\n",
      "\t[SUCCESSFUL ] com.google.errorprone#error_prone_annotations;2.18.0!error_prone_annotations.jar (25ms)\n",
      "downloading https://repo1.maven.org/maven2/com/google/j2objc/j2objc-annotations/1.3/j2objc-annotations-1.3.jar ...\n",
      "\t[SUCCESSFUL ] com.google.j2objc#j2objc-annotations;1.3!j2objc-annotations.jar (25ms)\n",
      "downloading https://repo1.maven.org/maven2/com/google/http-client/google-http-client/1.43.0/google-http-client-1.43.0.jar ...\n",
      "\t[SUCCESSFUL ] com.google.http-client#google-http-client;1.43.0!google-http-client.jar (29ms)\n",
      "downloading https://repo1.maven.org/maven2/io/opencensus/opencensus-contrib-http-util/0.31.1/opencensus-contrib-http-util-0.31.1.jar ...\n",
      "\t[SUCCESSFUL ] io.opencensus#opencensus-contrib-http-util;0.31.1!opencensus-contrib-http-util.jar (25ms)\n",
      "downloading https://repo1.maven.org/maven2/com/google/http-client/google-http-client-jackson2/1.43.0/google-http-client-jackson2-1.43.0.jar ...\n",
      "\t[SUCCESSFUL ] com.google.http-client#google-http-client-jackson2;1.43.0!google-http-client-jackson2.jar (26ms)\n",
      "downloading https://repo1.maven.org/maven2/com/google/http-client/google-http-client-gson/1.43.0/google-http-client-gson-1.43.0.jar ...\n",
      "\t[SUCCESSFUL ] com.google.http-client#google-http-client-gson;1.43.0!google-http-client-gson.jar (28ms)\n",
      "downloading https://repo1.maven.org/maven2/com/google/api-client/google-api-client/2.2.0/google-api-client-2.2.0.jar ...\n",
      "\t[SUCCESSFUL ] com.google.api-client#google-api-client;2.2.0!google-api-client.jar (29ms)\n",
      "downloading https://repo1.maven.org/maven2/com/google/oauth-client/google-oauth-client/1.34.1/google-oauth-client-1.34.1.jar ...\n",
      "\t[SUCCESSFUL ] com.google.oauth-client#google-oauth-client;1.34.1!google-oauth-client.jar (28ms)\n",
      "downloading https://repo1.maven.org/maven2/com/google/http-client/google-http-client-apache-v2/1.43.0/google-http-client-apache-v2-1.43.0.jar ...\n",
      "\t[SUCCESSFUL ] com.google.http-client#google-http-client-apache-v2;1.43.0!google-http-client-apache-v2.jar (29ms)\n",
      "downloading https://repo1.maven.org/maven2/com/google/apis/google-api-services-storage/v1-rev20220705-2.0.0/google-api-services-storage-v1-rev20220705-2.0.0.jar ...\n",
      "\t[SUCCESSFUL ] com.google.apis#google-api-services-storage;v1-rev20220705-2.0.0!google-api-services-storage.jar (31ms)\n",
      "downloading https://repo1.maven.org/maven2/com/google/code/gson/gson/2.10.1/gson-2.10.1.jar ...\n",
      "\t[SUCCESSFUL ] com.google.code.gson#gson;2.10.1!gson.jar (28ms)\n",
      "downloading https://repo1.maven.org/maven2/com/google/cloud/google-cloud-core/2.12.0/google-cloud-core-2.12.0.jar ...\n",
      "\t[SUCCESSFUL ] com.google.cloud#google-cloud-core;2.12.0!google-cloud-core.jar (30ms)\n",
      "downloading https://repo1.maven.org/maven2/io/grpc/grpc-context/1.53.0/grpc-context-1.53.0.jar ...\n",
      "\t[SUCCESSFUL ] io.grpc#grpc-context;1.53.0!grpc-context.jar (37ms)\n",
      "downloading https://repo1.maven.org/maven2/com/google/auto/value/auto-value-annotations/1.10.1/auto-value-annotations-1.10.1.jar ...\n",
      "\t[SUCCESSFUL ] com.google.auto.value#auto-value-annotations;1.10.1!auto-value-annotations.jar (27ms)\n",
      "downloading https://repo1.maven.org/maven2/com/google/auto/value/auto-value/1.10.1/auto-value-1.10.1.jar ...\n",
      "\t[SUCCESSFUL ] com.google.auto.value#auto-value;1.10.1!auto-value.jar (70ms)\n",
      "downloading https://repo1.maven.org/maven2/javax/annotation/javax.annotation-api/1.3.2/javax.annotation-api-1.3.2.jar ...\n",
      "\t[SUCCESSFUL ] javax.annotation#javax.annotation-api;1.3.2!javax.annotation-api.jar (25ms)\n",
      "downloading https://repo1.maven.org/maven2/com/google/cloud/google-cloud-core-http/2.12.0/google-cloud-core-http-2.12.0.jar ...\n",
      "\t[SUCCESSFUL ] com.google.cloud#google-cloud-core-http;2.12.0!google-cloud-core-http.jar (28ms)\n",
      "downloading https://repo1.maven.org/maven2/com/google/http-client/google-http-client-appengine/1.43.0/google-http-client-appengine-1.43.0.jar ...\n",
      "\t[SUCCESSFUL ] com.google.http-client#google-http-client-appengine;1.43.0!google-http-client-appengine.jar (29ms)\n",
      "downloading https://repo1.maven.org/maven2/com/google/api/gax-httpjson/0.108.2/gax-httpjson-0.108.2.jar ...\n",
      "\t[SUCCESSFUL ] com.google.api#gax-httpjson;0.108.2!gax-httpjson.jar (28ms)\n",
      "downloading https://repo1.maven.org/maven2/com/google/cloud/google-cloud-core-grpc/2.12.0/google-cloud-core-grpc-2.12.0.jar ...\n",
      "\t[SUCCESSFUL ] com.google.cloud#google-cloud-core-grpc;2.12.0!google-cloud-core-grpc.jar (33ms)\n",
      "downloading https://repo1.maven.org/maven2/io/grpc/grpc-alts/1.53.0/grpc-alts-1.53.0.jar ...\n",
      "\t[SUCCESSFUL ] io.grpc#grpc-alts;1.53.0!grpc-alts.jar (29ms)\n",
      "downloading https://repo1.maven.org/maven2/io/grpc/grpc-grpclb/1.53.0/grpc-grpclb-1.53.0.jar ...\n",
      "\t[SUCCESSFUL ] io.grpc#grpc-grpclb;1.53.0!grpc-grpclb.jar (39ms)\n",
      "downloading https://repo1.maven.org/maven2/org/conscrypt/conscrypt-openjdk-uber/2.5.2/conscrypt-openjdk-uber-2.5.2.jar ...\n",
      "\t[SUCCESSFUL ] org.conscrypt#conscrypt-openjdk-uber;2.5.2!conscrypt-openjdk-uber.jar (60ms)\n",
      "downloading https://repo1.maven.org/maven2/io/grpc/grpc-auth/1.53.0/grpc-auth-1.53.0.jar ...\n",
      "\t[SUCCESSFUL ] io.grpc#grpc-auth;1.53.0!grpc-auth.jar (28ms)\n",
      "downloading https://repo1.maven.org/maven2/io/grpc/grpc-protobuf/1.53.0/grpc-protobuf-1.53.0.jar ...\n",
      "\t[SUCCESSFUL ] io.grpc#grpc-protobuf;1.53.0!grpc-protobuf.jar (28ms)\n",
      "downloading https://repo1.maven.org/maven2/io/grpc/grpc-protobuf-lite/1.53.0/grpc-protobuf-lite-1.53.0.jar ...\n",
      "\t[SUCCESSFUL ] io.grpc#grpc-protobuf-lite;1.53.0!grpc-protobuf-lite.jar (28ms)\n",
      "downloading https://repo1.maven.org/maven2/io/grpc/grpc-core/1.53.0/grpc-core-1.53.0.jar ...\n",
      "\t[SUCCESSFUL ] io.grpc#grpc-core;1.53.0!grpc-core.jar (35ms)\n",
      "downloading https://repo1.maven.org/maven2/com/google/api/gax/2.23.2/gax-2.23.2.jar ...\n",
      "\t[SUCCESSFUL ] com.google.api#gax;2.23.2!gax.jar (30ms)\n",
      "downloading https://repo1.maven.org/maven2/com/google/api/gax-grpc/2.23.2/gax-grpc-2.23.2.jar ...\n",
      "\t[SUCCESSFUL ] com.google.api#gax-grpc;2.23.2!gax-grpc.jar (31ms)\n",
      "downloading https://repo1.maven.org/maven2/com/google/auth/google-auth-library-credentials/1.16.0/google-auth-library-credentials-1.16.0.jar ...\n",
      "\t[SUCCESSFUL ] com.google.auth#google-auth-library-credentials;1.16.0!google-auth-library-credentials.jar (30ms)\n",
      "downloading https://repo1.maven.org/maven2/com/google/auth/google-auth-library-oauth2-http/1.16.0/google-auth-library-oauth2-http-1.16.0.jar ...\n",
      "\t[SUCCESSFUL ] com.google.auth#google-auth-library-oauth2-http;1.16.0!google-auth-library-oauth2-http.jar (28ms)\n",
      "downloading https://repo1.maven.org/maven2/com/google/api/api-common/2.6.2/api-common-2.6.2.jar ...\n",
      "\t[SUCCESSFUL ] com.google.api#api-common;2.6.2!api-common.jar (31ms)\n",
      "downloading https://repo1.maven.org/maven2/io/opencensus/opencensus-api/0.31.1/opencensus-api-0.31.1.jar ...\n",
      "\t[SUCCESSFUL ] io.opencensus#opencensus-api;0.31.1!opencensus-api.jar (30ms)\n",
      "downloading https://repo1.maven.org/maven2/com/google/api/grpc/proto-google-iam-v1/1.9.2/proto-google-iam-v1-1.9.2.jar ...\n",
      "\t[SUCCESSFUL ] com.google.api.grpc#proto-google-iam-v1;1.9.2!proto-google-iam-v1.jar (30ms)\n",
      "downloading https://repo1.maven.org/maven2/com/google/protobuf/protobuf-java/3.21.12/protobuf-java-3.21.12.jar ...\n",
      "\t[SUCCESSFUL ] com.google.protobuf#protobuf-java;3.21.12!protobuf-java.jar(bundle) (49ms)\n",
      "downloading https://repo1.maven.org/maven2/com/google/protobuf/protobuf-java-util/3.21.12/protobuf-java-util-3.21.12.jar ...\n",
      "\t[SUCCESSFUL ] com.google.protobuf#protobuf-java-util;3.21.12!protobuf-java-util.jar(bundle) (29ms)\n",
      "downloading https://repo1.maven.org/maven2/com/google/api/grpc/proto-google-common-protos/2.14.2/proto-google-common-protos-2.14.2.jar ...\n",
      "\t[SUCCESSFUL ] com.google.api.grpc#proto-google-common-protos;2.14.2!proto-google-common-protos.jar (47ms)\n",
      "downloading https://repo1.maven.org/maven2/org/threeten/threetenbp/1.6.5/threetenbp-1.6.5.jar ...\n",
      "\t[SUCCESSFUL ] org.threeten#threetenbp;1.6.5!threetenbp.jar (32ms)\n",
      "downloading https://repo1.maven.org/maven2/com/google/api/grpc/proto-google-cloud-storage-v2/2.20.1-alpha/proto-google-cloud-storage-v2-2.20.1-alpha.jar ...\n",
      "\t[SUCCESSFUL ] com.google.api.grpc#proto-google-cloud-storage-v2;2.20.1-alpha!proto-google-cloud-storage-v2.jar (36ms)\n",
      "downloading https://repo1.maven.org/maven2/com/google/api/grpc/grpc-google-cloud-storage-v2/2.20.1-alpha/grpc-google-cloud-storage-v2-2.20.1-alpha.jar ...\n",
      "\t[SUCCESSFUL ] com.google.api.grpc#grpc-google-cloud-storage-v2;2.20.1-alpha!grpc-google-cloud-storage-v2.jar (28ms)\n",
      "downloading https://repo1.maven.org/maven2/com/google/api/grpc/gapic-google-cloud-storage-v2/2.20.1-alpha/gapic-google-cloud-storage-v2-2.20.1-alpha.jar ...\n",
      "\t[SUCCESSFUL ] com.google.api.grpc#gapic-google-cloud-storage-v2;2.20.1-alpha!gapic-google-cloud-storage-v2.jar (28ms)\n",
      "downloading https://repo1.maven.org/maven2/com/google/code/findbugs/jsr305/3.0.2/jsr305-3.0.2.jar ...\n",
      "\t[SUCCESSFUL ] com.google.code.findbugs#jsr305;3.0.2!jsr305.jar (26ms)\n",
      "downloading https://repo1.maven.org/maven2/io/grpc/grpc-api/1.53.0/grpc-api-1.53.0.jar ...\n",
      "\t[SUCCESSFUL ] io.grpc#grpc-api;1.53.0!grpc-api.jar (35ms)\n",
      "downloading https://repo1.maven.org/maven2/io/grpc/grpc-stub/1.53.0/grpc-stub-1.53.0.jar ...\n",
      "\t[SUCCESSFUL ] io.grpc#grpc-stub;1.53.0!grpc-stub.jar (30ms)\n",
      "downloading https://repo1.maven.org/maven2/org/checkerframework/checker-qual/3.31.0/checker-qual-3.31.0.jar ...\n",
      "\t[SUCCESSFUL ] org.checkerframework#checker-qual;3.31.0!checker-qual.jar (33ms)\n",
      "downloading https://repo1.maven.org/maven2/io/perfmark/perfmark-api/0.26.0/perfmark-api-0.26.0.jar ...\n",
      "\t[SUCCESSFUL ] io.perfmark#perfmark-api;0.26.0!perfmark-api.jar (25ms)\n",
      "downloading https://repo1.maven.org/maven2/com/google/android/annotations/4.1.1.4/annotations-4.1.1.4.jar ...\n",
      "\t[SUCCESSFUL ] com.google.android#annotations;4.1.1.4!annotations.jar (26ms)\n",
      "downloading https://repo1.maven.org/maven2/org/codehaus/mojo/animal-sniffer-annotations/1.22/animal-sniffer-annotations-1.22.jar ...\n",
      "\t[SUCCESSFUL ] org.codehaus.mojo#animal-sniffer-annotations;1.22!animal-sniffer-annotations.jar (31ms)\n",
      "downloading https://repo1.maven.org/maven2/io/opencensus/opencensus-proto/0.2.0/opencensus-proto-0.2.0.jar ...\n",
      "\t[SUCCESSFUL ] io.opencensus#opencensus-proto;0.2.0!opencensus-proto.jar (38ms)\n",
      "downloading https://repo1.maven.org/maven2/io/grpc/grpc-services/1.53.0/grpc-services-1.53.0.jar ...\n",
      "\t[SUCCESSFUL ] io.grpc#grpc-services;1.53.0!grpc-services.jar (36ms)\n",
      "downloading https://repo1.maven.org/maven2/com/google/re2j/re2j/1.6/re2j-1.6.jar ...\n",
      "\t[SUCCESSFUL ] com.google.re2j#re2j;1.6!re2j.jar (26ms)\n",
      "downloading https://repo1.maven.org/maven2/io/grpc/grpc-netty-shaded/1.53.0/grpc-netty-shaded-1.53.0.jar ...\n",
      "\t[SUCCESSFUL ] io.grpc#grpc-netty-shaded;1.53.0!grpc-netty-shaded.jar (108ms)\n",
      "downloading https://repo1.maven.org/maven2/io/grpc/grpc-googleapis/1.53.0/grpc-googleapis-1.53.0.jar ...\n",
      "\t[SUCCESSFUL ] io.grpc#grpc-googleapis;1.53.0!grpc-googleapis.jar (28ms)\n",
      "downloading https://repo1.maven.org/maven2/io/grpc/grpc-xds/1.53.0/grpc-xds-1.53.0.jar ...\n",
      "\t[SUCCESSFUL ] io.grpc#grpc-xds;1.53.0!grpc-xds.jar (133ms)\n",
      "downloading https://repo1.maven.org/maven2/dk/brics/automaton/automaton/1.11-8/automaton-1.11-8.jar ...\n",
      "\t[SUCCESSFUL ] dk.brics.automaton#automaton;1.11-8!automaton.jar (29ms)\n",
      "downloading https://repo1.maven.org/maven2/jakarta/activation/jakarta.activation-api/2.1.3/jakarta.activation-api-2.1.3.jar ...\n",
      "\t[SUCCESSFUL ] jakarta.activation#jakarta.activation-api;2.1.3!jakarta.activation-api.jar (25ms)\n",
      "downloading https://repo1.maven.org/maven2/org/eclipse/angus/angus-activation/2.0.2/angus-activation-2.0.2.jar ...\n",
      "\t[SUCCESSFUL ] org.eclipse.angus#angus-activation;2.0.2!angus-activation.jar (25ms)\n",
      "downloading https://repo1.maven.org/maven2/org/apache/poi/poi/4.1.2/poi-4.1.2.jar ...\n",
      "\t[SUCCESSFUL ] org.apache.poi#poi;4.1.2!poi.jar (50ms)\n",
      "downloading https://repo1.maven.org/maven2/org/apache/poi/poi-ooxml-schemas/4.1.2/poi-ooxml-schemas-4.1.2.jar ...\n",
      "\t[SUCCESSFUL ] org.apache.poi#poi-ooxml-schemas;4.1.2!poi-ooxml-schemas.jar (98ms)\n",
      "downloading https://repo1.maven.org/maven2/org/apache/commons/commons-compress/1.19/commons-compress-1.19.jar ...\n",
      "\t[SUCCESSFUL ] org.apache.commons#commons-compress;1.19!commons-compress.jar (40ms)\n",
      "downloading https://repo1.maven.org/maven2/com/github/virtuald/curvesapi/1.06/curvesapi-1.06.jar ...\n",
      "\t[SUCCESSFUL ] com.github.virtuald#curvesapi;1.06!curvesapi.jar (29ms)\n",
      "downloading https://repo1.maven.org/maven2/org/apache/commons/commons-collections4/4.4/commons-collections4-4.4.jar ...\n",
      "\t[SUCCESSFUL ] org.apache.commons#commons-collections4;4.4!commons-collections4.jar (32ms)\n",
      "downloading https://repo1.maven.org/maven2/org/apache/commons/commons-math3/3.6.1/commons-math3-3.6.1.jar ...\n",
      "\t[SUCCESSFUL ] org.apache.commons#commons-math3;3.6.1!commons-math3.jar (42ms)\n",
      "downloading https://repo1.maven.org/maven2/com/zaxxer/SparseBitSet/1.2/SparseBitSet-1.2.jar ...\n",
      "\t[SUCCESSFUL ] com.zaxxer#SparseBitSet;1.2!SparseBitSet.jar (27ms)\n",
      "downloading https://repo1.maven.org/maven2/org/apache/xmlbeans/xmlbeans/3.1.0/xmlbeans-3.1.0.jar ...\n",
      "\t[SUCCESSFUL ] org.apache.xmlbeans#xmlbeans;3.1.0!xmlbeans.jar (52ms)\n",
      "downloading https://repo1.maven.org/maven2/org/jetbrains/annotations/24.1.0/annotations-24.1.0.jar ...\n",
      "\t[SUCCESSFUL ] org.jetbrains#annotations;24.1.0!annotations.jar (30ms)\n",
      ":: resolution report :: resolve 12762ms :: artifacts dl 17109ms\n",
      "\t:: modules in use:\n",
      "\tcom.amazonaws#aws-java-sdk-core;1.12.500 from central in [default]\n",
      "\tcom.amazonaws#aws-java-sdk-kms;1.12.500 from central in [default]\n",
      "\tcom.amazonaws#aws-java-sdk-s3;1.12.500 from central in [default]\n",
      "\tcom.amazonaws#jmespath-java;1.12.500 from central in [default]\n",
      "\tcom.github.universal-automata#liblevenshtein;3.0.0 from central in [default]\n",
      "\tcom.github.virtuald#curvesapi;1.06 from central in [default]\n",
      "\tcom.google.android#annotations;4.1.1.4 from central in [default]\n",
      "\tcom.google.api#api-common;2.6.2 from central in [default]\n",
      "\tcom.google.api#gax;2.23.2 from central in [default]\n",
      "\tcom.google.api#gax-grpc;2.23.2 from central in [default]\n",
      "\tcom.google.api#gax-httpjson;0.108.2 from central in [default]\n",
      "\tcom.google.api-client#google-api-client;2.2.0 from central in [default]\n",
      "\tcom.google.api.grpc#gapic-google-cloud-storage-v2;2.20.1-alpha from central in [default]\n",
      "\tcom.google.api.grpc#grpc-google-cloud-storage-v2;2.20.1-alpha from central in [default]\n",
      "\tcom.google.api.grpc#proto-google-cloud-storage-v2;2.20.1-alpha from central in [default]\n",
      "\tcom.google.api.grpc#proto-google-common-protos;2.14.2 from central in [default]\n",
      "\tcom.google.api.grpc#proto-google-iam-v1;1.9.2 from central in [default]\n",
      "\tcom.google.apis#google-api-services-storage;v1-rev20220705-2.0.0 from central in [default]\n",
      "\tcom.google.auth#google-auth-library-credentials;1.16.0 from central in [default]\n",
      "\tcom.google.auth#google-auth-library-oauth2-http;1.16.0 from central in [default]\n",
      "\tcom.google.auto.value#auto-value;1.10.1 from central in [default]\n",
      "\tcom.google.auto.value#auto-value-annotations;1.10.1 from central in [default]\n",
      "\tcom.google.cloud#google-cloud-core;2.12.0 from central in [default]\n",
      "\tcom.google.cloud#google-cloud-core-grpc;2.12.0 from central in [default]\n",
      "\tcom.google.cloud#google-cloud-core-http;2.12.0 from central in [default]\n",
      "\tcom.google.cloud#google-cloud-storage;2.20.1 from central in [default]\n",
      "\tcom.google.code.findbugs#jsr305;3.0.2 from central in [default]\n",
      "\tcom.google.code.gson#gson;2.10.1 from central in [default]\n",
      "\tcom.google.errorprone#error_prone_annotations;2.18.0 from central in [default]\n",
      "\tcom.google.guava#failureaccess;1.0.1 from central in [default]\n",
      "\tcom.google.guava#guava;31.1-jre from central in [default]\n",
      "\tcom.google.guava#listenablefuture;9999.0-empty-to-avoid-conflict-with-guava from central in [default]\n",
      "\tcom.google.http-client#google-http-client;1.43.0 from central in [default]\n",
      "\tcom.google.http-client#google-http-client-apache-v2;1.43.0 from central in [default]\n",
      "\tcom.google.http-client#google-http-client-appengine;1.43.0 from central in [default]\n",
      "\tcom.google.http-client#google-http-client-gson;1.43.0 from central in [default]\n",
      "\tcom.google.http-client#google-http-client-jackson2;1.43.0 from central in [default]\n",
      "\tcom.google.j2objc#j2objc-annotations;1.3 from central in [default]\n",
      "\tcom.google.oauth-client#google-oauth-client;1.34.1 from central in [default]\n",
      "\tcom.google.protobuf#protobuf-java;3.21.12 from central in [default]\n",
      "\tcom.google.protobuf#protobuf-java-util;3.21.12 from central in [default]\n",
      "\tcom.google.re2j#re2j;1.6 from central in [default]\n",
      "\tcom.johnsnowlabs.nlp#jsl-llamacpp-gpu_2.12;0.1.4 from central in [default]\n",
      "\tcom.johnsnowlabs.nlp#jsl-openvino-gpu_2.12;0.1.0 from central in [default]\n",
      "\tcom.johnsnowlabs.nlp#spark-nlp-gpu_2.12;5.5.3 from central in [default]\n",
      "\tcom.johnsnowlabs.nlp#tensorflow-gpu_2.12;0.4.4 from central in [default]\n",
      "\tcom.microsoft.onnxruntime#onnxruntime_gpu;1.19.2 from central in [default]\n",
      "\tcom.navigamez#greex;1.0 from central in [default]\n",
      "\tcom.typesafe#config;1.4.2 from central in [default]\n",
      "\tcom.zaxxer#SparseBitSet;1.2 from central in [default]\n",
      "\tcommons-codec#commons-codec;1.15 from central in [default]\n",
      "\tcommons-logging#commons-logging;1.1.3 from central in [default]\n",
      "\tdk.brics.automaton#automaton;1.11-8 from central in [default]\n",
      "\tio.grpc#grpc-alts;1.53.0 from central in [default]\n",
      "\tio.grpc#grpc-api;1.53.0 from central in [default]\n",
      "\tio.grpc#grpc-auth;1.53.0 from central in [default]\n",
      "\tio.grpc#grpc-context;1.53.0 from central in [default]\n",
      "\tio.grpc#grpc-core;1.53.0 from central in [default]\n",
      "\tio.grpc#grpc-googleapis;1.53.0 from central in [default]\n",
      "\tio.grpc#grpc-grpclb;1.53.0 from central in [default]\n",
      "\tio.grpc#grpc-netty-shaded;1.53.0 from central in [default]\n",
      "\tio.grpc#grpc-protobuf;1.53.0 from central in [default]\n",
      "\tio.grpc#grpc-protobuf-lite;1.53.0 from central in [default]\n",
      "\tio.grpc#grpc-services;1.53.0 from central in [default]\n",
      "\tio.grpc#grpc-stub;1.53.0 from central in [default]\n",
      "\tio.grpc#grpc-xds;1.53.0 from central in [default]\n",
      "\tio.opencensus#opencensus-api;0.31.1 from central in [default]\n",
      "\tio.opencensus#opencensus-contrib-http-util;0.31.1 from central in [default]\n",
      "\tio.opencensus#opencensus-proto;0.2.0 from central in [default]\n",
      "\tio.perfmark#perfmark-api;0.26.0 from central in [default]\n",
      "\tit.unimi.dsi#fastutil;7.0.12 from central in [default]\n",
      "\tjakarta.activation#jakarta.activation-api;2.1.3 from central in [default]\n",
      "\tjakarta.mail#jakarta.mail-api;2.1.3 from central in [default]\n",
      "\tjavax.annotation#javax.annotation-api;1.3.2 from central in [default]\n",
      "\tjoda-time#joda-time;2.8.1 from central in [default]\n",
      "\torg.apache.commons#commons-collections4;4.4 from central in [default]\n",
      "\torg.apache.commons#commons-compress;1.19 from central in [default]\n",
      "\torg.apache.commons#commons-math3;3.6.1 from central in [default]\n",
      "\torg.apache.httpcomponents#httpclient;4.5.13 from central in [default]\n",
      "\torg.apache.httpcomponents#httpcore;4.4.13 from central in [default]\n",
      "\torg.apache.poi#poi;4.1.2 from central in [default]\n",
      "\torg.apache.poi#poi-ooxml;4.1.2 from central in [default]\n",
      "\torg.apache.poi#poi-ooxml-schemas;4.1.2 from central in [default]\n",
      "\torg.apache.poi#poi-scratchpad;4.1.2 from central in [default]\n",
      "\torg.apache.xmlbeans#xmlbeans;3.1.0 from central in [default]\n",
      "\torg.checkerframework#checker-qual;3.31.0 from central in [default]\n",
      "\torg.codehaus.mojo#animal-sniffer-annotations;1.22 from central in [default]\n",
      "\torg.conscrypt#conscrypt-openjdk-uber;2.5.2 from central in [default]\n",
      "\torg.eclipse.angus#angus-activation;2.0.2 from central in [default]\n",
      "\torg.eclipse.angus#angus-mail;2.0.3 from central in [default]\n",
      "\torg.jetbrains#annotations;24.1.0 from central in [default]\n",
      "\torg.jsoup#jsoup;1.18.2 from central in [default]\n",
      "\torg.projectlombok#lombok;1.16.8 from central in [default]\n",
      "\torg.rocksdb#rocksdbjni;6.29.5 from central in [default]\n",
      "\torg.threeten#threetenbp;1.6.5 from central in [default]\n",
      "\tsoftware.amazon.ion#ion-java;1.0.2 from central in [default]\n",
      "\t:: evicted modules:\n",
      "\tcommons-logging#commons-logging;1.2 by [commons-logging#commons-logging;1.1.3] in [default]\n",
      "\tcommons-codec#commons-codec;1.11 by [commons-codec#commons-codec;1.15] in [default]\n",
      "\tcom.google.protobuf#protobuf-java-util;3.0.0-beta-3 by [com.google.protobuf#protobuf-java-util;3.21.12] in [default]\n",
      "\tcom.google.protobuf#protobuf-java;3.0.0-beta-3 by [com.google.protobuf#protobuf-java;3.21.12] in [default]\n",
      "\tcom.google.code.gson#gson;2.3 by [com.google.code.gson#gson;2.10.1] in [default]\n",
      "\tcommons-codec#commons-codec;1.13 by [commons-codec#commons-codec;1.15] in [default]\n",
      "\t---------------------------------------------------------------------\n",
      "\t|                  |            modules            ||   artifacts   |\n",
      "\t|       conf       | number| search|dwnlded|evicted|| number|dwnlded|\n",
      "\t---------------------------------------------------------------------\n",
      "\t|      default     |  102  |   99  |   99  |   6   ||   96  |   96  |\n",
      "\t---------------------------------------------------------------------\n",
      ":: retrieving :: org.apache.spark#spark-submit-parent-320aaabe-60d9-43d4-9ccc-63b6218da3c3\n",
      "\tconfs: [default]\n",
      "\t96 artifacts copied, 0 already retrieved (1965249kB/1954ms)\n",
      "25/05/06 22:31:12 WARN NativeCodeLoader: Unable to load native-hadoop library for your platform... using builtin-java classes where applicable\n",
      "Setting default log level to \"WARN\".\n",
      "To adjust logging level use sc.setLogLevel(newLevel). For SparkR, use setLogLevel(newLevel).\n",
      "25/05/06 22:31:30 ERROR Inbox: Ignoring error\n",
      "java.lang.NullPointerException\n",
      "\tat org.apache.spark.storage.BlockManagerMasterEndpoint.org$apache$spark$storage$BlockManagerMasterEndpoint$$register(BlockManagerMasterEndpoint.scala:677)\n",
      "\tat org.apache.spark.storage.BlockManagerMasterEndpoint$$anonfun$receiveAndReply$1.applyOrElse(BlockManagerMasterEndpoint.scala:133)\n",
      "\tat org.apache.spark.rpc.netty.Inbox.$anonfun$process$1(Inbox.scala:103)\n",
      "\tat org.apache.spark.rpc.netty.Inbox.safelyCall(Inbox.scala:213)\n",
      "\tat org.apache.spark.rpc.netty.Inbox.process(Inbox.scala:100)\n",
      "\tat org.apache.spark.rpc.netty.MessageLoop.org$apache$spark$rpc$netty$MessageLoop$$receiveLoop(MessageLoop.scala:75)\n",
      "\tat org.apache.spark.rpc.netty.MessageLoop$$anon$1.run(MessageLoop.scala:41)\n",
      "\tat java.base/java.util.concurrent.ThreadPoolExecutor.runWorker(ThreadPoolExecutor.java:1128)\n",
      "\tat java.base/java.util.concurrent.ThreadPoolExecutor$Worker.run(ThreadPoolExecutor.java:628)\n",
      "\tat java.base/java.lang.Thread.run(Thread.java:829)\n",
      "25/05/06 22:31:30 WARN Executor: Issue communicating with driver in heartbeater\n",
      "org.apache.spark.SparkException: Exception thrown in awaitResult: \n",
      "\tat org.apache.spark.util.SparkThreadUtils$.awaitResult(SparkThreadUtils.scala:56)\n",
      "\tat org.apache.spark.util.ThreadUtils$.awaitResult(ThreadUtils.scala:310)\n",
      "\tat org.apache.spark.rpc.RpcTimeout.awaitResult(RpcTimeout.scala:75)\n",
      "\tat org.apache.spark.rpc.RpcEndpointRef.askSync(RpcEndpointRef.scala:101)\n",
      "\tat org.apache.spark.rpc.RpcEndpointRef.askSync(RpcEndpointRef.scala:85)\n",
      "\tat org.apache.spark.storage.BlockManagerMaster.registerBlockManager(BlockManagerMaster.scala:80)\n",
      "\tat org.apache.spark.storage.BlockManager.reregister(BlockManager.scala:642)\n",
      "\tat org.apache.spark.executor.Executor.reportHeartBeat(Executor.scala:1223)\n",
      "\tat org.apache.spark.executor.Executor.$anonfun$heartbeater$1(Executor.scala:295)\n",
      "\tat scala.runtime.java8.JFunction0$mcV$sp.apply(JFunction0$mcV$sp.java:23)\n",
      "\tat org.apache.spark.util.Utils$.logUncaughtExceptions(Utils.scala:1928)\n",
      "\tat org.apache.spark.Heartbeater$$anon$1.run(Heartbeater.scala:46)\n",
      "\tat java.base/java.util.concurrent.Executors$RunnableAdapter.call(Executors.java:515)\n",
      "\tat java.base/java.util.concurrent.FutureTask.runAndReset(FutureTask.java:305)\n",
      "\tat java.base/java.util.concurrent.ScheduledThreadPoolExecutor$ScheduledFutureTask.run(ScheduledThreadPoolExecutor.java:305)\n",
      "\tat java.base/java.util.concurrent.ThreadPoolExecutor.runWorker(ThreadPoolExecutor.java:1128)\n",
      "\tat java.base/java.util.concurrent.ThreadPoolExecutor$Worker.run(ThreadPoolExecutor.java:628)\n",
      "\tat java.base/java.lang.Thread.run(Thread.java:829)\n",
      "Caused by: java.lang.NullPointerException\n",
      "\tat org.apache.spark.storage.BlockManagerMasterEndpoint.org$apache$spark$storage$BlockManagerMasterEndpoint$$register(BlockManagerMasterEndpoint.scala:677)\n",
      "\tat org.apache.spark.storage.BlockManagerMasterEndpoint$$anonfun$receiveAndReply$1.applyOrElse(BlockManagerMasterEndpoint.scala:133)\n",
      "\tat org.apache.spark.rpc.netty.Inbox.$anonfun$process$1(Inbox.scala:103)\n",
      "\tat org.apache.spark.rpc.netty.Inbox.safelyCall(Inbox.scala:213)\n",
      "\tat org.apache.spark.rpc.netty.Inbox.process(Inbox.scala:100)\n",
      "\tat org.apache.spark.rpc.netty.MessageLoop.org$apache$spark$rpc$netty$MessageLoop$$receiveLoop(MessageLoop.scala:75)\n",
      "\tat org.apache.spark.rpc.netty.MessageLoop$$anon$1.run(MessageLoop.scala:41)\n",
      "\t... 3 more\n",
      "25/05/06 22:31:40 ERROR Inbox: Ignoring error\n",
      "java.lang.NullPointerException\n",
      "\tat org.apache.spark.storage.BlockManagerMasterEndpoint.org$apache$spark$storage$BlockManagerMasterEndpoint$$register(BlockManagerMasterEndpoint.scala:677)\n",
      "\tat org.apache.spark.storage.BlockManagerMasterEndpoint$$anonfun$receiveAndReply$1.applyOrElse(BlockManagerMasterEndpoint.scala:133)\n",
      "\tat org.apache.spark.rpc.netty.Inbox.$anonfun$process$1(Inbox.scala:103)\n",
      "\tat org.apache.spark.rpc.netty.Inbox.safelyCall(Inbox.scala:213)\n",
      "\tat org.apache.spark.rpc.netty.Inbox.process(Inbox.scala:100)\n",
      "\tat org.apache.spark.rpc.netty.MessageLoop.org$apache$spark$rpc$netty$MessageLoop$$receiveLoop(MessageLoop.scala:75)\n",
      "\tat org.apache.spark.rpc.netty.MessageLoop$$anon$1.run(MessageLoop.scala:41)\n",
      "\tat java.base/java.util.concurrent.ThreadPoolExecutor.runWorker(ThreadPoolExecutor.java:1128)\n",
      "\tat java.base/java.util.concurrent.ThreadPoolExecutor$Worker.run(ThreadPoolExecutor.java:628)\n",
      "\tat java.base/java.lang.Thread.run(Thread.java:829)\n",
      "25/05/06 22:31:40 WARN Executor: Issue communicating with driver in heartbeater\n",
      "org.apache.spark.SparkException: Exception thrown in awaitResult: \n",
      "\tat org.apache.spark.util.SparkThreadUtils$.awaitResult(SparkThreadUtils.scala:56)\n",
      "\tat org.apache.spark.util.ThreadUtils$.awaitResult(ThreadUtils.scala:310)\n",
      "\tat org.apache.spark.rpc.RpcTimeout.awaitResult(RpcTimeout.scala:75)\n",
      "\tat org.apache.spark.rpc.RpcEndpointRef.askSync(RpcEndpointRef.scala:101)\n",
      "\tat org.apache.spark.rpc.RpcEndpointRef.askSync(RpcEndpointRef.scala:85)\n",
      "\tat org.apache.spark.storage.BlockManagerMaster.registerBlockManager(BlockManagerMaster.scala:80)\n",
      "\tat org.apache.spark.storage.BlockManager.reregister(BlockManager.scala:642)\n",
      "\tat org.apache.spark.executor.Executor.reportHeartBeat(Executor.scala:1223)\n",
      "\tat org.apache.spark.executor.Executor.$anonfun$heartbeater$1(Executor.scala:295)\n",
      "\tat scala.runtime.java8.JFunction0$mcV$sp.apply(JFunction0$mcV$sp.java:23)\n",
      "\tat org.apache.spark.util.Utils$.logUncaughtExceptions(Utils.scala:1928)\n",
      "\tat org.apache.spark.Heartbeater$$anon$1.run(Heartbeater.scala:46)\n",
      "\tat java.base/java.util.concurrent.Executors$RunnableAdapter.call(Executors.java:515)\n",
      "\tat java.base/java.util.concurrent.FutureTask.runAndReset(FutureTask.java:305)\n",
      "\tat java.base/java.util.concurrent.ScheduledThreadPoolExecutor$ScheduledFutureTask.run(ScheduledThreadPoolExecutor.java:305)\n",
      "\tat java.base/java.util.concurrent.ThreadPoolExecutor.runWorker(ThreadPoolExecutor.java:1128)\n",
      "\tat java.base/java.util.concurrent.ThreadPoolExecutor$Worker.run(ThreadPoolExecutor.java:628)\n",
      "\tat java.base/java.lang.Thread.run(Thread.java:829)\n",
      "Caused by: java.lang.NullPointerException\n",
      "\tat org.apache.spark.storage.BlockManagerMasterEndpoint.org$apache$spark$storage$BlockManagerMasterEndpoint$$register(BlockManagerMasterEndpoint.scala:677)\n",
      "\tat org.apache.spark.storage.BlockManagerMasterEndpoint$$anonfun$receiveAndReply$1.applyOrElse(BlockManagerMasterEndpoint.scala:133)\n",
      "\tat org.apache.spark.rpc.netty.Inbox.$anonfun$process$1(Inbox.scala:103)\n",
      "\tat org.apache.spark.rpc.netty.Inbox.safelyCall(Inbox.scala:213)\n",
      "\tat org.apache.spark.rpc.netty.Inbox.process(Inbox.scala:100)\n",
      "\tat org.apache.spark.rpc.netty.MessageLoop.org$apache$spark$rpc$netty$MessageLoop$$receiveLoop(MessageLoop.scala:75)\n",
      "\tat org.apache.spark.rpc.netty.MessageLoop$$anon$1.run(MessageLoop.scala:41)\n",
      "\t... 3 more\n"
     ]
    },
    {
     "name": "stdout",
     "output_type": "stream",
     "text": [
      "Warning::Spark Session already created, some configs may not take.\n"
     ]
    },
    {
     "name": "stderr",
     "output_type": "stream",
     "text": [
      "25/05/06 22:31:50 WARN SparkSession: Using an existing Spark session; only runtime SQL configurations will take effect.\n"
     ]
    },
    {
     "data": {
      "text/html": [
       "\n",
       "            <div>\n",
       "                <p><b>SparkSession - in-memory</b></p>\n",
       "                \n",
       "        <div>\n",
       "            <p><b>SparkContext</b></p>\n",
       "\n",
       "            <p><a href=\"http://3dd6d8d0bea6:4040\">Spark UI</a></p>\n",
       "\n",
       "            <dl>\n",
       "              <dt>Version</dt>\n",
       "                <dd><code>v3.5.4</code></dd>\n",
       "              <dt>Master</dt>\n",
       "                <dd><code>local[*]</code></dd>\n",
       "              <dt>AppName</dt>\n",
       "                <dd><code>Hinglish Tweets Sentiment Prediction</code></dd>\n",
       "            </dl>\n",
       "        </div>\n",
       "        \n",
       "            </div>\n",
       "        "
      ],
      "text/plain": [
       "<pyspark.sql.session.SparkSession at 0x793c8fd29dd0>"
      ]
     },
     "execution_count": 4,
     "metadata": {},
     "output_type": "execute_result"
    }
   ],
   "source": [
    "spark = SparkSession.builder \\\n",
    "    .appName(\"Hinglish Tweets Sentiment Prediction\") \\\n",
    "    .config(\"spark.driver.memory\",\"16G\") \\\n",
    "    .config(\"spark.kryoserializer.buffer.max\",\"2000M\") \\\n",
    "    .config(\"spark.serializer\",\"org.apache.spark.serializer.KryoSerializer\") \\\n",
    "    .config(\"spark.sql.execution.arrow.pyspark.enabled\",\"true\") \\\n",
    "    .config(\"spark.executor.memory\",\"16G\") \\\n",
    "    .config(\"spark.driver.extraJavaOptions\",\"-XX:+UseG1GC -XX:+UseStringDeduplication\") \\\n",
    "    .config(\"spark.jars.packages\", \"com.johnsnowlabs.nlp:spark-nlp-gpu_2.12:5.5.3\") \\\n",
    "    .getOrCreate()\n",
    "\n",
    "sparknlp.start()"
   ]
  },
  {
   "cell_type": "code",
   "execution_count": 11,
   "id": "223d2d36-2c83-4f1d-9d25-4e5945e2ea5e",
   "metadata": {
    "colab": {
     "base_uri": "https://localhost:8080/"
    },
    "id": "223d2d36-2c83-4f1d-9d25-4e5945e2ea5e",
    "outputId": "12f07244-f6ba-4aac-bcd6-92134be656ae"
   },
   "outputs": [
    {
     "name": "stdout",
     "output_type": "stream",
     "text": [
      "root\n",
      " |-- Column1: string (nullable = true)\n",
      " |-- Column2: string (nullable = true)\n",
      " |-- Column3: string (nullable = true)\n",
      " |-- Column4: string (nullable = true)\n",
      "\n",
      "Original Schema:  None\n"
     ]
    }
   ],
   "source": [
    "df = spark.read.csv(\"cleaned_file.csv\", header=True, inferSchema=True)\n",
    "print(\"Original Schema: \", df.printSchema())"
   ]
  },
  {
   "cell_type": "markdown",
   "id": "3e58fca3-f723-4ff1-9957-49aaeb202a76",
   "metadata": {
    "id": "3e58fca3-f723-4ff1-9957-49aaeb202a76"
   },
   "source": [
    "# Data Cleaning and Preprocessing\n",
    "\n",
    "### Appending New Features for IndicBert Training Using SparkML and PySpark NLP\n",
    "\n",
    "1. Normalizing Text using Ekphrasis and Custom Rules\n",
    "2. Detecting Negation in Text Using Regex-Based Matching\n",
    "3. Part of Speech Tagging\n",
    "4. Detecting and Extracting Stopwords\n",
    "5. Calculating Percentage of Stopwords\n",
    "\n",
    "We applied a structured data cleaning and feature engineering process using SparkML and PySpark NLP to prepare the Hinglish text for training IndicBert. The text was first normalized with Ekphrasis and custom rules to handle inconsistencies. Negation words were detected through regex-based matching to capture sentiment nuances. Part-of-speech tags were added to enrich the linguistic features. We then identified and extracted stopwords from English, Hindi, and a custom Hinglish list, and calculated the percentage of stopwords to better understand text composition. These steps ensured the data was clean, consistent, and ready for large-scale model training."
   ]
  },
  {
   "cell_type": "code",
   "execution_count": 5,
   "id": "sd1ct9KyZNKI",
   "metadata": {
    "execution": {
     "iopub.execute_input": "2025-05-06T22:31:50.687483Z",
     "iopub.status.busy": "2025-05-06T22:31:50.686825Z",
     "iopub.status.idle": "2025-05-06T22:31:52.702684Z",
     "shell.execute_reply": "2025-05-06T22:31:52.702137Z",
     "shell.execute_reply.started": "2025-05-06T22:31:50.687456Z"
    },
    "id": "sd1ct9KyZNKI",
    "trusted": true
   },
   "outputs": [],
   "source": [
    "from ekphrasis.classes.preprocessor import TextPreProcessor\n",
    "from ekphrasis.classes.tokenizer import SocialTokenizer\n",
    "from pyspark.sql import functions as F\n",
    "from pyspark.sql.functions import regexp_replace, col, lower, when, udf, array_join, split, concat_ws\n",
    "from pyspark.ml import Pipeline\n",
    "from pyspark.sql.types import StringType, ArrayType, StructType, StructField, FloatType, IntegerType\n",
    "from sparknlp.base import DocumentAssembler, Finisher\n",
    "from pyspark.ml.feature import HashingTF, IDF, StringIndexer, ChiSqSelector, VectorAssembler\n",
    "from pyspark.ml.evaluation import MulticlassClassificationEvaluator\n",
    "from pyspark.ml.feature import Tokenizer as py_tokenizer\n",
    "from pyspark.ml.classification import RandomForestClassifier\n",
    "from sparknlp.annotator import ContextSpellCheckerModel, NerConverter, NerDLModel, Tokenizer, Normalizer, StopWordsCleaner, PerceptronModel\n",
    "from sparknlp.base import LightPipeline, PipelineModel\n",
    "from sparknlp.annotator import *\n",
    "from sparknlp.common import *\n",
    "import pandas as pd\n",
    "import matplotlib.pyplot as plt\n",
    "from sklearn.metrics import f1_score\n",
    "import sparknlp\n",
    "import os\n",
    "import re\n",
    "import shutil"
   ]
  },
  {
   "cell_type": "code",
   "execution_count": 13,
   "id": "1C9r0Eq9TOXs",
   "metadata": {
    "id": "1C9r0Eq9TOXs"
   },
   "outputs": [],
   "source": [
    "df_cleaned = df.drop(\"Column3\", \"Column4\")"
   ]
  },
  {
   "cell_type": "code",
   "execution_count": 14,
   "id": "129fd64d-798f-4d32-a978-bca56b774141",
   "metadata": {
    "colab": {
     "base_uri": "https://localhost:8080/"
    },
    "id": "129fd64d-798f-4d32-a978-bca56b774141",
    "outputId": "15274cdc-b514-4a64-d896-fc124efbe0f0"
   },
   "outputs": [
    {
     "name": "stdout",
     "output_type": "stream",
     "text": [
      "Cleaned Data:\n",
      "+--------------------------------------------------------------------------------+-------------------------------------------------------------------------------------------+\n",
      "|Column1                                                                         |Column2                                                                                    |\n",
      "+--------------------------------------------------------------------------------+-------------------------------------------------------------------------------------------+\n",
      "|en_query                                                                        |cs_query                                                                                   |\n",
      "|Who is the featured performer at The Grand Ole Opry this Saturday night         |Is Saturday night The Grand Ole Opry me featured performer kya hai                         |\n",
      "|Remind me of my meeting at 12 am                                                |mujhe 12 am ko meri meeting ke baare me yaad dilaayen                                      |\n",
      "|set an alarm for 5 am                                                           |subha 5 baje ke liye ek alarm set karen                                                    |\n",
      "|What ’ s will weather be like at Sydney at 2 pm                                 |dopaher 2 baje Sydney me mausam kaisa hoga                                                 |\n",
      "|What is the weather in Canada ?                                                 |Canada me mausam kaisa hai ?                                                               |\n",
      "|Delete weekend alarm                                                            |weekend alarm ko delete karo                                                               |\n",
      "|what is temperature now                                                         |abhi ka temperature kya hai                                                                |\n",
      "|How long will it take me to drive from here to Cades Cove TN via Interstate 90 ?|Interstate 90 ke zariye yaha se Cades Cove TN tak drive karke jaane me kitna samay lagega ?|\n",
      "|set an alarm for midnight on the 30th may                                       |30 may ke midnight ke liye alarm set kare                                                  |\n",
      "|please replay that song                                                         |please wo song ko phir se bajao                                                            |\n",
      "|Cancel that alarm for tonight , please                                          |Please aaj raat ke liye wo alarm cancel kare                                               |\n",
      "|change the channel to Spotify                                                   |channel ko Spotify me badal do                                                             |\n",
      "|Give me a weather update for Perth at 5 pm tomorrow ?                           |kal 5 pm ko mujhe Perth ke liye weather update de ?                                        |\n",
      "|delete Tokyo for my weather app                                                 |mere weather app ke liye Tokyo ko delete kardo                                             |\n",
      "|Set an alert time for 9 : 15 AM next Monday .                                   |agle Monday 9 : 15 AM ke liye ek alert time set karen .                                    |\n",
      "|Turn snooze alarm off                                                           |snooze alarm band kare                                                                     |\n",
      "|What are some kid friendly events happening in the morning tomorrow             |kal subha kuch bacchon ke liye events kya hai                                              |\n",
      "|How damn hot is it supposed to get today ?                                      |aaj kitni damn garmi honi chahiye ?                                                        |\n",
      "|Remind me to take the recycling to the curb every other Tuesday .               |Mujhe har dusre Tuesday ko recycling ko curb me le jane ke liye yaad dilaayen .            |\n",
      "+--------------------------------------------------------------------------------+-------------------------------------------------------------------------------------------+\n",
      "only showing top 20 rows\n",
      "\n"
     ]
    }
   ],
   "source": [
    "print(\"Cleaned Data:\")\n",
    "df_cleaned.show(truncate=False)"
   ]
  },
  {
   "cell_type": "code",
   "execution_count": 15,
   "id": "5f5bedac-b857-4af5-a346-ff96c69e50de",
   "metadata": {
    "colab": {
     "base_uri": "https://localhost:8080/"
    },
    "id": "5f5bedac-b857-4af5-a346-ff96c69e50de",
    "outputId": "a25b4242-a40b-4198-8e15-166ae85cbaf3"
   },
   "outputs": [
    {
     "name": "stdout",
     "output_type": "stream",
     "text": [
      "+--------------------------------------------------------------------------------+-------------------------------------------------------------------------------------------+\n",
      "|English_Text                                                                    |Hinglish_Text                                                                              |\n",
      "+--------------------------------------------------------------------------------+-------------------------------------------------------------------------------------------+\n",
      "|en_query                                                                        |cs_query                                                                                   |\n",
      "|Who is the featured performer at The Grand Ole Opry this Saturday night         |Is Saturday night The Grand Ole Opry me featured performer kya hai                         |\n",
      "|Remind me of my meeting at 12 am                                                |mujhe 12 am ko meri meeting ke baare me yaad dilaayen                                      |\n",
      "|set an alarm for 5 am                                                           |subha 5 baje ke liye ek alarm set karen                                                    |\n",
      "|What ’ s will weather be like at Sydney at 2 pm                                 |dopaher 2 baje Sydney me mausam kaisa hoga                                                 |\n",
      "|What is the weather in Canada ?                                                 |Canada me mausam kaisa hai ?                                                               |\n",
      "|Delete weekend alarm                                                            |weekend alarm ko delete karo                                                               |\n",
      "|what is temperature now                                                         |abhi ka temperature kya hai                                                                |\n",
      "|How long will it take me to drive from here to Cades Cove TN via Interstate 90 ?|Interstate 90 ke zariye yaha se Cades Cove TN tak drive karke jaane me kitna samay lagega ?|\n",
      "|set an alarm for midnight on the 30th may                                       |30 may ke midnight ke liye alarm set kare                                                  |\n",
      "|please replay that song                                                         |please wo song ko phir se bajao                                                            |\n",
      "|Cancel that alarm for tonight , please                                          |Please aaj raat ke liye wo alarm cancel kare                                               |\n",
      "|change the channel to Spotify                                                   |channel ko Spotify me badal do                                                             |\n",
      "|Give me a weather update for Perth at 5 pm tomorrow ?                           |kal 5 pm ko mujhe Perth ke liye weather update de ?                                        |\n",
      "|delete Tokyo for my weather app                                                 |mere weather app ke liye Tokyo ko delete kardo                                             |\n",
      "|Set an alert time for 9 : 15 AM next Monday .                                   |agle Monday 9 : 15 AM ke liye ek alert time set karen .                                    |\n",
      "|Turn snooze alarm off                                                           |snooze alarm band kare                                                                     |\n",
      "|What are some kid friendly events happening in the morning tomorrow             |kal subha kuch bacchon ke liye events kya hai                                              |\n",
      "|How damn hot is it supposed to get today ?                                      |aaj kitni damn garmi honi chahiye ?                                                        |\n",
      "|Remind me to take the recycling to the curb every other Tuesday .               |Mujhe har dusre Tuesday ko recycling ko curb me le jane ke liye yaad dilaayen .            |\n",
      "+--------------------------------------------------------------------------------+-------------------------------------------------------------------------------------------+\n",
      "only showing top 20 rows\n",
      "\n"
     ]
    }
   ],
   "source": [
    "df_cleaned = df_cleaned.withColumnRenamed(\"Column1\", \"English_Text\")\\\n",
    "                       .withColumnRenamed(\"Column2\", \"Hinglish_Text\")\n",
    "\n",
    "df_cleaned.show(truncate=False)"
   ]
  },
  {
   "cell_type": "code",
   "execution_count": 16,
   "id": "38e28662-d10c-47a6-bbed-870cc0cba794",
   "metadata": {
    "id": "38e28662-d10c-47a6-bbed-870cc0cba794"
   },
   "outputs": [],
   "source": [
    "df_cleaned = df_cleaned.filter((df_cleaned[\"English_Text\"] != \"en_query\") & (df_cleaned[\"Hinglish_Text\"] != \"csquery\"))"
   ]
  },
  {
   "cell_type": "code",
   "execution_count": 17,
   "id": "UfeDBImOp0Mq",
   "metadata": {
    "colab": {
     "base_uri": "https://localhost:8080/"
    },
    "id": "UfeDBImOp0Mq",
    "outputId": "074dac3f-3209-460b-8c0c-2d341bd8ffbd"
   },
   "outputs": [
    {
     "name": "stdout",
     "output_type": "stream",
     "text": [
      "+--------------------------------------------------------------------------------+-------------------------------------------------------------------------------------------+\n",
      "|English_Text                                                                    |Hinglish_Text                                                                              |\n",
      "+--------------------------------------------------------------------------------+-------------------------------------------------------------------------------------------+\n",
      "|Who is the featured performer at The Grand Ole Opry this Saturday night         |Is Saturday night The Grand Ole Opry me featured performer kya hai                         |\n",
      "|Remind me of my meeting at 12 am                                                |mujhe 12 am ko meri meeting ke baare me yaad dilaayen                                      |\n",
      "|set an alarm for 5 am                                                           |subha 5 baje ke liye ek alarm set karen                                                    |\n",
      "|What ’ s will weather be like at Sydney at 2 pm                                 |dopaher 2 baje Sydney me mausam kaisa hoga                                                 |\n",
      "|What is the weather in Canada ?                                                 |Canada me mausam kaisa hai ?                                                               |\n",
      "|Delete weekend alarm                                                            |weekend alarm ko delete karo                                                               |\n",
      "|what is temperature now                                                         |abhi ka temperature kya hai                                                                |\n",
      "|How long will it take me to drive from here to Cades Cove TN via Interstate 90 ?|Interstate 90 ke zariye yaha se Cades Cove TN tak drive karke jaane me kitna samay lagega ?|\n",
      "|set an alarm for midnight on the 30th may                                       |30 may ke midnight ke liye alarm set kare                                                  |\n",
      "|please replay that song                                                         |please wo song ko phir se bajao                                                            |\n",
      "|Cancel that alarm for tonight , please                                          |Please aaj raat ke liye wo alarm cancel kare                                               |\n",
      "|change the channel to Spotify                                                   |channel ko Spotify me badal do                                                             |\n",
      "|Give me a weather update for Perth at 5 pm tomorrow ?                           |kal 5 pm ko mujhe Perth ke liye weather update de ?                                        |\n",
      "|delete Tokyo for my weather app                                                 |mere weather app ke liye Tokyo ko delete kardo                                             |\n",
      "|Set an alert time for 9 : 15 AM next Monday .                                   |agle Monday 9 : 15 AM ke liye ek alert time set karen .                                    |\n",
      "|Turn snooze alarm off                                                           |snooze alarm band kare                                                                     |\n",
      "|What are some kid friendly events happening in the morning tomorrow             |kal subha kuch bacchon ke liye events kya hai                                              |\n",
      "|How damn hot is it supposed to get today ?                                      |aaj kitni damn garmi honi chahiye ?                                                        |\n",
      "|Remind me to take the recycling to the curb every other Tuesday .               |Mujhe har dusre Tuesday ko recycling ko curb me le jane ke liye yaad dilaayen .            |\n",
      "|Add Brian and Matt to all reminders involving steak dinner this month .         |is mahine steak dinner ke sabhi reminders me Brian aur Matt ko add karen .                 |\n",
      "+--------------------------------------------------------------------------------+-------------------------------------------------------------------------------------------+\n",
      "only showing top 20 rows\n",
      "\n"
     ]
    }
   ],
   "source": [
    "df_cleaned.show(truncate=False)"
   ]
  },
  {
   "cell_type": "code",
   "execution_count": 18,
   "id": "MpxwTFq60gGg",
   "metadata": {
    "colab": {
     "base_uri": "https://localhost:8080/"
    },
    "id": "MpxwTFq60gGg",
    "outputId": "5fb09ad7-2c2d-40ba-bb4e-a95f9576cf48"
   },
   "outputs": [
    {
     "name": "stdout",
     "output_type": "stream",
     "text": [
      "+--------------------------------------------------------------------------+---------------------------------------------------------------------------+\n",
      "|English_Text                                                              |Hinglish_Text                                                              |\n",
      "+--------------------------------------------------------------------------+---------------------------------------------------------------------------+\n",
      "|Set a reminder to place an order for work at noon today                   |aj dopahar ko work ke liye order plac karne ke liye reminder set kare      |\n",
      "|When is sun in the forecast for this week ?                               |is week ke liye sun kab forecast me hai ?                                  |\n",
      "|How many reminders for setting out the trash have I had so far this year ?|is saal maine kachra baahar nikalne ke liye kitne reminders gehae hai ?    |\n",
      "|Christmas lights near Philadelphia open now                               |Philadelphia ke aas pas ke Christmas lights abhi khul gaye hai             |\n",
      "|How long will it take me to get to USC if I leave now ?                   |agar mai abhi nikalta hoon toh mujhe USC pahuchne mei kitni der lagegi ?   |\n",
      "|Tune to Mickey Mouse channel                                              |Mickey Mouse channel par jaye                                              |\n",
      "|Tell me the weather for 2 pm today .                                      |Muje aaj dopahar 2 baje ka weather bataye .                                |\n",
      "|message Pauline thank you very much for the lunch .                       |Pauline ko message karo ki thank you very much for the lunch .             |\n",
      "|Are the roads clear to work this morning                                  |kya aj subah work ke liye roads saaf hai                                   |\n",
      "|Remind me to make a hair appointment for next week .                      |mujhe agley haftey ke liye hair appointment lene ke liye yaad dilaye       |\n",
      "|Show me the alarms for today                                              |Mujhe aaj ke liye alarms dikhao                                            |\n",
      "|Can I listen to luke bryan ' s new CD ?                                   |Kya mai luke bryan ke naye CD ko sun sakta hu ?                            |\n",
      "|set my morning alarm for 30 minutes earlier                               |30 minutes pehle mere morning alarm ko set karen                           |\n",
      "|can you go to chats                                                       |kya aap chats par jaasakte hai                                             |\n",
      "|how long will it take me to get to walmart from here                      |yaha se mujhe walmart pahuchne mei kitni der lagegi                        |\n",
      "|i don ' t want to hear the video message                                  |mai video message nahi sunna chahta hoon                                   |\n",
      "|create a daily alarm for for the next month                               |agley mahine ke liye daily alarm create kare                               |\n",
      "|Shoot a text to my cousins Steven and Julian .                            |mere cousins Steven aur Julian ko text bhejo                               |\n",
      "|Message Benji to see if he left his towel at my house last night          |Benji ko message karo aur dekho ke he left his towel at my house last night|\n",
      "|To get to Vegas from my sister ' s house how many hours will I be driving |meri sister ke ghar se Vegas jaane ke liye kitne ghante ki driving hogi    |\n",
      "+--------------------------------------------------------------------------+---------------------------------------------------------------------------+\n",
      "only showing top 20 rows\n",
      "\n"
     ]
    }
   ],
   "source": [
    "# Dropping duplicates\n",
    "df_cleaned = df_cleaned.dropDuplicates()\n",
    "df_cleaned.show(truncate=False)"
   ]
  },
  {
   "cell_type": "code",
   "execution_count": 19,
   "id": "bF7mcoWI1K_2",
   "metadata": {
    "colab": {
     "base_uri": "https://localhost:8080/"
    },
    "id": "bF7mcoWI1K_2",
    "outputId": "bf5c6d43-0ae8-4c82-a984-f2efc2bfb0da"
   },
   "outputs": [
    {
     "data": {
      "text/plain": [
       "130326"
      ]
     },
     "execution_count": 19,
     "metadata": {},
     "output_type": "execute_result"
    }
   ],
   "source": [
    "# No of rows reduced from 1,40,000 to 1,30,326!\n",
    "df_cleaned.count()"
   ]
  },
  {
   "cell_type": "code",
   "execution_count": 20,
   "id": "43a35b9b-b92d-489c-af50-bd6c625a3074",
   "metadata": {
    "id": "43a35b9b-b92d-489c-af50-bd6c625a3074"
   },
   "outputs": [],
   "source": [
    "output_path = \"cleaned_output_stage1.csv\"\n",
    "df_cleaned.coalesce(1).write.mode(\"overwrite\").option(\"header\", True).csv(\"cleaned_output_tmp\")"
   ]
  },
  {
   "cell_type": "code",
   "execution_count": 21,
   "id": "f0bf44ce-b3bd-40fc-8951-5bbc980ef2ea",
   "metadata": {
    "colab": {
     "base_uri": "https://localhost:8080/"
    },
    "id": "f0bf44ce-b3bd-40fc-8951-5bbc980ef2ea",
    "outputId": "ea321b2c-4bc0-4892-89aa-77e83da9fcd1"
   },
   "outputs": [
    {
     "name": "stdout",
     "output_type": "stream",
     "text": [
      "CSV saved as: cleaned_output_stage1.csv\n"
     ]
    }
   ],
   "source": [
    "# Downloading the file\n",
    "# Listing the generated files\n",
    "for file in os.listdir(\"cleaned_output_tmp\"):\n",
    "    if file.startswith(\"part-\") and file.endswith(\".csv\"):\n",
    "        shutil.move(f\"cleaned_output_tmp/{file}\", output_path)\n",
    "        break\n",
    "\n",
    "shutil.rmtree(\"cleaned_output_tmp\")\n",
    "\n",
    "print(f\"CSV saved as: {output_path}\")"
   ]
  },
  {
   "cell_type": "code",
   "execution_count": 22,
   "id": "6d02e833-e7e0-42c8-b3a9-4235ea2e087b",
   "metadata": {
    "colab": {
     "base_uri": "https://localhost:8080/"
    },
    "id": "6d02e833-e7e0-42c8-b3a9-4235ea2e087b",
    "outputId": "c5b90ff2-e5a2-469d-806a-3932adfc58b6"
   },
   "outputs": [
    {
     "name": "stdout",
     "output_type": "stream",
     "text": [
      "+--------------------+--------------------+\n",
      "|        English_Text|       Hinglish_Text|\n",
      "+--------------------+--------------------+\n",
      "|Set a reminder to...|aj dopahar ko wor...|\n",
      "|When is sun in th...|is week ke liye s...|\n",
      "|How many reminder...|is saal maine kac...|\n",
      "|Christmas lights ...|Philadelphia ke a...|\n",
      "|How long will it ...|agar mai abhi nik...|\n",
      "|Tune to Mickey Mo...|Mickey Mouse chan...|\n",
      "|Tell me the weath...|Muje aaj dopahar ...|\n",
      "|message Pauline t...|Pauline ko messag...|\n",
      "|Are the roads cle...|kya aj subah work...|\n",
      "|Remind me to make...|mujhe agley hafte...|\n",
      "|Show me the alarm...|Mujhe aaj ke liye...|\n",
      "|Can I listen to l...|Kya mai luke brya...|\n",
      "|set my morning al...|30 minutes pehle ...|\n",
      "| can you go to chats|kya aap chats par...|\n",
      "|how long will it ...|yaha se mujhe wal...|\n",
      "|i don ' t want to...|mai video message...|\n",
      "|create a daily al...|agley mahine ke l...|\n",
      "|Shoot a text to m...|mere cousins Stev...|\n",
      "|Message Benji to ...|Benji ko message ...|\n",
      "|To get to Vegas f...|meri sister ke gh...|\n",
      "+--------------------+--------------------+\n",
      "only showing top 20 rows\n",
      "\n"
     ]
    }
   ],
   "source": [
    "# Removing odd characters, emojis, or non-text symbols\n",
    "df_cleaned = df_cleaned.withColumn(\"English_Text\", regexp_replace(col(\"English_Text\"), r\"[^a-zA-Z0-9\\u0900-\\u097F\\s.,!?']\", \"\"))\n",
    "df_cleaned = df_cleaned.withColumn(\"Hinglish_Text\", regexp_replace(col(\"Hinglish_Text\"), r\"[^a-zA-Z0-9\\u0900-\\u097F\\s.,!?']\", \"\"))\n",
    "\n",
    "df_cleaned.show(truncate = True)"
   ]
  },
  {
   "cell_type": "markdown",
   "id": "b001231f-63c9-477a-b280-da7d1bd3bc32",
   "metadata": {
    "id": "b001231f-63c9-477a-b280-da7d1bd3bc32"
   },
   "source": [
    "### Appending new columns(features) for training IndicBert effectively"
   ]
  },
  {
   "cell_type": "markdown",
   "id": "ZyOnJyUNBpcf",
   "metadata": {
    "id": "ZyOnJyUNBpcf"
   },
   "source": [
    "### Normalizing Text using Ekphrasis and Custom Rules\n",
    "\n",
    "To standardize the Hinglish text input, we built a hybrid normalization pipeline. Ekphrasis was used to handle English-specific inconsistencies such as fixing HTML tokens, hashtags, and contractions. For Hinglish-specific issues, a custom dictionary of common misspellings and a regex-based de-elongation approach were applied. Tokenization was performed using Spark NLP's DocumentAssembler and Tokenizer, and PySpark UDFs were used to normalize tokens efficiently. The final cleaned text was stored in a new feature called Normalized_Hinglish_Text, ready for downstream modeling."
   ]
  },
  {
   "cell_type": "code",
   "execution_count": null,
   "id": "OG8piYChBpAH",
   "metadata": {
    "colab": {
     "base_uri": "https://localhost:8080/"
    },
    "id": "OG8piYChBpAH",
    "outputId": "49157506-5a0c-4773-b66b-75f632a19b42"
   },
   "outputs": [
    {
     "name": "stdout",
     "output_type": "stream",
     "text": [
      "Word statistics files not found!\n",
      "Downloading... "
     ]
    },
    {
     "name": "stderr",
     "output_type": "stream",
     "text": [
      "/usr/local/lib/python3.11/dist-packages/ekphrasis/classes/tokenizer.py:225: FutureWarning: Possible nested set at position 2190\n",
      "  self.tok = re.compile(r\"({})\".format(\"|\".join(pipeline)))\n"
     ]
    },
    {
     "name": "stdout",
     "output_type": "stream",
     "text": [
      "done!\n",
      "Unpacking... done!\n",
      "Reading twitter - 1grams ...\n",
      "generating cache file for faster loading...\n",
      "reading ngrams /root/.ekphrasis/stats/twitter/counts_1grams.txt\n",
      "Reading twitter - 2grams ...\n",
      "generating cache file for faster loading...\n",
      "reading ngrams /root/.ekphrasis/stats/twitter/counts_2grams.txt\n"
     ]
    },
    {
     "name": "stderr",
     "output_type": "stream",
     "text": [
      "/usr/local/lib/python3.11/dist-packages/ekphrasis/classes/exmanager.py:14: FutureWarning: Possible nested set at position 42\n",
      "  regexes = {k.lower(): re.compile(self.expressions[k]) for k, v in\n"
     ]
    },
    {
     "name": "stdout",
     "output_type": "stream",
     "text": [
      "Reading twitter - 1grams ...\n",
      "+---------------------------------------------------------------------------+--------------------------------------------------------------------------+\n",
      "|Hinglish_Text                                                              |Normalized_Hinglish_Text                                                  |\n",
      "+---------------------------------------------------------------------------+--------------------------------------------------------------------------+\n",
      "|aj dopahar ko work ke liye order plac karne ke liye reminder set kare      |aj dopahar ko work ke liye order plac karne ke liye reminder set kare     |\n",
      "|is week ke liye sun kab forecast me hai ?                                  |is wek ke liye sun kab forecast mein hai ?                                |\n",
      "|is saal maine kachra baahar nikalne ke liye kitne reminders gehae hai ?    |is sal maine kachra bahar nikalne ke liye kitne reminders gehae hai ?     |\n",
      "|Philadelphia ke aas pas ke Christmas lights abhi khul gaye hai             |philadelphia ke as pas ke christmas lights abhi khul gaye hai             |\n",
      "|agar mai abhi nikalta hoon toh mujhe USC pahuchne mei kitni der lagegi ?   |agar main abhi nikalta hon toh mujhe usc pahuchne mei kitni der lagegi ?  |\n",
      "|Mickey Mouse channel par jaye                                              |mickey mouse chanel par jaye                                              |\n",
      "|Muje aaj dopahar 2 baje ka weather bataye .                                |mujhe aj dopahar 2 baje ka weather bataye .                               |\n",
      "|Pauline ko message karo ki thank you very much for the lunch .             |pauline ko mesage karo ki thank you very much for the lunch .             |\n",
      "|kya aj subah work ke liye roads saaf hai                                   |kya aj subah work ke liye roads saf hai                                   |\n",
      "|mujhe agley haftey ke liye hair appointment lene ke liye yaad dilaye       |mujhe agley haftey ke liye hair apointment lene ke liye yad dilaye        |\n",
      "|Mujhe aaj ke liye alarms dikhao                                            |mujhe aj ke liye alarms dikhao                                            |\n",
      "|Kya mai luke bryan ke naye CD ko sun sakta hu ?                            |kya main luke bryan ke naye cd ko sun sakta hoon ?                        |\n",
      "|30 minutes pehle mere morning alarm ko set karen                           |30 minutes pehle mere morning alarm ko set karen                          |\n",
      "|kya aap chats par jaasakte hai                                             |kya ap chats par jasakte hai                                              |\n",
      "|yaha se mujhe walmart pahuchne mei kitni der lagegi                        |yaha se mujhe walmart pahuchne mei kitni der lagegi                       |\n",
      "|mai video message nahi sunna chahta hoon                                   |main video mesage nahi suna chahta hon                                    |\n",
      "|agley mahine ke liye daily alarm create kare                               |agley mahine ke liye daily alarm create kare                              |\n",
      "|mere cousins Steven aur Julian ko text bhejo                               |mere cousins steven aur julian ko text bhejo                              |\n",
      "|Benji ko message karo aur dekho ke he left his towel at my house last night|benji ko mesage karo aur dekho ke he left his towel at my house last night|\n",
      "|meri sister ke ghar se Vegas jaane ke liye kitne ghante ki driving hogi    |meri sister ke ghar se vegas jane ke liye kitne ghante ki driving hogi    |\n",
      "+---------------------------------------------------------------------------+--------------------------------------------------------------------------+\n",
      "only showing top 20 rows\n",
      "\n"
     ]
    }
   ],
   "source": [
    "# Utilizing ekphrasis for English token inconsistency handling\n",
    "text_processor = TextPreProcessor(\n",
    "    normalize=[],\n",
    "    annotate={},  # avoids extra annotations\n",
    "    fix_html=True,  # fix HTML tokens\n",
    "    segmenter=\"twitter\",  # social media style text segmenter\n",
    "    corrector=\"twitter\",  # correct social media spelling\n",
    "    unpack_hashtags=True,\n",
    "    unpack_contractions=True,\n",
    "    spell_correct_elong=False,  # disable repeated letter spell-correction here as we are handling it manually)\n",
    "    tokenizer=SocialTokenizer(lowercase=True).tokenize,\n",
    "    dicts=[]\n",
    ")\n",
    "\n",
    "# My dictionary of common Hinglish misspellings/mistakes I identified along with their corresponding corrections\n",
    "common_mistakes = {\n",
    "    \"muje\": \"mujhe\", \"muze\": \"mujhe\", \"apka\": \"aapka\", \"apke\": \"aapke\", \"acha\": \"achha\", \"accha\": \"achha\", \"han\": \"haan\", \"ha\": \"haan\", \"nai\": \"nahi\",\n",
    "    \"nhi\": \"nahi\", \"bahot\": \"bahut\", \"bohot\": \"bahut\", \"bahuth\": \"bahut\", \"kese\": \"kaise\", \"kesi\": \"kaisi\", \"esa\": \"aisa\", \"aise\": \"aisa\",\n",
    "    \"kon\": \"kaun\", \"konse\": \"kaunse\", \"kyu\": \"kyun\", \"kyo\": \"kyun\", \"ky\": \"kya\", \"mai\": \"main\", \"me\": \"mein\", \"hu\": \"hoon\", \"hona\": \"honaa\",\n",
    "    \"gya\": \"gaya\", \"gyi\": \"gayi\", \"hogya\": \"hogaya\", \"hogayi\": \"hogayi\", \"aayi\": \"aai\", \"aaie\": \"aai\", \"jaaie\": \"jaai\", \"kahiye\": \"kahiye\",\n",
    "    \"kahi\": \"kahi\", \"krna\": \"karna\", \"karo\": \"karo\", \"lo\": \"lo\", \"le\": \"le\", \"de\": \"de\", \"btao\": \"batao\", \"btaaye\": \"bataiye\", \"btana\": \"batana\",\n",
    "    \"btayiye\": \"bataiye\", \"raha\": \"raha\", \"rahi\": \"rahi\", \"rha\": \"raha\", \"rhi\": \"rahi\", \"kaam\": \"kaam\", \"kam\": \"kaam\", \"pani\": \"paani\", \"sahi\": \"sahi\",\n",
    "    \"galat\": \"galat\", \"kharab\": \"kharab\", \"acchi\": \"achhi\"\n",
    "}\n",
    "\n",
    "# Collapsing 2 or more repeating letters into one (This is pre-compiled)\n",
    "_repeated_char_pattern = re.compile(r\"([A-Za-z])\\1+\")\n",
    "\n",
    "def normalize_token(token):\n",
    "  if not token:\n",
    "    return token\n",
    "\n",
    "  token = token.lower()\n",
    "\n",
    "  # using ekphrasis (handling English Text)\n",
    "  processed_tokens = text_processor.pre_process_doc(token) # it will be a list\n",
    "  if processed_tokens:\n",
    "    token = processed_tokens[0]\n",
    "\n",
    "  # using manual approach (handling Hinglish Text)\n",
    "  # collapsing elongated sequences of the same letter to a single letter\n",
    "  token = _repeated_char_pattern.sub(r\"\\1\", token)\n",
    "\n",
    "  # finally applying custom hinglish corrections\n",
    "  token = common_mistakes.get(token, token)\n",
    "\n",
    "  return token\n",
    "\n",
    "# Defining sparkUDF to normalize the list of tokens\n",
    "@udf(ArrayType(StringType()))\n",
    "def normalize_token_udf(tokens):\n",
    "  if tokens is None:\n",
    "    return []\n",
    "  return [normalize_token(tok) for tok in tokens]\n",
    "\n",
    "document_assembler = DocumentAssembler() \\\n",
    "                    .setInputCol(\"Hinglish_Text\") \\\n",
    "                    .setOutputCol(\"document\")\n",
    "\n",
    "tokenizer = Tokenizer() \\\n",
    "            .setInputCols([\"document\"]) \\\n",
    "            .setOutputCol(\"tokens\")\n",
    "\n",
    "pipeline = Pipeline(stages = [document_assembler, tokenizer])\n",
    "tokenizer_model = pipeline.fit(df_cleaned)\n",
    "tokenized_df = tokenizer_model.transform(df_cleaned)\n",
    "\n",
    "# Finally applying the hybrid normalization!\n",
    "df_cleaned = tokenized_df.withColumn(\"Normalized_Hinglish_Text\", normalize_token_udf(col(\"tokens.result\")))\n",
    "# joining the token into single string!\n",
    "df_cleaned = df_cleaned.withColumn(\"Normalized_Hinglish_Text\", array_join(col(\"Normalized_Hinglish_Text\"), \" \"))\n",
    "\n",
    "df_cleaned.select(\"Hinglish_Text\", \"Normalized_Hinglish_Text\").show(truncate=False)"
   ]
  },
  {
   "cell_type": "markdown",
   "id": "719c6752-5898-4a1e-a672-62a91e0b3664",
   "metadata": {
    "id": "719c6752-5898-4a1e-a672-62a91e0b3664"
   },
   "source": [
    "#### Detecting Negation in Text Using Regex-Based Matching\n",
    "\n",
    "Since Spark NLP does not provide a direct solution for detecting negation in non-healthcare text, a custom regex-based method was implemented. A comprehensive list of English and Hindi negation words was manually curated. Using PySpark's when and rlike functions, we scanned the English_Text column and created a new binary feature has_negation, marking sentences containing negations for enhanced model learning."
   ]
  },
  {
   "cell_type": "code",
   "execution_count": null,
   "id": "69e0c3b2-a0cd-47c0-b340-9a0ff5f05426",
   "metadata": {
    "id": "69e0c3b2-a0cd-47c0-b340-9a0ff5f05426"
   },
   "outputs": [],
   "source": [
    "! pip list | grep sparknlp"
   ]
  },
  {
   "cell_type": "code",
   "execution_count": 25,
   "id": "2a5e5b44-9ec8-451e-9d96-436d5d4d1946",
   "metadata": {
    "id": "2a5e5b44-9ec8-451e-9d96-436d5d4d1946"
   },
   "outputs": [],
   "source": [
    "# Here, acc to my research I never found a sparknlp lib that can identify negation in a given text for non-healthcare data. There is only a lib that can identify negation but is only restrcited to healthcare data!\n",
    "negation_words = [\n",
    "    # my english list\n",
    "    \"no\", \"not\", \"never\", \"none\", \"nothing\", \"neither\", \"nor\", \"nobody\", \"nowhere\",\n",
    "    \"can't\", \"cannot\", \"couldn't\", \"won't\", \"wouldn't\", \"don't\", \"doesn't\", \"didn't\",\n",
    "    \"isn't\", \"aren't\", \"wasn't\", \"weren't\", \"haven't\", \"hasn't\", \"hadn't\",\n",
    "    \"shouldn't\", \"mightn't\", \"mustn't\", \"without\",\n",
    "    # my hindi list\n",
    "    \"nahi\", \"nahin\", \"mat\", \"na\", \"naa\", \"bina\", \"bin\", \"nah\", \"kabhi nahi\", \"bilkul nahi\",\n",
    "]\n",
    "\n",
    "negation_regex = r'(^|[^a-zA-Z])(' + '|'.join([w.replace(' ', r'\\s+') for w in negation_words]) + r')([^a-zA-Z]|$)'"
   ]
  },
  {
   "cell_type": "code",
   "execution_count": 26,
   "id": "c15b0b14-1e16-4f62-9b91-eb05191b0ff6",
   "metadata": {
    "id": "c15b0b14-1e16-4f62-9b91-eb05191b0ff6"
   },
   "outputs": [],
   "source": [
    "df_cleaned = df_cleaned.withColumn(\n",
    "    \"has_negation\",\n",
    "    when(lower(col(\"English_Text\")).rlike(negation_regex), 1).otherwise(0)\n",
    ")\n",
    "\n",
    "negation_regex = r'(^|[^a-zA-Z])(' + '|'.join(negation_words) + r')([^a-zA-Z]|$)'"
   ]
  },
  {
   "cell_type": "code",
   "execution_count": 27,
   "id": "40513c56-3747-4e3d-83bf-4c99cf9169b7",
   "metadata": {
    "colab": {
     "base_uri": "https://localhost:8080/"
    },
    "id": "40513c56-3747-4e3d-83bf-4c99cf9169b7",
    "outputId": "70aa8819-f64f-41ee-f916-46b5f34976b7"
   },
   "outputs": [
    {
     "name": "stdout",
     "output_type": "stream",
     "text": [
      "+--------------------------------------------------------------------------+--------------------------------------------------------------------------+------------+\n",
      "|English_Text                                                              |Normalized_Hinglish_Text                                                  |has_negation|\n",
      "+--------------------------------------------------------------------------+--------------------------------------------------------------------------+------------+\n",
      "|Set a reminder to place an order for work at noon today                   |aj dopahar ko work ke liye order plac karne ke liye reminder set kare     |0           |\n",
      "|When is sun in the forecast for this week ?                               |is wek ke liye sun kab forecast mein hai ?                                |0           |\n",
      "|How many reminders for setting out the trash have I had so far this year ?|is sal maine kachra bahar nikalne ke liye kitne reminders gehae hai ?     |0           |\n",
      "|Christmas lights near Philadelphia open now                               |philadelphia ke as pas ke christmas lights abhi khul gaye hai             |0           |\n",
      "|How long will it take me to get to USC if I leave now ?                   |agar main abhi nikalta hon toh mujhe usc pahuchne mei kitni der lagegi ?  |0           |\n",
      "|Tune to Mickey Mouse channel                                              |mickey mouse chanel par jaye                                              |0           |\n",
      "|Tell me the weather for 2 pm today .                                      |mujhe aj dopahar 2 baje ka weather bataye .                               |0           |\n",
      "|message Pauline thank you very much for the lunch .                       |pauline ko mesage karo ki thank you very much for the lunch .             |0           |\n",
      "|Are the roads clear to work this morning                                  |kya aj subah work ke liye roads saf hai                                   |0           |\n",
      "|Remind me to make a hair appointment for next week .                      |mujhe agley haftey ke liye hair apointment lene ke liye yad dilaye        |0           |\n",
      "|Show me the alarms for today                                              |mujhe aj ke liye alarms dikhao                                            |0           |\n",
      "|Can I listen to luke bryan ' s new CD ?                                   |kya main luke bryan ke naye cd ko sun sakta hoon ?                        |0           |\n",
      "|set my morning alarm for 30 minutes earlier                               |30 minutes pehle mere morning alarm ko set karen                          |0           |\n",
      "|can you go to chats                                                       |kya ap chats par jasakte hai                                              |0           |\n",
      "|how long will it take me to get to walmart from here                      |yaha se mujhe walmart pahuchne mei kitni der lagegi                       |0           |\n",
      "|i don ' t want to hear the video message                                  |main video mesage nahi suna chahta hon                                    |0           |\n",
      "|create a daily alarm for for the next month                               |agley mahine ke liye daily alarm create kare                              |0           |\n",
      "|Shoot a text to my cousins Steven and Julian .                            |mere cousins steven aur julian ko text bhejo                              |0           |\n",
      "|Message Benji to see if he left his towel at my house last night          |benji ko mesage karo aur dekho ke he left his towel at my house last night|0           |\n",
      "|To get to Vegas from my sister ' s house how many hours will I be driving |meri sister ke ghar se vegas jane ke liye kitne ghante ki driving hogi    |0           |\n",
      "+--------------------------------------------------------------------------+--------------------------------------------------------------------------+------------+\n",
      "only showing top 20 rows\n",
      "\n"
     ]
    }
   ],
   "source": [
    "df_cleaned.select(\"English_Text\", \"Normalized_Hinglish_Text\", \"has_negation\").show(truncate=False)"
   ]
  },
  {
   "cell_type": "markdown",
   "id": "d82fd07f-e693-4aaf-b275-608f56bc721e",
   "metadata": {
    "id": "d82fd07f-e693-4aaf-b275-608f56bc721e"
   },
   "source": [
    "### Part of Speech Tagging"
   ]
  },
  {
   "cell_type": "markdown",
   "id": "s2Yy7bGiEowN",
   "metadata": {
    "id": "s2Yy7bGiEowN"
   },
   "source": [
    "There are three major pos_tags models that we can use for pos tagging of words!\n",
    "1. pos_hiencs (Hindi-English)\n",
    "2. pos_anc (Default English)\n",
    "3. pos_hdtb (Hindi)\n",
    "\n",
    "First, we manually annotated the first 100 Hinglish sentences with correct POS tags to create a small ground-truth dataset for evaluation. Then, we used Spark NLP to apply three different POS models (pos_hiencs, pos_anc, and pos_hdtb) on our Normalized_Hinglish_Text. We normalized the POS tags from all models to a common Penn Treebank format to make a fair comparison. After that, we compared each model’s predictions against my manually created ground-truth at the word level.\n",
    "\n",
    "Finally, we calculated accuracy for each model and visualized the results using a simple bar chart to find which model performed the best."
   ]
  },
  {
   "cell_type": "code",
   "execution_count": 33,
   "id": "OXv17wQnF75s",
   "metadata": {
    "colab": {
     "base_uri": "https://localhost:8080/"
    },
    "id": "OXv17wQnF75s",
    "outputId": "18f7b966-cf26-4b5e-accb-fe8e79332cb8"
   },
   "outputs": [
    {
     "name": "stdout",
     "output_type": "stream",
     "text": [
      "+------------------------------------------------------------------------+\n",
      "|Normalized_Hinglish_Text                                                |\n",
      "+------------------------------------------------------------------------+\n",
      "|aj dopahar ko work ke liye order plac karne ke liye reminder set kare   |\n",
      "|is wek ke liye sun kab forecast mein hai ?                              |\n",
      "|is sal maine kachra bahar nikalne ke liye kitne reminders gehae hai ?   |\n",
      "|philadelphia ke as pas ke christmas lights abhi khul gaye hai           |\n",
      "|agar main abhi nikalta hon toh mujhe usc pahuchne mei kitni der lagegi ?|\n",
      "|mickey mouse chanel par jaye                                            |\n",
      "|mujhe aj dopahar 2 baje ka weather bataye .                             |\n",
      "|pauline ko mesage karo ki thank you very much for the lunch .           |\n",
      "|kya aj subah work ke liye roads saf hai                                 |\n",
      "|mujhe agley haftey ke liye hair apointment lene ke liye yad dilaye      |\n",
      "|mujhe aj ke liye alarms dikhao                                          |\n",
      "+------------------------------------------------------------------------+\n",
      "\n",
      "pos_hiencs download started this may take some time.\n",
      "Approximate size to download 83.9 KB\n",
      "[OK!]\n",
      "pos_anc download started this may take some time.\n",
      "Approximate size to download 3.9 MB\n",
      "[OK!]\n",
      "pos_hdtb download started this may take some time.\n",
      "Approximate size to download 2.6 MB\n",
      "[OK!]\n"
     ]
    }
   ],
   "source": [
    "# Let us compare the three models and find out the best one!\n",
    "test_df = df_cleaned.select(\"Normalized_Hinglish_Text\").dropna().limit(101)\n",
    "test_df.show(truncate=False)\n",
    "\n",
    "def pos_tag_with_model(df, text_col, model_name, lang):\n",
    "    document_assembler = DocumentAssembler() \\\n",
    "        .setInputCol(text_col) \\\n",
    "        .setOutputCol(\"document\")\n",
    "\n",
    "    tokenizer = Tokenizer() \\\n",
    "        .setInputCols([\"document\"]) \\\n",
    "        .setOutputCol(\"token\")\n",
    "\n",
    "    pos_tagger = PerceptronModel.pretrained(model_name, lang) \\\n",
    "        .setInputCols([\"document\", \"token\"]) \\\n",
    "        .setOutputCol(\"pos\")\n",
    "\n",
    "    pipeline = Pipeline(stages=[document_assembler, tokenizer, pos_tagger])\n",
    "    pos_model = pipeline.fit(df)\n",
    "    result = pos_model.transform(df)\n",
    "\n",
    "    token_pos = result.select(\n",
    "        F.explode(\n",
    "            F.arrays_zip(result.token.result, result.pos.result)\n",
    "        ).alias(\"cols\")\n",
    "    ).select(\n",
    "        F.col(\"cols.0\").alias(\"token\"),\n",
    "        F.col(\"cols.1\").alias(\"pos\")\n",
    "    )\n",
    "\n",
    "    collected = token_pos.collect()\n",
    "\n",
    "    pandas_df = pd.DataFrame([(row['token'], row['pos']) for row in collected], columns=[\"token\", \"pos\"])\n",
    "    return pandas_df\n",
    "\n",
    "# Applying this to all the three models!\n",
    "pos_hiencs = pos_tag_with_model(test_df, \"Normalized_Hinglish_Text\", \"pos_hiencs\", \"qhe\")\n",
    "pos_anc = pos_tag_with_model(test_df, \"Normalized_Hinglish_Text\", \"pos_anc\", \"en\")\n",
    "pos_hdtb = pos_tag_with_model(test_df, \"Normalized_Hinglish_Text\", \"pos_hdtb\", \"hi\")"
   ]
  },
  {
   "cell_type": "code",
   "execution_count": 34,
   "id": "dQieFUeiGakt",
   "metadata": {
    "id": "dQieFUeiGakt"
   },
   "outputs": [],
   "source": [
    "# Loading my ground_truth_label_1000 (manually annotated (POS_tagged)) file!\n",
    "ground_truth = pd.read_csv(\"/content/first_11_pos_tagged.csv\")"
   ]
  },
  {
   "cell_type": "code",
   "execution_count": 35,
   "id": "gfJDOeOqGUfF",
   "metadata": {
    "colab": {
     "base_uri": "https://localhost:8080/"
    },
    "id": "gfJDOeOqGUfF",
    "outputId": "3d91ac33-a3b4-41dc-a3d1-6abfdcefb5e1"
   },
   "outputs": [
    {
     "name": "stdout",
     "output_type": "stream",
     "text": [
      "       token  pos\n",
      "0         aj    .\n",
      "1    dopahar  NNP\n",
      "2         ko   NN\n",
      "3       work   NN\n",
      "4         ke   NN\n",
      "..       ...  ...\n",
      "111       aj  NNP\n",
      "112       ke   NN\n",
      "113     liye   NN\n",
      "114   alarms   VB\n",
      "115   dikhao    .\n",
      "\n",
      "[116 rows x 2 columns]\n",
      "       token  pos\n",
      "0         aj   NN\n",
      "1    dopahar   NN\n",
      "2         ko   NN\n",
      "3       work   NN\n",
      "4         ke   NN\n",
      "..       ...  ...\n",
      "111       aj   NN\n",
      "112       ke   NN\n",
      "113     liye   NN\n",
      "114   alarms  NNS\n",
      "115   dikhao   NN\n",
      "\n",
      "[116 rows x 2 columns]\n",
      "       token  pos\n",
      "0         aj  NNP\n",
      "1    dopahar  NNP\n",
      "2         ko  NNP\n",
      "3       work  NNP\n",
      "4         ke  NNP\n",
      "..       ...  ...\n",
      "111       aj  NNP\n",
      "112       ke  NNP\n",
      "113     liye  NNP\n",
      "114   alarms  NNP\n",
      "115   dikhao  NNP\n",
      "\n",
      "[116 rows x 2 columns]\n"
     ]
    }
   ],
   "source": [
    "# Normalizing in Penn Treebank convention (defining a normalizing mapping dict) for accurate comparision\n",
    "normalization_mapping = {\n",
    "    # Common mappings for Hindi/Multilingual models\n",
    "    \"PROPN\": \"NNP\",\n",
    "    \"NOUN\": \"NN\",\n",
    "    \"VERB\": \"VB\",\n",
    "    \"ADJ\": \"JJ\",\n",
    "    \"ADV\": \"RB\",\n",
    "    \"PRON\": \"PRP\",\n",
    "    \"ADP\": \"IN\",   # prepositions\n",
    "    \"DET\": \"DT\",   # determiners\n",
    "    \"NUM\": \"CD\",   # cardinal numbers\n",
    "    \"CONJ\": \"CC\",  # coordinating conjunction\n",
    "    \"CCONJ\": \"CC\", # coordinating conjunction (alt form)\n",
    "    \"SCONJ\": \"IN\", # subordinating conjunctions mapped as prepositions\n",
    "    \"PART\": \"RP\",  # particle\n",
    "    \"INTJ\": \"UH\",  # interjection\n",
    "    \"SYM\": \"SYM\",  # symbol\n",
    "    \"PUNCT\": \".\",\n",
    "    \"AUX\": \"VB\",   # auxiliary verbs as main verb\n",
    "    \"X\": \"FW\",     # foreign words\n",
    "    \"ROOT\": \"VB\",  # ROOT sometimes appears, treating it as verb\n",
    "    \"OTH\": \"NN\",   # catch-all unknowns\n",
    "}\n",
    "\n",
    "# If mapping not found keep the pos as it is!\n",
    "def normalize_pos_tag(tag):\n",
    "  return normalization_mapping.get(tag, tag)\n",
    "\n",
    "def normalize_pos_df(pos_df):\n",
    "  pos_df_normalized = pos_df.copy()\n",
    "  pos_df_normalized[\"pos\"] = pos_df_normalized[\"pos\"].apply(normalize_pos_tag)\n",
    "  return pos_df_normalized\n",
    "\n",
    "# Verifying it (this will give sentence-level tokenization)\n",
    "normalized_pos_hiencs = normalize_pos_df(pos_hiencs)\n",
    "normalized_pos_anc = normalize_pos_df(pos_anc)\n",
    "normalized_pos_hdtb = normalize_pos_df(pos_hdtb)\n",
    "\n",
    "print(normalized_pos_hiencs)\n",
    "print(normalized_pos_anc)\n",
    "print(normalized_pos_hdtb)"
   ]
  },
  {
   "cell_type": "code",
   "execution_count": 36,
   "id": "RYUpqzIlUKA4",
   "metadata": {
    "colab": {
     "base_uri": "https://localhost:8080/",
     "height": 206
    },
    "id": "RYUpqzIlUKA4",
    "outputId": "3d34b4ea-223c-450d-cc51-b30d895f7f14"
   },
   "outputs": [
    {
     "data": {
      "application/vnd.google.colaboratory.intrinsic+json": {
       "summary": "{\n  \"name\": \"ground_truth_exploded\",\n  \"rows\": 116,\n  \"fields\": [\n    {\n      \"column\": \"token\",\n      \"properties\": {\n        \"dtype\": \"string\",\n        \"num_unique_values\": 86,\n        \"samples\": [\n          \"saaf\",\n          \"aj\",\n          \"the\"\n        ],\n        \"semantic_type\": \"\",\n        \"description\": \"\"\n      }\n    },\n    {\n      \"column\": \"pos\",\n      \"properties\": {\n        \"dtype\": \"category\",\n        \"num_unique_values\": 16,\n        \"samples\": [\n          \"NN\",\n          \"IN\",\n          \"?\"\n        ],\n        \"semantic_type\": \"\",\n        \"description\": \"\"\n      }\n    }\n  ]\n}",
       "type": "dataframe",
       "variable_name": "ground_truth_exploded"
      },
      "text/html": [
       "\n",
       "  <div id=\"df-4dc63fd4-f6c5-459e-82d7-7fa479b3663c\" class=\"colab-df-container\">\n",
       "    <div>\n",
       "<style scoped>\n",
       "    .dataframe tbody tr th:only-of-type {\n",
       "        vertical-align: middle;\n",
       "    }\n",
       "\n",
       "    .dataframe tbody tr th {\n",
       "        vertical-align: top;\n",
       "    }\n",
       "\n",
       "    .dataframe thead th {\n",
       "        text-align: right;\n",
       "    }\n",
       "</style>\n",
       "<table border=\"1\" class=\"dataframe\">\n",
       "  <thead>\n",
       "    <tr style=\"text-align: right;\">\n",
       "      <th></th>\n",
       "      <th>token</th>\n",
       "      <th>pos</th>\n",
       "    </tr>\n",
       "  </thead>\n",
       "  <tbody>\n",
       "    <tr>\n",
       "      <th>0</th>\n",
       "      <td>aj</td>\n",
       "      <td>NN</td>\n",
       "    </tr>\n",
       "    <tr>\n",
       "      <th>1</th>\n",
       "      <td>dopahar</td>\n",
       "      <td>NN</td>\n",
       "    </tr>\n",
       "    <tr>\n",
       "      <th>2</th>\n",
       "      <td>ko</td>\n",
       "      <td>IN</td>\n",
       "    </tr>\n",
       "    <tr>\n",
       "      <th>3</th>\n",
       "      <td>work</td>\n",
       "      <td>NN</td>\n",
       "    </tr>\n",
       "    <tr>\n",
       "      <th>4</th>\n",
       "      <td>ke</td>\n",
       "      <td>IN</td>\n",
       "    </tr>\n",
       "  </tbody>\n",
       "</table>\n",
       "</div>\n",
       "    <div class=\"colab-df-buttons\">\n",
       "\n",
       "  <div class=\"colab-df-container\">\n",
       "    <button class=\"colab-df-convert\" onclick=\"convertToInteractive('df-4dc63fd4-f6c5-459e-82d7-7fa479b3663c')\"\n",
       "            title=\"Convert this dataframe to an interactive table.\"\n",
       "            style=\"display:none;\">\n",
       "\n",
       "  <svg xmlns=\"http://www.w3.org/2000/svg\" height=\"24px\" viewBox=\"0 -960 960 960\">\n",
       "    <path d=\"M120-120v-720h720v720H120Zm60-500h600v-160H180v160Zm220 220h160v-160H400v160Zm0 220h160v-160H400v160ZM180-400h160v-160H180v160Zm440 0h160v-160H620v160ZM180-180h160v-160H180v160Zm440 0h160v-160H620v160Z\"/>\n",
       "  </svg>\n",
       "    </button>\n",
       "\n",
       "  <style>\n",
       "    .colab-df-container {\n",
       "      display:flex;\n",
       "      gap: 12px;\n",
       "    }\n",
       "\n",
       "    .colab-df-convert {\n",
       "      background-color: #E8F0FE;\n",
       "      border: none;\n",
       "      border-radius: 50%;\n",
       "      cursor: pointer;\n",
       "      display: none;\n",
       "      fill: #1967D2;\n",
       "      height: 32px;\n",
       "      padding: 0 0 0 0;\n",
       "      width: 32px;\n",
       "    }\n",
       "\n",
       "    .colab-df-convert:hover {\n",
       "      background-color: #E2EBFA;\n",
       "      box-shadow: 0px 1px 2px rgba(60, 64, 67, 0.3), 0px 1px 3px 1px rgba(60, 64, 67, 0.15);\n",
       "      fill: #174EA6;\n",
       "    }\n",
       "\n",
       "    .colab-df-buttons div {\n",
       "      margin-bottom: 4px;\n",
       "    }\n",
       "\n",
       "    [theme=dark] .colab-df-convert {\n",
       "      background-color: #3B4455;\n",
       "      fill: #D2E3FC;\n",
       "    }\n",
       "\n",
       "    [theme=dark] .colab-df-convert:hover {\n",
       "      background-color: #434B5C;\n",
       "      box-shadow: 0px 1px 3px 1px rgba(0, 0, 0, 0.15);\n",
       "      filter: drop-shadow(0px 1px 2px rgba(0, 0, 0, 0.3));\n",
       "      fill: #FFFFFF;\n",
       "    }\n",
       "  </style>\n",
       "\n",
       "    <script>\n",
       "      const buttonEl =\n",
       "        document.querySelector('#df-4dc63fd4-f6c5-459e-82d7-7fa479b3663c button.colab-df-convert');\n",
       "      buttonEl.style.display =\n",
       "        google.colab.kernel.accessAllowed ? 'block' : 'none';\n",
       "\n",
       "      async function convertToInteractive(key) {\n",
       "        const element = document.querySelector('#df-4dc63fd4-f6c5-459e-82d7-7fa479b3663c');\n",
       "        const dataTable =\n",
       "          await google.colab.kernel.invokeFunction('convertToInteractive',\n",
       "                                                    [key], {});\n",
       "        if (!dataTable) return;\n",
       "\n",
       "        const docLinkHtml = 'Like what you see? Visit the ' +\n",
       "          '<a target=\"_blank\" href=https://colab.research.google.com/notebooks/data_table.ipynb>data table notebook</a>'\n",
       "          + ' to learn more about interactive tables.';\n",
       "        element.innerHTML = '';\n",
       "        dataTable['output_type'] = 'display_data';\n",
       "        await google.colab.output.renderOutput(dataTable, element);\n",
       "        const docLink = document.createElement('div');\n",
       "        docLink.innerHTML = docLinkHtml;\n",
       "        element.appendChild(docLink);\n",
       "      }\n",
       "    </script>\n",
       "  </div>\n",
       "\n",
       "\n",
       "    <div id=\"df-27461acf-6361-4269-9bee-8d019e292bf2\">\n",
       "      <button class=\"colab-df-quickchart\" onclick=\"quickchart('df-27461acf-6361-4269-9bee-8d019e292bf2')\"\n",
       "                title=\"Suggest charts\"\n",
       "                style=\"display:none;\">\n",
       "\n",
       "<svg xmlns=\"http://www.w3.org/2000/svg\" height=\"24px\"viewBox=\"0 0 24 24\"\n",
       "     width=\"24px\">\n",
       "    <g>\n",
       "        <path d=\"M19 3H5c-1.1 0-2 .9-2 2v14c0 1.1.9 2 2 2h14c1.1 0 2-.9 2-2V5c0-1.1-.9-2-2-2zM9 17H7v-7h2v7zm4 0h-2V7h2v10zm4 0h-2v-4h2v4z\"/>\n",
       "    </g>\n",
       "</svg>\n",
       "      </button>\n",
       "\n",
       "<style>\n",
       "  .colab-df-quickchart {\n",
       "      --bg-color: #E8F0FE;\n",
       "      --fill-color: #1967D2;\n",
       "      --hover-bg-color: #E2EBFA;\n",
       "      --hover-fill-color: #174EA6;\n",
       "      --disabled-fill-color: #AAA;\n",
       "      --disabled-bg-color: #DDD;\n",
       "  }\n",
       "\n",
       "  [theme=dark] .colab-df-quickchart {\n",
       "      --bg-color: #3B4455;\n",
       "      --fill-color: #D2E3FC;\n",
       "      --hover-bg-color: #434B5C;\n",
       "      --hover-fill-color: #FFFFFF;\n",
       "      --disabled-bg-color: #3B4455;\n",
       "      --disabled-fill-color: #666;\n",
       "  }\n",
       "\n",
       "  .colab-df-quickchart {\n",
       "    background-color: var(--bg-color);\n",
       "    border: none;\n",
       "    border-radius: 50%;\n",
       "    cursor: pointer;\n",
       "    display: none;\n",
       "    fill: var(--fill-color);\n",
       "    height: 32px;\n",
       "    padding: 0;\n",
       "    width: 32px;\n",
       "  }\n",
       "\n",
       "  .colab-df-quickchart:hover {\n",
       "    background-color: var(--hover-bg-color);\n",
       "    box-shadow: 0 1px 2px rgba(60, 64, 67, 0.3), 0 1px 3px 1px rgba(60, 64, 67, 0.15);\n",
       "    fill: var(--button-hover-fill-color);\n",
       "  }\n",
       "\n",
       "  .colab-df-quickchart-complete:disabled,\n",
       "  .colab-df-quickchart-complete:disabled:hover {\n",
       "    background-color: var(--disabled-bg-color);\n",
       "    fill: var(--disabled-fill-color);\n",
       "    box-shadow: none;\n",
       "  }\n",
       "\n",
       "  .colab-df-spinner {\n",
       "    border: 2px solid var(--fill-color);\n",
       "    border-color: transparent;\n",
       "    border-bottom-color: var(--fill-color);\n",
       "    animation:\n",
       "      spin 1s steps(1) infinite;\n",
       "  }\n",
       "\n",
       "  @keyframes spin {\n",
       "    0% {\n",
       "      border-color: transparent;\n",
       "      border-bottom-color: var(--fill-color);\n",
       "      border-left-color: var(--fill-color);\n",
       "    }\n",
       "    20% {\n",
       "      border-color: transparent;\n",
       "      border-left-color: var(--fill-color);\n",
       "      border-top-color: var(--fill-color);\n",
       "    }\n",
       "    30% {\n",
       "      border-color: transparent;\n",
       "      border-left-color: var(--fill-color);\n",
       "      border-top-color: var(--fill-color);\n",
       "      border-right-color: var(--fill-color);\n",
       "    }\n",
       "    40% {\n",
       "      border-color: transparent;\n",
       "      border-right-color: var(--fill-color);\n",
       "      border-top-color: var(--fill-color);\n",
       "    }\n",
       "    60% {\n",
       "      border-color: transparent;\n",
       "      border-right-color: var(--fill-color);\n",
       "    }\n",
       "    80% {\n",
       "      border-color: transparent;\n",
       "      border-right-color: var(--fill-color);\n",
       "      border-bottom-color: var(--fill-color);\n",
       "    }\n",
       "    90% {\n",
       "      border-color: transparent;\n",
       "      border-bottom-color: var(--fill-color);\n",
       "    }\n",
       "  }\n",
       "</style>\n",
       "\n",
       "      <script>\n",
       "        async function quickchart(key) {\n",
       "          const quickchartButtonEl =\n",
       "            document.querySelector('#' + key + ' button');\n",
       "          quickchartButtonEl.disabled = true;  // To prevent multiple clicks.\n",
       "          quickchartButtonEl.classList.add('colab-df-spinner');\n",
       "          try {\n",
       "            const charts = await google.colab.kernel.invokeFunction(\n",
       "                'suggestCharts', [key], {});\n",
       "          } catch (error) {\n",
       "            console.error('Error during call to suggestCharts:', error);\n",
       "          }\n",
       "          quickchartButtonEl.classList.remove('colab-df-spinner');\n",
       "          quickchartButtonEl.classList.add('colab-df-quickchart-complete');\n",
       "        }\n",
       "        (() => {\n",
       "          let quickchartButtonEl =\n",
       "            document.querySelector('#df-27461acf-6361-4269-9bee-8d019e292bf2 button');\n",
       "          quickchartButtonEl.style.display =\n",
       "            google.colab.kernel.accessAllowed ? 'block' : 'none';\n",
       "        })();\n",
       "      </script>\n",
       "    </div>\n",
       "\n",
       "    </div>\n",
       "  </div>\n"
      ],
      "text/plain": [
       "     token pos\n",
       "0       aj  NN\n",
       "1  dopahar  NN\n",
       "2       ko  IN\n",
       "3     work  NN\n",
       "4       ke  IN"
      ]
     },
     "execution_count": 36,
     "metadata": {},
     "output_type": "execute_result"
    }
   ],
   "source": [
    "# But we will need word-level tokenization for comparision!\n",
    "def explode_ground_truth(ground_truth_df):\n",
    "  exploded_rows = []\n",
    "  for index, row in ground_truth_df.iterrows():\n",
    "    tokens = row[\"Hinglish_Text\"].split()\n",
    "    pos_tags = row[\"pos_tags\"].split()\n",
    "    for token, pos_tag in zip(tokens, pos_tags):\n",
    "      exploded_rows.append({\"token\": token, \"pos\": pos_tag})\n",
    "  return pd.DataFrame(exploded_rows)\n",
    "\n",
    "ground_truth_exploded = explode_ground_truth(ground_truth)\n",
    "ground_truth_exploded.head()"
   ]
  },
  {
   "cell_type": "code",
   "execution_count": 37,
   "id": "nGZXkCz2GeCY",
   "metadata": {
    "colab": {
     "base_uri": "https://localhost:8080/"
    },
    "id": "nGZXkCz2GeCY",
    "outputId": "4cfa5bc2-fd08-40e3-80d4-61dffda8f7f6"
   },
   "outputs": [
    {
     "name": "stdout",
     "output_type": "stream",
     "text": [
      "Accuracy for pos_hiencs:  22.413793103448278\n",
      "Accuracy for pos_anc:  36.206896551724135\n",
      "Accuracy for pos_hdtb:  9.482758620689655\n"
     ]
    }
   ],
   "source": [
    "# Defining the acc metrics\n",
    "def compute_accuracy(pred_df, ground_truth_df):\n",
    "  correct = (pred_df[\"pos\"].reset_index(drop = True) == ground_truth_df[\"pos\"].reset_index(drop = True)).sum()\n",
    "  total = len(ground_truth_df)\n",
    "  return (correct/total)*100\n",
    "\n",
    "accuracy_hiencs = compute_accuracy(normalized_pos_hiencs, ground_truth_exploded)\n",
    "accuracy_anc = compute_accuracy(normalized_pos_anc, ground_truth_exploded)\n",
    "accuracy_hdtb = compute_accuracy(normalized_pos_hdtb, ground_truth_exploded)\n",
    "\n",
    "print(\"Accuracy for pos_hiencs: \", accuracy_hiencs)\n",
    "print(\"Accuracy for pos_anc: \", accuracy_anc)\n",
    "print(\"Accuracy for pos_hdtb: \", accuracy_hdtb)"
   ]
  },
  {
   "cell_type": "code",
   "execution_count": 38,
   "id": "dn_13gJaHTXQ",
   "metadata": {
    "colab": {
     "base_uri": "https://localhost:8080/",
     "height": 564
    },
    "id": "dn_13gJaHTXQ",
    "outputId": "3137070d-506b-48d3-9713-5f8b46f586f2"
   },
   "outputs": [
    {
     "data": {
      "image/png": "[encoded data removed]",
      "text/plain": [
       "<Figure size 800x600 with 1 Axes>"
      ]
     },
     "metadata": {},
     "output_type": "display_data"
    }
   ],
   "source": [
    "# Identifying the best model\n",
    "# Bar Plot for comparison\n",
    "models = ['pos_hiencs', 'pos_anc', 'pos_hdtb']\n",
    "accuracies = [accuracy_hiencs, accuracy_anc, accuracy_hdtb]\n",
    "\n",
    "plt.figure(figsize=(8, 6))\n",
    "plt.bar(models, accuracies)\n",
    "plt.xlabel('Model')\n",
    "plt.ylabel('POS Tagging Accuracy(%)')\n",
    "plt.title('POS Tagging Accuracy Comparison')\n",
    "plt.ylim(0, 100)\n",
    "plt.show()"
   ]
  },
  {
   "cell_type": "code",
   "execution_count": 39,
   "id": "acd32e9a-d5b2-4f7c-a931-859426a249c7",
   "metadata": {
    "colab": {
     "base_uri": "https://localhost:8080/"
    },
    "id": "acd32e9a-d5b2-4f7c-a931-859426a249c7",
    "outputId": "d7893d64-8502-40cd-c371-ac9193a39f06"
   },
   "outputs": [
    {
     "name": "stdout",
     "output_type": "stream",
     "text": [
      "Warning::Spark Session already created, some configs may not take.\n",
      "pos_anc download started this may take some time.\n",
      "Approximate size to download 3.9 MB\n",
      "[OK!]\n"
     ]
    },
    {
     "data": {
      "text/plain": [
       "DataFrame[English_Text: string, Normalized_Hinglish_Text: string, has_negation: int, pos_tags: string]"
      ]
     },
     "execution_count": 39,
     "metadata": {},
     "output_type": "execute_result"
    }
   ],
   "source": [
    "# So from above, we identified that pos_anc works best for pos_tagging on 11 text samples, although pos_hiencs is tweaked for working on Hinglish texts!\n",
    "spark = sparknlp.start()\n",
    "\n",
    "# Defining the pipeline stages for POS tagging\n",
    "document_assembler = DocumentAssembler() \\\n",
    "                    .setInputCol(\"English_Text\") \\\n",
    "                    .setOutputCol(\"document\")\n",
    "\n",
    "tokenizer = Tokenizer() \\\n",
    "            .setInputCols([\"document\"]) \\\n",
    "            .setOutputCol(\"token\")\n",
    "\n",
    "# Hence using pos_anc, which is an opensorce pos_tagging model provided by JohnSnow labs!\n",
    "pos_model = PerceptronModel.pretrained(\"pos_anc\", \"en\") \\\n",
    "        .setInputCols([\"document\", \"token\"]) \\\n",
    "        .setOutputCol(\"pos\")\n",
    "\n",
    "finisher = Finisher() \\\n",
    "           .setInputCols([\"pos\"]) \\\n",
    "           .setOutputCols(\"pos_tags\")\n",
    "\n",
    "# Assembling and running the pipeline\n",
    "pos_pipeline = Pipeline().setStages([document_assembler, tokenizer, pos_model, finisher])\n",
    "pos_pipeline_model = pos_pipeline.fit(df_cleaned)\n",
    "df_cleaned = pos_pipeline_model.transform(df_cleaned)\n",
    "\n",
    "df_cleaned = df_cleaned.withColumn(\"pos_tags\", array_join(\"pos_tags\", \" \"))\n",
    "\n",
    "df_cleaned.select(\"English_Text\", \"Normalized_Hinglish_Text\", \"has_negation\", \"pos_tags\")"
   ]
  },
  {
   "cell_type": "code",
   "execution_count": 40,
   "id": "87746a00-1664-41b3-b7b8-d00e7401aad1",
   "metadata": {
    "colab": {
     "base_uri": "https://localhost:8080/"
    },
    "id": "87746a00-1664-41b3-b7b8-d00e7401aad1",
    "outputId": "0a6f2317-fe3d-462b-9f07-d30d59c236ef"
   },
   "outputs": [
    {
     "name": "stdout",
     "output_type": "stream",
     "text": [
      "+--------------------------------------------------------------------------+--------------------------------------------------------------------------+------------+-----------------------------------------------------------+\n",
      "|English_Text                                                              |Normalized_Hinglish_Text                                                  |has_negation|pos_tags                                                   |\n",
      "+--------------------------------------------------------------------------+--------------------------------------------------------------------------+------------+-----------------------------------------------------------+\n",
      "|Set a reminder to place an order for work at noon today                   |aj dopahar ko work ke liye order plac karne ke liye reminder set kare     |0           |NNP DT NN TO VB DT NN IN NN IN NN NN                       |\n",
      "|When is sun in the forecast for this week ?                               |is wek ke liye sun kab forecast mein hai ?                                |0           |WRB VBZ NN IN DT NN IN DT NN .                             |\n",
      "|How many reminders for setting out the trash have I had so far this year ?|is sal maine kachra bahar nikalne ke liye kitne reminders gehae hai ?     |0           |WRB JJ NNS IN VBG IN DT NN VBP PRP VBD RB RB DT NN .       |\n",
      "|Christmas lights near Philadelphia open now                               |philadelphia ke as pas ke christmas lights abhi khul gaye hai             |0           |NNP NNS IN NNP JJ RB                                       |\n",
      "|How long will it take me to get to USC if I leave now ?                   |agar main abhi nikalta hon toh mujhe usc pahuchne mei kitni der lagegi ?  |0           |WRB JJ MD PRP VB PRP TO VB TO NNP IN PRP VBP RB .          |\n",
      "|Tune to Mickey Mouse channel                                              |mickey mouse chanel par jaye                                              |0           |NNP TO NNP NNP NN                                          |\n",
      "|Tell me the weather for 2 pm today .                                      |mujhe aj dopahar 2 baje ka weather bataye .                               |0           |VB PRP DT NN IN CD NN NN .                                 |\n",
      "|message Pauline thank you very much for the lunch .                       |pauline ko mesage karo ki thank you very much for the lunch .             |0           |NN NNP VB PRP RB RB IN DT NN .                             |\n",
      "|Are the roads clear to work this morning                                  |kya aj subah work ke liye roads saf hai                                   |0           |VBP DT NNS JJ TO VB DT NN                                  |\n",
      "|Remind me to make a hair appointment for next week .                      |mujhe agley haftey ke liye hair apointment lene ke liye yad dilaye        |0           |VB PRP TO VB DT NN NN IN JJ NN .                           |\n",
      "|Show me the alarms for today                                              |mujhe aj ke liye alarms dikhao                                            |0           |NNP PRP DT NNS IN NN                                       |\n",
      "|Can I listen to luke bryan ' s new CD ?                                   |kya main luke bryan ke naye cd ko sun sakta hoon ?                        |0           |MD PRP VB TO VB NN '' VBZ JJ NN .                          |\n",
      "|set my morning alarm for 30 minutes earlier                               |30 minutes pehle mere morning alarm ko set karen                          |0           |VBN PRP$ NN NN IN CD NNS RBR                               |\n",
      "|can you go to chats                                                       |kya ap chats par jasakte hai                                              |0           |MD PRP VB TO NNS                                           |\n",
      "|how long will it take me to get to walmart from here                      |yaha se mujhe walmart pahuchne mei kitni der lagegi                       |0           |WRB JJ MD PRP VB PRP TO VB TO VB IN RB                     |\n",
      "|i don ' t want to hear the video message                                  |main video mesage nahi suna chahta hon                                    |0           |NNP VB POS NN VBP TO VB DT NN NN                           |\n",
      "|create a daily alarm for for the next month                               |agley mahine ke liye daily alarm create kare                              |0           |VB DT JJ NN IN IN DT JJ NN                                 |\n",
      "|Shoot a text to my cousins Steven and Julian .                            |mere cousins steven aur julian ko text bhejo                              |0           |NNP DT NN TO PRP$ NNS NNP CC NNP .                         |\n",
      "|Message Benji to see if he left his towel at my house last night          |benji ko mesage karo aur dekho ke he left his towel at my house last night|0           |NN NNP TO VB IN PRP VBD PRP$ NN IN PRP$ NN JJ NN           |\n",
      "|To get to Vegas from my sister ' s house how many hours will I be driving |meri sister ke ghar se vegas jane ke liye kitne ghante ki driving hogi    |0           |TO VB TO NNP IN PRP$ NN POS VBZ NN WRB JJ NNS MD PRP VB VBG|\n",
      "+--------------------------------------------------------------------------+--------------------------------------------------------------------------+------------+-----------------------------------------------------------+\n",
      "only showing top 20 rows\n",
      "\n"
     ]
    }
   ],
   "source": [
    "df_cleaned.select(\"English_Text\", \"Normalized_Hinglish_Text\", \"has_negation\", \"pos_tags\").show(truncate=False)"
   ]
  },
  {
   "cell_type": "code",
   "execution_count": 41,
   "id": "2eb4a51c-5f7f-47d5-a733-2304864c5a47",
   "metadata": {
    "id": "2eb4a51c-5f7f-47d5-a733-2304864c5a47"
   },
   "outputs": [],
   "source": [
    "# Let us take one example to see if words are correctly mapped to their corresponding pos tags!\n",
    "def hinglish_pos_tags(df, text_col):\n",
    "  # defining stages\n",
    "  document_assembler = DocumentAssembler() \\\n",
    "                    .setInputCol(text_col) \\\n",
    "                    .setOutputCol(\"document\")\n",
    "\n",
    "  tokenizer = Tokenizer() \\\n",
    "            .setInputCols([\"document\"]) \\\n",
    "            .setOutputCol(\"token\")\n",
    "\n",
    "  pos_tagger = PerceptronModel.pretrained(\"pos_anc\", \"en\") \\\n",
    "            .setInputCols([\"document\", \"token\"]) \\\n",
    "            .setOutputCol(\"pos\")\n",
    "\n",
    "  # building pipeline\n",
    "  pipeline = Pipeline(stages = [document_assembler, tokenizer, pos_tagger])\n",
    "  pos_model = pipeline.fit(df)\n",
    "  result = pos_model.transform(df)\n",
    "\n",
    "  # # extracting tokens and pos_tags\n",
    "  # F.explode: maps col to rows\n",
    "  token_pos = result.select(\n",
    "      F.explode(\n",
    "          F.arrays_zip(result.token.result, result.pos.result)\n",
    "      ).alias(\"cols\")\n",
    "  ).select(\n",
    "      F.col(\"cols.0\").alias(\"token\"),\n",
    "      F.col(\"cols.1\").alias(\"pos\")\n",
    "  )\n",
    "\n",
    "  collected = token_pos.collect()\n",
    "  output = [{\"token\": row[\"token\"], \"pos\": row[\"pos\"]} for row in collected]\n",
    "\n",
    "  return output"
   ]
  },
  {
   "cell_type": "code",
   "execution_count": 42,
   "id": "gSKEgdCusZkt",
   "metadata": {
    "colab": {
     "base_uri": "https://localhost:8080/"
    },
    "id": "gSKEgdCusZkt",
    "outputId": "10e3b2e5-32c1-45b5-cdaf-fe437f9d7ea6"
   },
   "outputs": [
    {
     "name": "stdout",
     "output_type": "stream",
     "text": [
      "DataFrame[Normalized_Hinglish_Text: string]\n",
      "pos_anc download started this may take some time.\n",
      "Approximate size to download 3.9 MB\n",
      "[OK!]\n",
      "[{'token': 'yaha', 'pos': 'NN'}, {'token': 'se', 'pos': 'FW'}, {'token': 'mujhe', 'pos': 'NN'}, {'token': 'walmart', 'pos': 'NN'}, {'token': 'pahuchne', 'pos': 'NN'}, {'token': 'mei', 'pos': 'NN'}, {'token': 'kitni', 'pos': 'NN'}, {'token': 'der', 'pos': 'NN'}, {'token': 'lagegi', 'pos': 'NN'}]\n"
     ]
    }
   ],
   "source": [
    "# Example from dataset!\n",
    "data = [(\"yaha se mujhe walmart pahuchne mei kitni der lagegi\",)]\n",
    "columns = [\"Normalized_Hinglish_Text\"]\n",
    "df = spark.createDataFrame(data, columns)\n",
    "print(df)\n",
    "\n",
    "# calling my 'hinglish_pos_tags' func\n",
    "output = hinglish_pos_tags(df, \"Normalized_Hinglish_Text\")\n",
    "print(output)\n"
   ]
  },
  {
   "cell_type": "markdown",
   "id": "JEPsMGZH6o-q",
   "metadata": {
    "id": "JEPsMGZH6o-q"
   },
   "source": [
    "### Detecting and Extracting Stopwords\n",
    "\n",
    "### Calculating Percentage of Stopwords\n",
    "\n",
    "We applied Spark NLP’s pretrained StopWordsCleaner models separately on both the \"English_Text\" and \"Normalized_Hinglish_Text\" columns to detect standard English and Hindi stopwords. To further improve accuracy, we designed a custom Hinglish stopword set and added it as an additional layer. After combining all stopwords, two features were created: all_stopwords (list of all detected stopwords) and stopwords_percentage (the proportion of stopwords in the text). The entire process was efficiently implemented using SparkML pipelines to ensure scalability across large datasets.\n",
    "\n"
   ]
  },
  {
   "cell_type": "code",
   "execution_count": 43,
   "id": "60WjklC4awXC",
   "metadata": {
    "colab": {
     "base_uri": "https://localhost:8080/"
    },
    "id": "60WjklC4awXC",
    "outputId": "f866e0d9-8d91-4939-ae77-ced5ce783a81"
   },
   "outputs": [
    {
     "name": "stdout",
     "output_type": "stream",
     "text": [
      "stopwords_en download started this may take some time.\n",
      "Approximate size to download 2.9 KB\n",
      "[OK!]\n",
      "stopwords_hi download started this may take some time.\n",
      "Approximate size to download 2.2 KB\n",
      "[OK!]\n"
     ]
    }
   ],
   "source": [
    "# Custom Hinglish stopwords list\n",
    "custom_hinglish_stopwords = [\n",
    "    \"hai\",  \"kya\", \"ke\", \"ki\", \"ko\", \"ka\", \"mein\", \"me\", \"par\", \"se\", \"aur\", \"ab\", \"nahi\",\n",
    "    \"tha\", \"thi\", \"the\", \"hogi\", \"hogaya\", \"hogayi\", \"hone\", \"hota\", \"hoti\", \"hona\",\n",
    "    \"tak\", \"liye\", \"ja\", \"raha\", \"rahi\", \"rha\", \"rhi\", \"mai\", \"mujhe\", \"tum\", \"apna\",\n",
    "    \"apne\", \"apni\", \"unka\", \"unki\", \"unke\", \"mere\", \"meri\", \"mereko\", \"ye\", \"vo\",\n",
    "    \"wo\", \"kab\", \"kaise\", \"kyon\", \"kis\", \"kisi\", \"kisi bhi\", \"sab\", \"har\", \"bahut\", \"zyada\"\n",
    "]\n",
    "\n",
    "document_assembler = DocumentAssembler() \\\n",
    "                  .setInputCol(\"Normalized_Hinglish_Text\") \\\n",
    "                  .setOutputCol(\"document\")\n",
    "\n",
    "tokenizer = Tokenizer() \\\n",
    "          .setInputCols([\"document\"]) \\\n",
    "          .setOutputCol(\"token\")\n",
    "\n",
    "# Initializing English Stopwords:\n",
    "stopwords_cleaner_en = StopWordsCleaner.pretrained(\"stopwords_en\", \"en\") \\\n",
    "                      .setInputCols(\"token\") \\\n",
    "                      .setOutputCol(\"cleaned_token_en\") \\\n",
    "                      .setCaseSensitive(False)\n",
    "\n",
    "# Initializing Hindi Stopwords:\n",
    "stopwords_cleaner_hi = StopWordsCleaner.pretrained(\"stopwords_hi\", \"hi\") \\\n",
    "                      .setInputCols(\"token\") \\\n",
    "                      .setOutputCol(\"cleaned_token_hi\") \\\n",
    "                      .setCaseSensitive(False)\n",
    "\n",
    "# Pipeline\n",
    "pipeline = Pipeline(stages = [document_assembler, tokenizer, stopwords_cleaner_en, stopwords_cleaner_hi])\n",
    "stopwords_model = pipeline.fit(df_cleaned)\n",
    "result = stopwords_model.transform(df_cleaned)\n",
    "\n",
    "# Creating two features:\n",
    "# 1. Stopwords\n",
    "# First of all extracting original tokens\n",
    "result = result.withColumn(\"all_tokens\", F.col(\"token.result\"))\n",
    "\n",
    "# Now computing Stopwords using pretrained model\n",
    "result = result.withColumn(\"en_stopwords\", F.expr(\"array_except(all_tokens, cleaned_token_en.result)\")) \\\n",
    "               .withColumn(\"hi_stopwords\", F.expr(\"array_except(all_tokens, cleaned_token_hi.result)\"))\n",
    "result = result.withColumn(\"all_stopwords\", F.array_union(\"en_stopwords\", \"hi_stopwords\"))\n",
    "\n",
    "# Now including custom list to it as well!\n",
    "@F.udf(\"array<string>\")\n",
    "def detect_custom_stopwords(tokens):\n",
    "  if tokens is None:\n",
    "    return []\n",
    "  return [t for t in tokens if t.lower() in custom_hinglish_stopwords]\n",
    "result = result.withColumn(\"custom_hinglish_stopwords\", detect_custom_stopwords(F.col(\"all_tokens\")))\n",
    "\n",
    "# Final stopwords list!\n",
    "result = result.withColumn(\"all_stopwords\", F.array_union(\"all_stopwords\", \"custom_hinglish_stopwords\"))\n",
    "\n",
    "# 2. Computing % of stopwords\n",
    "result = result.withColumn(\"total_tokens\", F.size(\"all_tokens\")) \\\n",
    "               .withColumn(\"stopwords_count\", F.size(\"all_stopwords\")) \\\n",
    "               .withColumn(\"stopwords_percentage\", (F.col(\"stopwords_count\") / F.col(\"total_tokens\"))*100)\n",
    "\n",
    "# Finally adding the new features into the table\n",
    "df_cleaned = df_cleaned.join(result.select(\"Normalized_Hinglish_Text\", \"English_Text\", \"all_stopwords\", \"stopwords_percentage\"), on=[\"English_Text\", \"Normalized_Hinglish_Text\"], how=\"left\")"
   ]
  },
  {
   "cell_type": "code",
   "execution_count": null,
   "id": "4f1Csip6bwHD",
   "metadata": {
    "id": "4f1Csip6bwHD"
   },
   "outputs": [],
   "source": [
    "# df_cleaned.select(\"English_Text\", \"Normalized_Hinglish_Text\", \"has_negation\", \"pos_tags\", \"all_stopwords\", \"stopwords_percentage\").show(truncate=False)"
   ]
  },
  {
   "cell_type": "code",
   "execution_count": null,
   "id": "rCHdUP20bwEv",
   "metadata": {
    "colab": {
     "base_uri": "https://localhost:8080/"
    },
    "id": "rCHdUP20bwEv",
    "outputId": "aac75075-9d37-45ca-9838-bf966e512089"
   },
   "outputs": [
    {
     "name": "stdout",
     "output_type": "stream",
     "text": [
      "+----------------------------------------------------------------------------------+-------------------------------------------------------------------------------------+------------+-------------------------------------------------------------+--------------------------+--------------------+\n",
      "|English_Text                                                                      |Normalized_Hinglish_Text                                                             |has_negation|pos_tags                                                     |all_stopwords             |stopwords_percentage|\n",
      "+----------------------------------------------------------------------------------+-------------------------------------------------------------------------------------+------------+-------------------------------------------------------------+--------------------------+--------------------+\n",
      "|Are we expecting rain today ?                                                     |kya aj barish ki umed karsakte hai ?                                                 |0           |VBP PRP VBG NN NN .                                          |kya,ki,hai                |37.5                |\n",
      "|Can I listen to luke bryan ' s new CD ?                                           |kya main luke bryan ke naye cd ko sun sakta hoon ?                                   |0           |MD PRP VB TO VB NN '' VBZ JJ NN .                            |kya,ke,ko                 |25.0                |\n",
      "|How long are the delays to the Maroon 5 concert ?                                 |the maron 5 concert ke liye delays kitne lambi hai ?                                 |0           |WRB JJ VBP DT NNS TO DT NNP CD NN .                          |the,ke,liye,hai           |36.36363636363637   |\n",
      "|How long will it take me to get to USC if I leave now ?                           |agar main abhi nikalta hon toh mujhe usc pahuchne mei kitni der lagegi ?             |0           |WRB JJ MD PRP VB PRP TO VB TO NNP IN PRP VBP RB .            |mujhe                     |7.142857142857142   |\n",
      "|How many miles from here to Tampa , Florida                                       |yaha se tampa , florida tak kitne miles hai                                          |0           |WRB JJ NNS IN RB TO NNP , NNP                                |se,tak,hai                |33.33333333333333   |\n",
      "|Is the traffic heavy today in Selma , Alabama                                     |kya aj selma , alabama mei trafic bhari hai                                          |0           |VBZ DT NN JJ NN IN NNP , NNP                                 |kya,hai                   |22.22222222222222   |\n",
      "|Remind me to pick up Miya at 3  30 all next week                                  |agle hafte tak mujhe 3 30 ko miya ko pick karne ke liye yad dilayen                  |0           |VB PRP TO VB RP NNP IN CD CD DT JJ NN                        |tak,mujhe,ko,ke,liye      |33.33333333333333   |\n",
      "|Set a reminder to place an order for work at noon today                           |aj dopahar ko work ke liye order plac karne ke liye reminder set kare                |0           |NNP DT NN TO VB DT NN IN NN IN NN NN                         |ko,ke,liye                |21.428571428571427  |\n",
      "|Set up a reminder for visit from my cousin this saturday                          |is saturday ko mere cousin ki visit ke liye reminder set kare                        |0           |NNP RP DT NN IN NN IN PRP$ NN DT NNP                         |is,ko,mere,ki,ke,liye     |50.0                |\n",
      "|Show me the alarms for today                                                      |mujhe aj ke liye alarms dikhao                                                       |0           |NNP PRP DT NNS IN NN                                         |mujhe,ke,liye             |50.0                |\n",
      "|Things to do in Castro Valley this month                                          |is mahine castro valey mein karne ke liye cheze                                      |0           |NNS TO VB IN NNP NNP DT NN                                   |is,mein,ke,liye           |44.44444444444444   |\n",
      "|Tune to Mickey Mouse channel                                                      |mickey mouse chanel par jaye                                                         |0           |NNP TO NNP NNP NN                                            |par                       |20.0                |\n",
      "|What ' s going on in Minneapolis this weekend                                     |is wekend mineapolis mei kya hone wala hai                                           |0           |WP '' VBZ VBG IN IN NNP DT NN                                |is,kya,hone,hai           |50.0                |\n",
      "|When is sun in the forecast for this week ?                                       |is wek ke liye sun kab forecast mein hai ?                                           |0           |WRB VBZ NN IN DT NN IN DT NN .                               |is,ke,liye,kab,mein,hai   |60.0                |\n",
      "|Will it take me longer than an hour to get to Tracy ' s house in current traffic ?|kya mujhe curent trafic mein tracy ke ghar pahunchne mein ek ghante se zyada lagega ?|0           |MD PRP VB PRP RBR IN DT NN TO VB TO NNP POS VBZ NN IN JJ NN .|kya,mujhe,mein,ke,se,zyada|37.5                |\n",
      "|can you go to chats                                                               |kya ap chats par jasakte hai                                                         |0           |MD PRP VB TO NNS                                             |kya,par,hai               |50.0                |\n",
      "|create a daily alarm for for the next month                                       |agley mahine ke liye daily alarm create kare                                         |0           |VB DT JJ NN IN IN DT JJ NN                                   |ke,liye                   |25.0                |\n",
      "|delete any timers I have not used in the last month                               |pichle mahine mein jo timers use nae kiye hai use delete karden                      |1           |VB DT NNS PRP VBP RB VBN IN DT JJ NN                         |use,mein,hai              |25.0                |\n",
      "|how long will it take me to get to walmart from here                              |yaha se mujhe walmart pahuchne mei kitni der lagegi                                  |0           |WRB JJ MD PRP VB PRP TO VB TO VB IN RB                       |se,mujhe                  |22.22222222222222   |\n",
      "|i don ' t want to hear the video message                                          |main video mesage nahi suna chahta hon                                               |0           |NNP VB POS NN VBP TO VB DT NN NN                             |nahi                      |14.285714285714285  |\n",
      "+----------------------------------------------------------------------------------+-------------------------------------------------------------------------------------+------------+-------------------------------------------------------------+--------------------------+--------------------+\n",
      "only showing top 20 rows\n",
      "\n",
      "CSV saved as: cleaned_output_stage2.csv\n"
     ]
    }
   ],
   "source": [
    "# # Storing stage2 file with 4 features integrated\n",
    "# converting array-cols to csv strings!\n",
    "df_cleaned = df_cleaned.withColumn(\"all_stopwords\", concat_ws(\",\", \"all_stopwords\"))\n",
    "df_cleaned.select(\"English_Text\", \"Normalized_Hinglish_Text\", \"has_negation\", \"pos_tags\", \"all_stopwords\", \"stopwords_percentage\").show(truncate=False)\n",
    "\n",
    "output_path = \"cleaned_output_stage2.csv\"\n",
    "df_cleaned.coalesce(1).write.mode(\"overwrite\").option(\"header\", True).csv(\"cleaned_output_tmp2\")\n",
    "\n",
    "for file in os.listdir(\"cleaned_output_tmp2\"):\n",
    "    if file.startswith(\"part-\") and file.endswith(\".csv\"):\n",
    "        shutil.move(f\"cleaned_output_tmp2/{file}\", output_path)\n",
    "        break\n",
    "\n",
    "shutil.rmtree(\"cleaned_output_tmp2\")\n",
    "\n",
    "print(f\"CSV saved as: {output_path}\")"
   ]
  },
  {
   "cell_type": "markdown",
   "id": "muXV3dTSbyGU",
   "metadata": {
    "id": "muXV3dTSbyGU"
   },
   "source": [
    "# Performing Supervised Learning\n",
    "\n",
    "In this step, we are moving to a supervised learning approach.\n",
    "But before we can actually train any model, we need labeled data — that is, each text should have a sentiment label: positive, or negative.\n",
    "\n",
    "Now, instead of manually labeling thousands of rows, we are using a pretrained HuggingFace model, specifically distilbert-base-uncased-finetuned-sst-2-english, to automatically annotate sentiments.\n",
    "This model is small, lightweight, but pretty accurate — perfect for quick labeling!\n",
    "\n",
    "One important thing:\n",
    "Although we're predicting sentiment based on the English text, later during model training, we'll use the Normalized Hinglish Text along with other features.\n",
    "This way, we leverage English annotations but train the model for Hinglish understanding."
   ]
  },
  {
   "cell_type": "markdown",
   "id": "L65RvBwS5fQp",
   "metadata": {
    "id": "L65RvBwS5fQp"
   },
   "source": [
    "# Manual Sentiment Labelling\n",
    "\n",
    "Since we didn’t have sentiment labels initially, I decided to generate them first. I used the English_Text column because it’s easier for models to understand, and passed it through a lightweight HuggingFace model, distilbert-base-uncased-finetuned-sst-2-english, on GPU for faster predictions. To avoid memory issues, I predicted in small batches of 32. After getting the sentiment results, I added them back to the dataset and merged everything properly, so that now each row had a sentiment label ready for training."
   ]
  },
  {
   "cell_type": "code",
   "execution_count": null,
   "id": "vAt35Vo0X29t",
   "metadata": {
    "colab": {
     "base_uri": "https://localhost:8080/",
     "height": 528,
     "referenced_widgets": [
      "bdf70c99a78c410d9ccd191af3ef1242",
      "33536ff1024e44cbac212fb30da30606",
      "df010472093d4903a8ec9e3bf0671b10",
      "1a1ee941b5eb4fa39eae7d0918937f2d",
      "35ad7ec147704cf4940c01ab7b5ccd76",
      "39a3181429904b56bb476d64aef04307",
      "fb9511b8d1ba4ad088e3c994d95c4c8e",
      "1d0b2b903fa5452082a0835a9a3178bf",
      "fbdf18ec4b94448e8a8ef95f0f383b28",
      "e7ddf2d55a694a19b6f9aa6d0ed70d0d",
      "0bc4606cd54e4ab3982fbaf1d3a9da69",
      "108894588f6a4bbab653c5b3418aecf6",
      "e255e578ec7d48e690dda36cb7058144",
      "6aeb851f3601475bb82929448a0ff601",
      "3933695cb32141678b21ce50b45cbee1",
      "877068881fcb48eb9f09813c6611357d",
      "2ee60a21902e41b5be5a34faac4c7492",
      "461181dfd1e8442ab34339235280a79b",
      "e1274a4955be46d5ba528a845a8542e6",
      "c69bef4d8ae346ecbf40f939393c866b",
      "23e4026907e04f2badd2b07d25e67821",
      "7612d309cf2f4e21b93c3b4ca7ac6d07",
      "a52bcd2f2b8c43689d9121443ae2b4a0",
      "d4837acc849347238aea9e74680fdc5c",
      "adca969563c94840b726296646d05155",
      "8962610253394af8a932c4b201252a3f",
      "57b1f4ce02f6458293750a2de4792da9",
      "cf5da085366b47e08edc1b77bfcc08ba",
      "7770f5540f21487095e31bced60e5406",
      "88820da8554c439ab4a046929be3dae7",
      "d7c5e73b14584c62aff8298665f26188",
      "2cb401b2a9d544449f7c92649d609bbf",
      "45be41d80bd14f5e963c6c7d15a77fea",
      "647f8eb7d9a849fc8eb8b795b7607d19",
      "6daa39fbc48c4e9aaf7b36fd3ad154ff",
      "fc73e686577440618555e01f1fce07da",
      "ede9bd64f7ab4d45becb55f3c5bb7169",
      "cc31ccdc0d3146edbc7f349a6996777f",
      "6cb9f7d73354422299a30f63b4334162",
      "dacfa6181dc745eb981e1dbc6b91b78c",
      "63e73c7d6bc24ea787f1ed12a8a1d806",
      "45f7bccd060d495fb35b9d68175e6448",
      "ab92aa6a7bf248a089daad30427b54ab",
      "3b3d982b216a40b3886320aa6e81b692"
     ]
    },
    "id": "vAt35Vo0X29t",
    "outputId": "f5399ec4-800a-48a1-b72f-dc28293afdc5"
   },
   "outputs": [
    {
     "name": "stderr",
     "output_type": "stream",
     "text": [
      "/usr/local/lib/python3.11/dist-packages/huggingface_hub/utils/_auth.py:94: UserWarning: \n",
      "The secret `HF_TOKEN` does not exist in your Colab secrets.\n",
      "To authenticate with the Hugging Face Hub, create a token in your settings tab (https://huggingface.co/settings/tokens), set it as secret in your Google Colab and restart your session.\n",
      "You will be able to reuse this secret in all of your notebooks.\n",
      "Please note that authentication is recommended but still optional to access public models or datasets.\n",
      "  warnings.warn(\n"
     ]
    },
    {
     "data": {
      "application/vnd.jupyter.widget-view+json": {
       "model_id": "bdf70c99a78c410d9ccd191af3ef1242",
       "version_major": 2,
       "version_minor": 0
      },
      "text/plain": [
       "config.json:   0%|          | 0.00/629 [00:00<?, ?B/s]"
      ]
     },
     "metadata": {},
     "output_type": "display_data"
    },
    {
     "name": "stderr",
     "output_type": "stream",
     "text": [
      "Xet Storage is enabled for this repo, but the 'hf_xet' package is not installed. Falling back to regular HTTP download. For better performance, install the package with: `pip install huggingface_hub[hf_xet]` or `pip install hf_xet`\n",
      "WARNING:huggingface_hub.file_download:Xet Storage is enabled for this repo, but the 'hf_xet' package is not installed. Falling back to regular HTTP download. For better performance, install the package with: `pip install huggingface_hub[hf_xet]` or `pip install hf_xet`\n"
     ]
    },
    {
     "data": {
      "application/vnd.jupyter.widget-view+json": {
       "model_id": "108894588f6a4bbab653c5b3418aecf6",
       "version_major": 2,
       "version_minor": 0
      },
      "text/plain": [
       "model.safetensors:   0%|          | 0.00/268M [00:00<?, ?B/s]"
      ]
     },
     "metadata": {},
     "output_type": "display_data"
    },
    {
     "data": {
      "application/vnd.jupyter.widget-view+json": {
       "model_id": "a52bcd2f2b8c43689d9121443ae2b4a0",
       "version_major": 2,
       "version_minor": 0
      },
      "text/plain": [
       "tokenizer_config.json:   0%|          | 0.00/48.0 [00:00<?, ?B/s]"
      ]
     },
     "metadata": {},
     "output_type": "display_data"
    },
    {
     "data": {
      "application/vnd.jupyter.widget-view+json": {
       "model_id": "647f8eb7d9a849fc8eb8b795b7607d19",
       "version_major": 2,
       "version_minor": 0
      },
      "text/plain": [
       "vocab.txt:   0%|          | 0.00/232k [00:00<?, ?B/s]"
      ]
     },
     "metadata": {},
     "output_type": "display_data"
    },
    {
     "name": "stderr",
     "output_type": "stream",
     "text": [
      "Device set to use cpu\n"
     ]
    },
    {
     "name": "stdout",
     "output_type": "stream",
     "text": [
      "+-------------------------------------------------------+---------+\n",
      "|English_Text                                           |Sentiment|\n",
      "+-------------------------------------------------------+---------+\n",
      "|Are we expecting rain today ?                          |negative |\n",
      "|How long will it take me to get to USC if I leave now ?|negative |\n",
      "|How many miles from here to Tampa , Florida            |negative |\n",
      "|Set a reminder to place an order for work at noon today|positive |\n",
      "|Tune to Mickey Mouse channel                           |positive |\n",
      "+-------------------------------------------------------+---------+\n",
      "only showing top 5 rows\n",
      "\n"
     ]
    }
   ],
   "source": [
    "# As performing supervised learning, our approach is to first craete a Sentiment Col and annotate it with 'positive/negative/neutral' using pretrained SentimentDLModel from SparkML lib\n",
    "# There is a twist! Here, we would use 'English_Text' col to annotate Sentiment Col but during training we would 'Normalized_Hingligh_Text' as our feature along with other features to train the IndicBert model\n",
    "#  Using Transformer + SparkNLP\n",
    "\n",
    "# ConvertING only 'English_Text' columns to Pandas (small memory)\n",
    "english_text_pd = df_cleaned.select(\"English_Text\").toPandas()\n",
    "\n",
    "# loading HuggingFace Sentiment Pipeline\n",
    "sentiment_pipeline = pipeline(\n",
    "    \"sentiment-analysis\",\n",
    "    model=\"distilbert-base-uncased-finetuned-sst-2-english\",  # small and accurate acc to me!\n",
    "    device=0  # for GPU!\n",
    ")\n",
    "\n",
    "# Here is our predicting sentiment process\n",
    "batch_size = 32\n",
    "results = []\n",
    "\n",
    "# predicting in batches to avoid memory overflow\n",
    "for i in range(0, len(english_text_pd), batch_size):\n",
    "    batch_texts = english_text_pd[\"English_Text\"].iloc[i:i+batch_size].tolist()\n",
    "    batch_results = sentiment_pipeline(batch_texts)\n",
    "    batch_labels = [r['label'].lower() for r in batch_results]\n",
    "    results.extend(batch_labels)\n",
    "\n",
    "# adding Sentiment back to PD\n",
    "english_text_pd[\"Sentiment\"] = results\n",
    "\n",
    "# finally merging back with original Spark DataFrame\n",
    "sentiment_spark_df = spark.createDataFrame(english_text_pd)\n",
    "\n",
    "# joining bcak with og df_cleaned!\n",
    "df_cleaned = df_cleaned.join(sentiment_spark_df, on=\"English_Text\", how=\"left\")\n",
    "\n",
    "df_cleaned.select(\"English_Text\", \"Sentiment\").show(5, truncate=False)"
   ]
  },
  {
   "cell_type": "code",
   "execution_count": null,
   "id": "97aODdQLwCZy",
   "metadata": {
    "colab": {
     "base_uri": "https://localhost:8080/"
    },
    "id": "97aODdQLwCZy",
    "outputId": "ebee652d-1e32-454d-aca7-b2b8790987b2"
   },
   "outputs": [
    {
     "name": "stdout",
     "output_type": "stream",
     "text": [
      "CSV saved as: cleaned_output_withSentiment.csv\n"
     ]
    }
   ],
   "source": [
    "# Saving File with manual sentiment labelling!\n",
    "# converting array-cols to csv strings!\n",
    "df_cleaned = df_cleaned.withColumn(\"all_stopwords\", concat_ws(\",\", \"all_stopwords\"))\n",
    "output_path = \"cleaned_output_withSentiment.csv\"\n",
    "df_cleaned.coalesce(1).write.mode(\"overwrite\").option(\"header\", True).csv(\"cleaned_output_tmp3\")\n",
    "\n",
    "for file in os.listdir(\"cleaned_output_tmp3\"):\n",
    "    if file.startswith(\"part-\") and file.endswith(\".csv\"):\n",
    "        shutil.move(f\"cleaned_output_tmp3/{file}\", output_path)\n",
    "        break\n",
    "\n",
    "shutil.rmtree(\"cleaned_output_tmp3\")\n",
    "\n",
    "print(f\"CSV saved as: {output_path}\")"
   ]
  },
  {
   "cell_type": "markdown",
   "id": "pEqigQtw3FU_",
   "metadata": {
    "id": "pEqigQtw3FU_"
   },
   "source": [
    "# Tracking Feature Importance (Numerical Features)\n",
    "\n",
    "Before diving into model training, I wanted to quickly check how important my handcrafted features were. First, I converted the Sentiment column into numeric labels because machine learning models need numbers, not text. Then, I assembled my two numerical features: has_negation and stopwords_percentage into a single vector. I ran a Random Forest on it, mainly to get the feature importance scores. This helped me understand which features were actually useful and which ones I could maybe ignore later.\n"
   ]
  },
  {
   "cell_type": "code",
   "execution_count": null,
   "id": "ktUTk7tP276u",
   "metadata": {
    "colab": {
     "base_uri": "https://localhost:8080/"
    },
    "id": "ktUTk7tP276u",
    "outputId": "8af0b4dc-6bda-4b6f-b626-8ec97883df8f"
   },
   "outputs": [
    {
     "name": "stdout",
     "output_type": "stream",
     "text": [
      "has_negation: 0.024394678426230984\n",
      "stopwords_percentage: 0.975605321573769\n"
     ]
    }
   ],
   "source": [
    "# necessary to convert sentiment into numeric representation!\n",
    "label_indexer = StringIndexer(inputCol=\"Sentiment\", outputCol=\"label\")\n",
    "df_cleaned = label_indexer.fit(df_cleaned).transform(df_cleaned)\n",
    "\n",
    "# assembling all non-tokenized vectors\n",
    "initial_assembler = VectorAssembler(\n",
    "    inputCols = [\"has_negation\", \"stopwords_percentage\"],\n",
    "    outputCol = \"initial_assembled_features\"\n",
    ")\n",
    "initial_assembled_data = initial_assembler.transform(df_cleaned)\n",
    "\n",
    "# Using RandomForest Classifier to compute Feature Importance!\n",
    "rf_classifier = RandomForestClassifier(\n",
    "    labelCol = \"label\",\n",
    "    featuresCol = \"initial_assembled_features\",\n",
    "    numTrees = 10,\n",
    "    seed = 42\n",
    ")\n",
    "model = rf_classifier.fit(initial_assembled_data)\n",
    "\n",
    "# Finally printing importance\n",
    "for feature_name, importance in zip([\"has_negation\", \"stopwords_percentage\"], model.featureImportances.toArray()):\n",
    "  print(f\"{feature_name}: {importance}\")"
   ]
  },
  {
   "cell_type": "markdown",
   "id": "wg0p1vpx3CtO",
   "metadata": {
    "id": "wg0p1vpx3CtO"
   },
   "source": [
    "# Granular-Level Feature Selection"
   ]
  },
  {
   "cell_type": "markdown",
   "id": "1yNXq9mJ15ix",
   "metadata": {
    "id": "1yNXq9mJ15ix"
   },
   "source": [
    "To make sure we’re only feeding the most important information to the model, we did a granular feature selection step. First, we encoded the Sentiment column into numbers for machine learning. Then, we tokenized the Normalized_Hinglish_Text and converted it into a fixed-size TF-IDF representation, which basically highlights important words across the data. I also included my stopwords_percentage feature. After putting everything together, we applied Chi-Square Selection to pick the top 100 most relevant features. This way, the model focuses only on the strongest signals related to sentiment, without getting distracted by unnecessary noise.\n",
    "\n",
    "# About ChiSqSelector\n",
    "ChiSqSelector works by statistically testing the dependency between each feature and the label using a Chi-Squared test. The features with higher correlation to the sentiment (label) are retained, while irrelevant or weakly correlated features are discarded.\n",
    "\n",
    "For example, if the word \"nahi\" (indicating negation) appears frequently in negative sentiment samples, ChiSqSelector would recognize its strong correlation with negative labels and keep it as an important feature. Similarly, if stopwords_percentage shows no meaningful relation to sentiment prediction, it would be eliminated automatically, making the final input lighter and more focused for IndicBERT training."
   ]
  },
  {
   "cell_type": "code",
   "execution_count": null,
   "id": "BFOFCwutL1s8",
   "metadata": {
    "id": "BFOFCwutL1s8"
   },
   "outputs": [],
   "source": [
    "df_cleaned = spark.read.csv(\"/content/cleaned_output_withSentiment.csv\", header=True, inferSchema=True)\n",
    "\n",
    "df_cleaned = df_cleaned.dropna()\n",
    "\n",
    "# Creating a label column for Predicted Sentiment label\n",
    "label_indexer = StringIndexer(inputCol=\"Sentiment\", outputCol=\"label\")\n",
    "df_cleaned = label_indexer.fit(df_cleaned).transform(df_cleaned)\n",
    "\n",
    "# Handling text data (Normalized_Hinglish_Text)\n",
    "# Vectorizing the text using SparkMLlib's TF-IDF\n",
    "tokenizer = py_tokenizer(inputCol=\"Normalized_Hinglish_Text\", outputCol=\"words\")\n",
    "wordsData = tokenizer.transform(df_cleaned)\n",
    "\n",
    "# HashingTF instance converts tokenized words into a fixed-length feature vector\n",
    "# \"rawFeatures\" will store the raw term frequency vectors\n",
    "hashingTF = HashingTF(inputCol=\"words\", outputCol=\"rawFeatures\", numFeatures=5000) # numFeatures: size of feature vector space\n",
    "\n",
    "# this will create a sparse vector where each entry is the count of a token mapped to a hashed bucket\n",
    "featurizedData = hashingTF.transform(wordsData)\n",
    "\n",
    "# IDF (Inverse Document Frequency)\n",
    "idf = IDF(inputCol = \"rawFeatures\", outputCol= \"tfidfFeatures\") # tfidfFeatures: stores the final TF-IDF weighted feature vectors\n",
    "idfModel = idf.fit(featurizedData)\n",
    "\n",
    "# Finally applying the fitted IDF model to scale term frequency vectors. This will adjust the raw frequency counts by penalizing common words and emphasizing rare but important words\n",
    "rescaledData = idfModel.transform(featurizedData)\n",
    "\n",
    "# Assembling all the features (eliminated \"has_negation\" as found out it is not really important using RandomForestClassifier for sentiment Analysis)\n",
    "assembler = VectorAssembler(inputCols=[\"stopwords_percentage\", \"tfidfFeatures\"], outputCol=\"features\")\n",
    "assembled_data = assembler.transform(rescaledData)\n",
    "\n",
    "# Using ChiSqSelector for feature selection\n",
    "selector = ChiSqSelector(\n",
    "    numTopFeatures=100,\n",
    "    featuresCol=\"features\",\n",
    "    labelCol=\"label\",\n",
    "    outputCol=\"selectedFeatures\"\n",
    ")\n",
    "df_cleaned = selector.fit(assembled_data).transform(assembled_data)"
   ]
  },
  {
   "cell_type": "code",
   "execution_count": null,
   "id": "N3DbIlsIMeZw",
   "metadata": {
    "colab": {
     "base_uri": "https://localhost:8080/"
    },
    "id": "N3DbIlsIMeZw",
    "outputId": "c289b707-2c35-4b5e-aebd-5c90ae8fa1d6"
   },
   "outputs": [
    {
     "name": "stdout",
     "output_type": "stream",
     "text": [
      "+-----------------------------------------+-------------------------------------------------------------------------+---------+-----+\n",
      "|Normalized_Hinglish_Text                 |selectedFeatures                                                         |Sentiment|label|\n",
      "+-----------------------------------------+-------------------------------------------------------------------------+---------+-----+\n",
      "|track ko favorites mein ad karo          |(100,[0,17],[33.33333333333333,1.6338951329947045])                      |positive |1.0  |\n",
      "|fir ye song mat chalana                  |(100,[0],[20.0])                                                         |negative |0.0  |\n",
      "|linkin park ka in the end nam ka song hai|(100,[0,84,95],[40.0,4.522774082318472,5.646369301477091])               |positive |1.0  |\n",
      "|please clock par 1 minute ad kare        |(100,[0,60,89],[28.57142857142857,4.0166036895373205,2.5091297151834038])|positive |1.0  |\n",
      "|nap ke liye 1 pm ka alarm set kare       |(100,[0,16,60],[33.33333333333333,2.152571034542417,4.0166036895373205]) |negative |0.0  |\n",
      "+-----------------------------------------+-------------------------------------------------------------------------+---------+-----+\n",
      "only showing top 5 rows\n",
      "\n"
     ]
    }
   ],
   "source": [
    "# selectedFeatures is a Sparse Vector: [size, indices, values]\n",
    "# eg1.\n",
    "# 100 = vector size (top 100 features)\n",
    "# [0,17] = positions of the important features\n",
    "# [33.33, 1.63] = values of those features at those positions\n",
    "\n",
    "final_df = df_cleaned.select(\n",
    "    \"Normalized_Hinglish_Text\",\n",
    "    \"selectedFeatures\",\n",
    "    \"Sentiment\",\n",
    "    \"label\"\n",
    ")\n",
    "\n",
    "final_df.show(5, truncate = False)"
   ]
  },
  {
   "cell_type": "code",
   "execution_count": null,
   "id": "h2mipvNjIAE_",
   "metadata": {
    "colab": {
     "base_uri": "https://localhost:8080/"
    },
    "id": "h2mipvNjIAE_",
    "outputId": "6cb8e089-7be3-4103-afa5-72ad2ccb9b18"
   },
   "outputs": [
    {
     "name": "stdout",
     "output_type": "stream",
     "text": [
      "CSV saved as: final_dataframe.csv\n"
     ]
    }
   ],
   "source": [
    "# Saving the final file\n",
    "\n",
    "# Converting selectedFeatures STRUCT into simple string\n",
    "final_df = final_df.withColumn(\"selectedFeatures\", col(\"selectedFeatures\").cast(\"string\"))\n",
    "\n",
    "output_path = \"final_dataframe.csv\"\n",
    "final_df.coalesce(1).write.mode(\"overwrite\").option(\"header\", True).csv(\"cleaned_output_tmp4\")\n",
    "\n",
    "for file in os.listdir(\"cleaned_output_tmp4\"):\n",
    "    if file.startswith(\"part-\") and file.endswith(\".csv\"):\n",
    "        shutil.move(f\"cleaned_output_tmp4/{file}\", output_path)\n",
    "        break\n",
    "\n",
    "# Cleaning temp folder\n",
    "shutil.rmtree(\"cleaned_output_tmp4\")\n",
    "\n",
    "print(f\"CSV saved as: {output_path}\")"
   ]
  },
  {
   "cell_type": "markdown",
   "id": "dXnIig1fFia2",
   "metadata": {
    "id": "dXnIig1fFia2"
   },
   "source": [
    "# Training IndicBERT Model\n",
    "\n",
    "Now that we had the features ready, we moved on to actually training the IndicBERT model. First, we loaded our final data and prepped it by encoding the Sentiment column into numeric labels. We split the data into 70% training and 30% testing. Then, using SparkNLP, we built a pipeline where the Normalized_Hinglish_Text was tokenized, passed through IndicBERT to get embeddings, and pooled into sentence-level vectors. We trained a simple ClassifierDL model on these embeddings with a batch size of 64 and for 10 epochs. Everything was streamlined to use GPU and logs were saved for easy monitoring."
   ]
  },
  {
   "cell_type": "code",
   "execution_count": 6,
   "id": "T-j59VxkFxzi",
   "metadata": {
    "colab": {
     "base_uri": "https://localhost:8080/"
    },
    "execution": {
     "iopub.execute_input": "2025-05-06T22:32:04.246035Z",
     "iopub.status.busy": "2025-05-06T22:32:04.245356Z",
     "iopub.status.idle": "2025-05-06T22:32:10.426223Z",
     "shell.execute_reply": "2025-05-06T22:32:10.424561Z",
     "shell.execute_reply.started": "2025-05-06T22:32:04.246010Z"
    },
    "id": "T-j59VxkFxzi",
    "outputId": "c38185fd-0b51-4706-978c-ef499821a1ae",
    "trusted": true
   },
   "outputs": [
    {
     "name": "stderr",
     "output_type": "stream",
     "text": [
      "                                                                                                    \r"
     ]
    },
    {
     "name": "stdout",
     "output_type": "stream",
     "text": [
      "+-----------------------------------------+-------------------------------------------------------------------------+---------+-----+\n",
      "|Normalized_Hinglish_Text                 |selectedFeatures                                                         |Sentiment|label|\n",
      "+-----------------------------------------+-------------------------------------------------------------------------+---------+-----+\n",
      "|track ko favorites mein ad karo          |(100,[0,17],[33.33333333333333,1.6338951329947045])                      |positive |1.0  |\n",
      "|fir ye song mat chalana                  |(100,[0],[20.0])                                                         |negative |0.0  |\n",
      "|linkin park ka in the end nam ka song hai|(100,[0,84,95],[40.0,4.522774082318472,5.646369301477091])               |positive |1.0  |\n",
      "|please clock par 1 minute ad kare        |(100,[0,60,89],[28.57142857142857,4.0166036895373205,2.5091297151834038])|positive |1.0  |\n",
      "|nap ke liye 1 pm ka alarm set kare       |(100,[0,16,60],[33.33333333333333,2.152571034542417,4.0166036895373205]) |negative |0.0  |\n",
      "+-----------------------------------------+-------------------------------------------------------------------------+---------+-----+\n",
      "only showing top 5 rows\n",
      "\n"
     ]
    }
   ],
   "source": [
    "final_df = spark.read.csv(\"/kaggle/input/final-dataframe/final_dataframe.csv\", header = True, inferSchema = True)\n",
    "final_df.select(\"Normalized_Hinglish_Text\", \"selectedFeatures\", \"Sentiment\", \"label\").show(5, truncate = False)"
   ]
  },
  {
   "cell_type": "code",
   "execution_count": 7,
   "id": "0H3-vdtJFxxB",
   "metadata": {
    "execution": {
     "iopub.execute_input": "2025-05-06T22:32:10.427787Z",
     "iopub.status.busy": "2025-05-06T22:32:10.427491Z",
     "iopub.status.idle": "2025-05-06T22:32:10.451438Z",
     "shell.execute_reply": "2025-05-06T22:32:10.450472Z",
     "shell.execute_reply.started": "2025-05-06T22:32:10.427763Z"
    },
    "id": "0H3-vdtJFxxB",
    "trusted": true
   },
   "outputs": [],
   "source": [
    "# Preparing data for training!\n",
    "data_for_training = final_df.select(\n",
    "    col(\"Normalized_Hinglish_Text\").alias(\"text\"),\n",
    "    col(\"Sentiment\")\n",
    ")"
   ]
  },
  {
   "cell_type": "code",
   "execution_count": 8,
   "id": "7aS-cAvQFxuf",
   "metadata": {
    "execution": {
     "iopub.execute_input": "2025-05-06T22:32:10.452484Z",
     "iopub.status.busy": "2025-05-06T22:32:10.452264Z",
     "iopub.status.idle": "2025-05-06T22:32:12.175209Z",
     "shell.execute_reply": "2025-05-06T22:32:12.174369Z",
     "shell.execute_reply.started": "2025-05-06T22:32:10.452465Z"
    },
    "id": "7aS-cAvQFxuf",
    "trusted": true
   },
   "outputs": [
    {
     "name": "stderr",
     "output_type": "stream",
     "text": [
      "                                                                                                    \r"
     ]
    }
   ],
   "source": [
    "# Encoding Sentiment Lables\n",
    "label_indexer = StringIndexer(inputCol=\"Sentiment\", outputCol=\"label\")\n",
    "data_indexed = label_indexer.fit(data_for_training).transform(data_for_training)"
   ]
  },
  {
   "cell_type": "code",
   "execution_count": 9,
   "id": "IgXD07NOFxrr",
   "metadata": {
    "execution": {
     "iopub.execute_input": "2025-05-06T22:32:12.177346Z",
     "iopub.status.busy": "2025-05-06T22:32:12.176546Z",
     "iopub.status.idle": "2025-05-06T22:32:12.202877Z",
     "shell.execute_reply": "2025-05-06T22:32:12.202039Z",
     "shell.execute_reply.started": "2025-05-06T22:32:12.177320Z"
    },
    "id": "IgXD07NOFxrr",
    "trusted": true
   },
   "outputs": [],
   "source": [
    "# splitting train and test data\n",
    "train_data, test_data = data_indexed.randomSplit([0.7, 0.3], seed = 42)"
   ]
  },
  {
   "cell_type": "code",
   "execution_count": null,
   "id": "iWfvrjS5V2Ye",
   "metadata": {
    "colab": {
     "base_uri": "https://localhost:8080/"
    },
    "execution": {
     "iopub.execute_input": "2025-05-06T22:32:30.809849Z",
     "iopub.status.busy": "2025-05-06T22:32:30.809260Z",
     "iopub.status.idle": "2025-05-06T23:51:21.190753Z",
     "shell.execute_reply": "2025-05-06T23:51:21.189882Z",
     "shell.execute_reply.started": "2025-05-06T22:32:30.809823Z"
    },
    "id": "iWfvrjS5V2Ye",
    "outputId": "aa172338-b58c-4edd-f210-6c580950aeeb",
    "trusted": true
   },
   "outputs": [
    {
     "name": "stdout",
     "output_type": "stream",
     "text": [
      "albert_indic download started this may take some time.\n",
      "Approximate size to download 122.4 MB\n",
      "[ | ]albert_indic download started this may take some time.\n",
      "Approximate size to download 122.4 MB\n"
     ]
    },
    {
     "name": "stderr",
     "output_type": "stream",
     "text": [
      "25/05/06 22:32:37 WARN S3AbortableInputStream: Not all bytes were read from the S3ObjectInputStream, aborting HTTP connection. This is likely an error and may result in sub-optimal behavior. Request only the bytes you need via a ranged GET or drain the input stream after use.\n",
      "25/05/06 22:32:37 WARN S3AbortableInputStream: Not all bytes were read from the S3ObjectInputStream, aborting HTTP connection. This is likely an error and may result in sub-optimal behavior. Request only the bytes you need via a ranged GET or drain the input stream after use.\n"
     ]
    },
    {
     "name": "stdout",
     "output_type": "stream",
     "text": [
      "[ \\ ]Download done! Loading the resource.\n",
      "[ | ]"
     ]
    },
    {
     "name": "stderr",
     "output_type": "stream",
     "text": [
      "WARNING: An illegal reflective access operation has occurred\n",
      "WARNING: Illegal reflective access by org.apache.spark.util.SizeEstimator$ (file:/usr/local/lib/python3.11/dist-packages/pyspark/jars/spark-core_2.12-3.5.4.jar) to field java.lang.ref.Reference.referent\n",
      "WARNING: Please consider reporting this to the maintainers of org.apache.spark.util.SizeEstimator$\n",
      "WARNING: Use --illegal-access=warn to enable warnings of further illegal reflective access operations\n",
      "WARNING: All illegal access operations will be denied in a future release\n"
     ]
    },
    {
     "name": "stdout",
     "output_type": "stream",
     "text": [
      "[OK!]\n"
     ]
    },
    {
     "name": "stderr",
     "output_type": "stream",
     "text": [
      "                                                                                                    \r"
     ]
    },
    {
     "name": "stdout",
     "output_type": "stream",
     "text": [
      "Training started - epochs: 50 - learning_rate: 0.001 - batch_size: 64 - training_examples: 80183 - classes: 2\n",
      "Epoch 1/50 - 8.53s - loss: 684.1755 - acc: 0.75592846 - batches: 1253\n",
      "Quality on validation dataset (10.0%), validation examples = 8909\n",
      "time to finish evaluation: 0.42s\n",
      "Macro-average\t prec: 0.74158967, rec: 0.74053395, f1: 0.74106145\n",
      "Micro-average\t prec: 0.76259965, recall: 0.76259965, f1: 0.76259965\n",
      "Epoch 2/50 - 8.49s - loss: 656.50116 - acc: 0.7830641 - batches: 1253\n",
      "Quality on validation dataset (10.0%), validation examples = 8909\n",
      "time to finish evaluation: 0.19s\n",
      "Macro-average\t prec: 0.7546777, rec: 0.75545126, f1: 0.7550643\n",
      "Micro-average\t prec: 0.7746099, recall: 0.7746099, f1: 0.7746099\n",
      "Epoch 3/50 - 7.94s - loss: 646.73553 - acc: 0.7939592 - batches: 1253\n",
      "Quality on validation dataset (10.0%), validation examples = 8909\n",
      "time to finish evaluation: 0.18s\n",
      "Macro-average\t prec: 0.7652627, rec: 0.7642169, f1: 0.76473945\n",
      "Micro-average\t prec: 0.78426313, recall: 0.78426313, f1: 0.78426313\n",
      "Epoch 4/50 - 7.78s - loss: 639.8926 - acc: 0.80186313 - batches: 1253\n",
      "Quality on validation dataset (10.0%), validation examples = 8909\n",
      "time to finish evaluation: 0.17s\n",
      "Macro-average\t prec: 0.7708238, rec: 0.76428115, f1: 0.76753855\n",
      "Micro-average\t prec: 0.7886407, recall: 0.7886407, f1: 0.78864074\n",
      "Epoch 5/50 - 7.90s - loss: 634.4105 - acc: 0.80685925 - batches: 1253\n",
      "Quality on validation dataset (10.0%), validation examples = 8909\n",
      "time to finish evaluation: 0.17s\n",
      "Macro-average\t prec: 0.7774905, rec: 0.76495564, f1: 0.77117217\n",
      "Micro-average\t prec: 0.79335505, recall: 0.79335505, f1: 0.79335505\n",
      "Epoch 6/50 - 7.82s - loss: 629.87634 - acc: 0.8110047 - batches: 1253\n",
      "Quality on validation dataset (10.0%), validation examples = 8909\n",
      "time to finish evaluation: 0.19s\n",
      "Macro-average\t prec: 0.7800597, rec: 0.76281714, f1: 0.77134204\n",
      "Micro-average\t prec: 0.7943652, recall: 0.7943652, f1: 0.7943652\n",
      "Epoch 7/50 - 8.17s - loss: 626.26776 - acc: 0.81458646 - batches: 1253\n",
      "Quality on validation dataset (10.0%), validation examples = 8909\n",
      "time to finish evaluation: 0.17s\n",
      "Macro-average\t prec: 0.7861948, rec: 0.7636107, f1: 0.77473825\n",
      "Micro-average\t prec: 0.79806936, recall: 0.79806936, f1: 0.7980693\n",
      "Epoch 8/50 - 7.76s - loss: 623.13513 - acc: 0.8177564 - batches: 1253\n",
      "Quality on validation dataset (10.0%), validation examples = 8909\n",
      "time to finish evaluation: 0.17s\n",
      "Macro-average\t prec: 0.7901155, rec: 0.764174, f1: 0.77692825\n",
      "Micro-average\t prec: 0.8003143, recall: 0.8003143, f1: 0.8003143\n",
      "Epoch 9/50 - 7.96s - loss: 620.3709 - acc: 0.82071614 - batches: 1253\n",
      "Quality on validation dataset (10.0%), validation examples = 8909\n",
      "time to finish evaluation: 0.15s\n",
      "Macro-average\t prec: 0.79168165, rec: 0.76326996, f1: 0.7772162\n",
      "Micro-average\t prec: 0.80076325, recall: 0.80076325, f1: 0.80076325\n",
      "Epoch 10/50 - 7.97s - loss: 617.935 - acc: 0.8236489 - batches: 1253\n",
      "Quality on validation dataset (10.0%), validation examples = 8909\n",
      "time to finish evaluation: 0.19s\n",
      "Macro-average\t prec: 0.7952726, rec: 0.7651917, f1: 0.77994215\n",
      "Micro-average\t prec: 0.80323267, recall: 0.80323267, f1: 0.80323267\n",
      "Epoch 11/50 - 8.28s - loss: 615.8718 - acc: 0.8257456 - batches: 1253\n",
      "Quality on validation dataset (10.0%), validation examples = 8909\n",
      "time to finish evaluation: 0.19s\n",
      "Macro-average\t prec: 0.795617, rec: 0.7647739, f1: 0.7798906\n",
      "Micro-average\t prec: 0.80323267, recall: 0.80323267, f1: 0.80323267\n",
      "Epoch 12/50 - 7.96s - loss: 614.1269 - acc: 0.8279296 - batches: 1253\n",
      "Quality on validation dataset (10.0%), validation examples = 8909\n",
      "time to finish evaluation: 0.16s\n",
      "Macro-average\t prec: 0.79599714, rec: 0.7651752, f1: 0.7802819\n",
      "Micro-average\t prec: 0.80356944, recall: 0.80356944, f1: 0.80356944\n",
      "Epoch 13/50 - 7.96s - loss: 612.5033 - acc: 0.8294896 - batches: 1253\n",
      "Quality on validation dataset (10.0%), validation examples = 8909\n",
      "time to finish evaluation: 0.16s\n",
      "Macro-average\t prec: 0.7951715, rec: 0.76473844, f1: 0.7796581\n",
      "Micro-average\t prec: 0.8030082, recall: 0.8030082, f1: 0.8030082\n",
      "Epoch 14/50 - 8.14s - loss: 611.0065 - acc: 0.83121186 - batches: 1253\n",
      "Quality on validation dataset (10.0%), validation examples = 8909\n",
      "time to finish evaluation: 0.25s\n",
      "Macro-average\t prec: 0.7958052, rec: 0.7662729, f1: 0.7807599\n",
      "Micro-average\t prec: 0.80390614, recall: 0.80390614, f1: 0.80390614\n",
      "Epoch 15/50 - 8.00s - loss: 609.6763 - acc: 0.83283633 - batches: 1253\n",
      "Quality on validation dataset (10.0%), validation examples = 8909\n",
      "time to finish evaluation: 0.17s\n",
      "Macro-average\t prec: 0.79644674, rec: 0.767511, f1: 0.7817112\n",
      "Micro-average\t prec: 0.8046919, recall: 0.8046919, f1: 0.8046919\n",
      "Epoch 16/50 - 7.78s - loss: 608.51715 - acc: 0.83405733 - batches: 1253\n",
      "Quality on validation dataset (10.0%), validation examples = 8909\n",
      "time to finish evaluation: 0.17s\n",
      "Macro-average\t prec: 0.7957986, rec: 0.76893914, f1: 0.78213835\n",
      "Micro-average\t prec: 0.8049164, recall: 0.8049164, f1: 0.8049164\n",
      "Epoch 17/50 - 7.93s - loss: 607.41974 - acc: 0.83562773 - batches: 1253\n",
      "Quality on validation dataset (10.0%), validation examples = 8909\n",
      "time to finish evaluation: 0.18s\n",
      "Macro-average\t prec: 0.79641134, rec: 0.7708395, f1: 0.7834168\n",
      "Micro-average\t prec: 0.80592656, recall: 0.80592656, f1: 0.8059265\n",
      "Epoch 18/50 - 8.17s - loss: 606.3654 - acc: 0.83700055 - batches: 1253\n",
      "Quality on validation dataset (10.0%), validation examples = 8909\n",
      "time to finish evaluation: 0.19s\n",
      "Macro-average\t prec: 0.79772675, rec: 0.77331585, f1: 0.78533167\n",
      "Micro-average\t prec: 0.80749804, recall: 0.80749804, f1: 0.80749804\n",
      "Epoch 19/50 - 8.00s - loss: 605.3945 - acc: 0.83813626 - batches: 1253\n",
      "Quality on validation dataset (10.0%), validation examples = 8909\n",
      "time to finish evaluation: 0.18s\n",
      "Macro-average\t prec: 0.797879, rec: 0.77465785, f1: 0.786097\n",
      "Micro-average\t prec: 0.8080593, recall: 0.8080593, f1: 0.8080592\n",
      "Epoch 20/50 - 7.69s - loss: 604.48126 - acc: 0.83934677 - batches: 1253\n",
      "Quality on validation dataset (10.0%), validation examples = 8909\n",
      "time to finish evaluation: 0.18s\n",
      "Macro-average\t prec: 0.7978122, rec: 0.7753896, f1: 0.78644115\n",
      "Micro-average\t prec: 0.80828375, recall: 0.80828375, f1: 0.80828375\n",
      "Epoch 21/50 - 7.86s - loss: 603.59576 - acc: 0.8403327 - batches: 1253\n",
      "Quality on validation dataset (10.0%), validation examples = 8909\n",
      "time to finish evaluation: 0.17s\n",
      "Macro-average\t prec: 0.799225, rec: 0.7774304, f1: 0.7881771\n",
      "Micro-average\t prec: 0.8097429, recall: 0.8097429, f1: 0.809743\n",
      "Epoch 22/50 - 8.07s - loss: 602.7552 - acc: 0.84119385 - batches: 1253\n",
      "Quality on validation dataset (10.0%), validation examples = 8909\n",
      "time to finish evaluation: 0.19s\n",
      "Macro-average\t prec: 0.79892445, rec: 0.7782141, f1: 0.7884333\n",
      "Micro-average\t prec: 0.8098552, recall: 0.8098552, f1: 0.8098552\n",
      "Epoch 23/50 - 7.92s - loss: 601.9119 - acc: 0.8421548 - batches: 1253\n",
      "Quality on validation dataset (10.0%), validation examples = 8909\n",
      "time to finish evaluation: 0.16s\n",
      "Macro-average\t prec: 0.79872525, rec: 0.77885854, f1: 0.7886668\n",
      "Micro-average\t prec: 0.80996746, recall: 0.80996746, f1: 0.80996746\n",
      "Epoch 24/50 - 7.77s - loss: 601.1385 - acc: 0.8430159 - batches: 1253\n",
      "Quality on validation dataset (10.0%), validation examples = 8909\n",
      "time to finish evaluation: 0.20s\n",
      "Macro-average\t prec: 0.7990571, rec: 0.7799916, f1: 0.7894093\n",
      "Micro-average\t prec: 0.8105287, recall: 0.8105287, f1: 0.81052876\n",
      "Epoch 25/50 - 7.89s - loss: 600.36066 - acc: 0.8438396 - batches: 1253\n",
      "Quality on validation dataset (10.0%), validation examples = 8909\n",
      "time to finish evaluation: 0.16s\n",
      "Macro-average\t prec: 0.7988745, rec: 0.7806361, f1: 0.78964996\n",
      "Micro-average\t prec: 0.81064093, recall: 0.81064093, f1: 0.81064093\n",
      "Epoch 26/50 - 7.86s - loss: 599.6221 - acc: 0.84486294 - batches: 1253\n",
      "Quality on validation dataset (10.0%), validation examples = 8909\n",
      "time to finish evaluation: 0.20s\n",
      "Macro-average\t prec: 0.7987008, rec: 0.7812805, f1: 0.78989464\n",
      "Micro-average\t prec: 0.81075317, recall: 0.81075317, f1: 0.81075317\n",
      "Epoch 27/50 - 8.16s - loss: 598.89777 - acc: 0.8455993 - batches: 1253\n",
      "Quality on validation dataset (10.0%), validation examples = 8909\n",
      "time to finish evaluation: 0.15s\n",
      "Macro-average\t prec: 0.79805684, rec: 0.7813666, f1: 0.78962356\n",
      "Micro-average\t prec: 0.81041646, recall: 0.81041646, f1: 0.81041646\n",
      "Epoch 28/50 - 7.75s - loss: 598.23 - acc: 0.846373 - batches: 1253\n",
      "Quality on validation dataset (10.0%), validation examples = 8909\n",
      "time to finish evaluation: 0.16s\n",
      "Macro-average\t prec: 0.7987891, rec: 0.7825352, f1: 0.7905786\n",
      "Micro-average\t prec: 0.81120217, recall: 0.81120217, f1: 0.8112022\n",
      "Epoch 29/50 - 7.80s - loss: 597.5799 - acc: 0.84715927 - batches: 1253\n",
      "Quality on validation dataset (10.0%), validation examples = 8909\n",
      "time to finish evaluation: 0.19s\n",
      "Macro-average\t prec: 0.79826796, rec: 0.78277826, f1: 0.7904472\n",
      "Micro-average\t prec: 0.81097764, recall: 0.81097764, f1: 0.81097764\n",
      "Epoch 30/50 - 8.26s - loss: 596.93463 - acc: 0.847983 - batches: 1253\n",
      "Quality on validation dataset (10.0%), validation examples = 8909\n",
      "time to finish evaluation: 0.23s\n",
      "Macro-average\t prec: 0.7981957, rec: 0.7832835, f1: 0.79066926\n",
      "Micro-average\t prec: 0.81108993, recall: 0.81108993, f1: 0.81108993\n",
      "Epoch 31/50 - 8.52s - loss: 596.3258 - acc: 0.848582 - batches: 1253\n",
      "Quality on validation dataset (10.0%), validation examples = 8909\n",
      "time to finish evaluation: 0.18s\n",
      "Macro-average\t prec: 0.7976851, rec: 0.7831606, f1: 0.79035616\n",
      "Micro-average\t prec: 0.81075317, recall: 0.81075317, f1: 0.81075317\n",
      "Epoch 32/50 - 8.09s - loss: 595.7367 - acc: 0.84903127 - batches: 1253\n",
      "Quality on validation dataset (10.0%), validation examples = 8909\n",
      "time to finish evaluation: 0.19s\n",
      "Macro-average\t prec: 0.798023, rec: 0.7839975, f1: 0.79094803\n",
      "Micro-average\t prec: 0.81120217, recall: 0.81120217, f1: 0.8112022\n",
      "Epoch 33/50 - 7.92s - loss: 595.1603 - acc: 0.84991735 - batches: 1253\n",
      "Quality on validation dataset (10.0%), validation examples = 8909\n",
      "time to finish evaluation: 0.17s\n",
      "Macro-average\t prec: 0.79865336, rec: 0.785009, f1: 0.7917724\n",
      "Micro-average\t prec: 0.81187564, recall: 0.81187564, f1: 0.81187564\n",
      "Epoch 34/50 - 8.10s - loss: 594.5962 - acc: 0.85066617 - batches: 1253\n",
      "Quality on validation dataset (10.0%), validation examples = 8909\n",
      "time to finish evaluation: 0.21s\n",
      "Macro-average\t prec: 0.79898584, rec: 0.78548, f1: 0.7921754\n",
      "Micro-average\t prec: 0.81221235, recall: 0.81221235, f1: 0.81221235\n",
      "Epoch 35/50 - 8.08s - loss: 594.0431 - acc: 0.8512777 - batches: 1253\n",
      "Quality on validation dataset (10.0%), validation examples = 8909\n",
      "time to finish evaluation: 0.19s\n",
      "Macro-average\t prec: 0.7991055, rec: 0.7860029, f1: 0.7925001\n",
      "Micro-average\t prec: 0.8124369, recall: 0.8124369, f1: 0.8124369\n",
      "Epoch 36/50 - 7.92s - loss: 593.5051 - acc: 0.85200155 - batches: 1253\n",
      "Quality on validation dataset (10.0%), validation examples = 8909\n",
      "time to finish evaluation: 0.18s\n",
      "Macro-average\t prec: 0.7998483, rec: 0.78717136, f1: 0.79345924\n",
      "Micro-average\t prec: 0.8132226, recall: 0.8132226, f1: 0.8132226\n",
      "Epoch 37/50 - 7.77s - loss: 592.9905 - acc: 0.85268795 - batches: 1253\n",
      "Quality on validation dataset (10.0%), validation examples = 8909\n",
      "time to finish evaluation: 0.19s\n",
      "Macro-average\t prec: 0.80011487, rec: 0.7877816, f1: 0.7939004\n",
      "Micro-average\t prec: 0.8135593, recall: 0.8135593, f1: 0.8135593\n",
      "Epoch 38/50 - 8.47s - loss: 592.5122 - acc: 0.85316217 - batches: 1253\n",
      "Quality on validation dataset (10.0%), validation examples = 8909\n",
      "time to finish evaluation: 0.16s\n",
      "Macro-average\t prec: 0.80041504, rec: 0.7883222, f1: 0.7943226\n",
      "Micro-average\t prec: 0.81389606, recall: 0.81389606, f1: 0.813896\n",
      "Epoch 39/50 - 7.79s - loss: 592.0602 - acc: 0.85376126 - batches: 1253\n",
      "Quality on validation dataset (10.0%), validation examples = 8909\n",
      "time to finish evaluation: 0.18s\n",
      "Macro-average\t prec: 0.8006511, rec: 0.78900206, f1: 0.7947839\n",
      "Micro-average\t prec: 0.8142328, recall: 0.8142328, f1: 0.8142328\n",
      "Epoch 40/50 - 7.82s - loss: 591.6281 - acc: 0.85426044 - batches: 1253\n",
      "Quality on validation dataset (10.0%), validation examples = 8909\n",
      "time to finish evaluation: 0.17s\n",
      "Macro-average\t prec: 0.80098426, rec: 0.78947306, f1: 0.795187\n",
      "Micro-average\t prec: 0.81456953, recall: 0.81456953, f1: 0.8145695\n",
      "Epoch 41/50 - 7.82s - loss: 591.19006 - acc: 0.8546598 - batches: 1253\n",
      "Quality on validation dataset (10.0%), validation examples = 8909\n",
      "time to finish evaluation: 0.14s\n",
      "Macro-average\t prec: 0.80117464, rec: 0.7898567, f1: 0.7954754\n",
      "Micro-average\t prec: 0.814794, recall: 0.814794, f1: 0.814794\n",
      "Epoch 42/50 - 8.04s - loss: 590.75775 - acc: 0.85512155 - batches: 1253\n",
      "Quality on validation dataset (10.0%), validation examples = 8909\n",
      "time to finish evaluation: 0.19s\n",
      "Macro-average\t prec: 0.80158746, rec: 0.7905542, f1: 0.7960326\n",
      "Micro-average\t prec: 0.815243, recall: 0.815243, f1: 0.815243\n",
      "Epoch 43/50 - 7.85s - loss: 590.3434 - acc: 0.85583293 - batches: 1253\n",
      "Quality on validation dataset (10.0%), validation examples = 8909\n",
      "time to finish evaluation: 0.15s\n",
      "Macro-average\t prec: 0.80127156, rec: 0.79044914, f1: 0.7958236\n",
      "Micro-average\t prec: 0.81501853, recall: 0.81501853, f1: 0.81501853\n",
      "Epoch 44/50 - 7.85s - loss: 589.9269 - acc: 0.8561449 - batches: 1253\n",
      "Quality on validation dataset (10.0%), validation examples = 8909\n",
      "time to finish evaluation: 0.15s\n",
      "Macro-average\t prec: 0.8016052, rec: 0.79092014, f1: 0.79622686\n",
      "Micro-average\t prec: 0.81535524, recall: 0.81535524, f1: 0.81535524\n",
      "Epoch 45/50 - 7.92s - loss: 589.5092 - acc: 0.8565318 - batches: 1253\n",
      "Quality on validation dataset (10.0%), validation examples = 8909\n",
      "time to finish evaluation: 0.16s\n",
      "Macro-average\t prec: 0.8011489, rec: 0.79072773, f1: 0.79590416\n",
      "Micro-average\t prec: 0.81501853, recall: 0.81501853, f1: 0.81501853\n",
      "Epoch 46/50 - 8.10s - loss: 589.0839 - acc: 0.85686874 - batches: 1253\n",
      "Quality on validation dataset (10.0%), validation examples = 8909\n",
      "time to finish evaluation: 0.20s\n",
      "Macro-average\t prec: 0.80055285, rec: 0.79044795, f1: 0.7954683\n",
      "Micro-average\t prec: 0.81456953, recall: 0.81456953, f1: 0.8145695\n",
      "Epoch 47/50 - 7.81s - loss: 588.6774 - acc: 0.85736793 - batches: 1253\n",
      "Quality on validation dataset (10.0%), validation examples = 8909\n",
      "time to finish evaluation: 0.16s\n",
      "Macro-average\t prec: 0.8002118, rec: 0.7904124, f1: 0.7952819\n",
      "Micro-average\t prec: 0.81434506, recall: 0.81434506, f1: 0.81434506\n",
      "Epoch 48/50 - 7.92s - loss: 588.28253 - acc: 0.8577548 - batches: 1253\n",
      "Quality on validation dataset (10.0%), validation examples = 8909\n",
      "time to finish evaluation: 0.16s\n",
      "Macro-average\t prec: 0.80026555, rec: 0.7907087, f1: 0.79545844\n",
      "Micro-average\t prec: 0.8144573, recall: 0.8144573, f1: 0.8144573\n",
      "Epoch 49/50 - 7.91s - loss: 587.9068 - acc: 0.8580918 - batches: 1253\n",
      "Quality on validation dataset (10.0%), validation examples = 8909\n",
      "time to finish evaluation: 0.15s\n",
      "Macro-average\t prec: 0.80026555, rec: 0.7907087, f1: 0.79545844\n",
      "Micro-average\t prec: 0.8144573, recall: 0.8144573, f1: 0.8144573\n",
      "Epoch 50/50 - 8.39s - loss: 587.5376 - acc: 0.85861593 - batches: 1253\n",
      "Quality on validation dataset (10.0%), validation examples = 8909\n",
      "time to finish evaluation: 0.18s\n",
      "Macro-average\t prec: 0.7998441, rec: 0.79044664, f1: 0.7951176\n",
      "Micro-average\t prec: 0.81412053, recall: 0.81412053, f1: 0.8141206\n"
     ]
    }
   ],
   "source": [
    "# Defining the SparkNLP training pipeline\n",
    "final_document_assembler = DocumentAssembler() \\\n",
    "        .setInputCol(\"text\") \\\n",
    "        .setOutputCol(\"document\")\n",
    "\n",
    "# Tokenizer\n",
    "final_tokenizer = Tokenizer()\\\n",
    "    .setInputCols([\"document\"])\\\n",
    "    .setOutputCol(\"token\")\n",
    "\n",
    "# Taking IndicBert Embeddings (vector per token)\n",
    "indic_bert = AlbertEmbeddings.pretrained(\"albert_indic\", \"xx\") \\\n",
    "          .setInputCols([\"document\", \"token\"]) \\\n",
    "          .setOutputCol(\"embeddings\") \\\n",
    "          .setCaseSensitive(False)\n",
    "\n",
    "# Computing Sentence Embeddings (vector per sentence)\n",
    "sentence_embeddings = SentenceEmbeddings()\\\n",
    "    .setInputCols([\"document\", \"embeddings\"])\\\n",
    "    .setOutputCol(\"sentence_embeddings\")\\\n",
    "    .setPoolingStrategy(\"AVERAGE\") # ensures that all words contribute proportionally especially in our Hinglish/Indic languages where word ordering varies\n",
    "\n",
    "# ClassifierDLApproach: Leveraging pre-trained library which classifies into positive and negative sentiments\n",
    "classifier = ClassifierDLApproach()\\\n",
    "    .setInputCols([\"sentence_embeddings\"])\\\n",
    "    .setOutputCol(\"prediction\")\\\n",
    "    .setLabelColumn(\"label\")\\\n",
    "    .setBatchSize(64)\\\n",
    "    .setMaxEpochs(50)\\\n",
    "    .setLr(1e-3)\\\n",
    "    .setEnableOutputLogs(True)\\\n",
    "    .setOutputLogsPath(\"/kaggle/working/classifierdl_logs\")\\\n",
    "    .setValidationSplit(0.1)\n",
    "\n",
    "# Pipeline\n",
    "final_pipeline = Pipeline(stages = [final_document_assembler, final_tokenizer, indic_bert, sentence_embeddings, classifier])\n",
    "\n",
    "# Training the model\n",
    "final_model = final_pipeline.fit(train_data)"
   ]
  },
  {
   "cell_type": "code",
   "execution_count": 12,
   "id": "U3iHUhuopACd",
   "metadata": {
    "execution": {
     "iopub.execute_input": "2025-05-06T23:56:17.891354Z",
     "iopub.status.busy": "2025-05-06T23:56:17.890758Z",
     "iopub.status.idle": "2025-05-06T23:56:24.312670Z",
     "shell.execute_reply": "2025-05-06T23:56:24.312040Z",
     "shell.execute_reply.started": "2025-05-06T23:56:17.891323Z"
    },
    "id": "U3iHUhuopACd",
    "trusted": true
   },
   "outputs": [],
   "source": [
    "# Finally we'll save the model\n",
    "final_model.save(\"/kaggle/working/indicbert_sentiment_model\")"
   ]
  },
  {
   "cell_type": "markdown",
   "id": "grFqMslJVNme",
   "metadata": {
    "id": "grFqMslJVNme"
   },
   "source": [
    "# Saving Model Checkpoints\n",
    "In Big-Data + ML, we identified that model checkpoints are stored!\n"
   ]
  },
  {
   "cell_type": "code",
   "execution_count": 13,
   "id": "Lzw7G1k7sb4s",
   "metadata": {
    "execution": {
     "iopub.execute_input": "2025-05-06T23:56:24.313895Z",
     "iopub.status.busy": "2025-05-06T23:56:24.313716Z",
     "iopub.status.idle": "2025-05-06T23:56:37.094902Z",
     "shell.execute_reply": "2025-05-06T23:56:37.094019Z",
     "shell.execute_reply.started": "2025-05-06T23:56:24.313881Z"
    },
    "id": "Lzw7G1k7sb4s",
    "trusted": true
   },
   "outputs": [
    {
     "name": "stderr",
     "output_type": "stream",
     "text": [
      "[Stage 37:>                                                                             (0 + 1) / 1]\r"
     ]
    },
    {
     "name": "stdout",
     "output_type": "stream",
     "text": [
      "+-------------------------------------------------------------------------------+-----+-------------------+\n",
      "|text                                                                           |label|Predicted_Sentiment|\n",
      "+-------------------------------------------------------------------------------+-----+-------------------+\n",
      "|0900 aur 0930 ke liye do alarms set karen .                                    |0.0  |0.0                |\n",
      "|1 00 pm ko ek 15 minute ka time shuru karen                                    |1.0  |0.0                |\n",
      "|1 10 freway ka istemal karke peter ' s canyon pohochne mein kitna time lagega ?|0.0  |0.0                |\n",
      "|1 30 a . m ke liye alarm ko hatado .                                           |0.0  |0.0                |\n",
      "|1 am ke bad 15 minutes ke liye alarm set kare                                  |0.0  |0.0                |\n",
      "|1 am ke liye alarm create kare                                                 |0.0  |0.0                |\n",
      "|1 am ke liye alarm schedule kare please                                        |0.0  |0.0                |\n",
      "|1 april ko 3 pm ko alarm create kare                                           |0.0  |0.0                |\n",
      "|1 august 2018 ko mujhe mera phone bil pay karne ke liye yad dilayen .          |0.0  |1.0                |\n",
      "|1 august ko arabela ke baptism ke liye reminder aur details display kare       |1.0  |1.0                |\n",
      "|1 aur 2 strets ke bech ka trafic kaisa hai                                     |1.0  |0.0                |\n",
      "|1 ghante aur das minute ke liye alarm set kare                                 |0.0  |0.0                |\n",
      "|1 ghante ke liye alarm set kare                                                |0.0  |0.0                |\n",
      "|1 ghante ke liye alarm set kare                                                |0.0  |0.0                |\n",
      "|1 ghante ke liye alarm set karen                                               |0.0  |0.0                |\n",
      "|1 ghante ke liye timer set karen at 20 minutes intervals                       |0.0  |0.0                |\n",
      "|1 ghante mein alarm band karne ke liye set kare                                |0.0  |0.0                |\n",
      "|1 hour , 20 minutes ke liye timer set kare                                     |0.0  |0.0                |\n",
      "|1 hour ka alarm set kare                                                       |0.0  |0.0                |\n",
      "|1 hour ka timer delete kare                                                    |0.0  |0.0                |\n",
      "+-------------------------------------------------------------------------------+-----+-------------------+\n",
      "only showing top 20 rows\n",
      "\n"
     ]
    },
    {
     "name": "stderr",
     "output_type": "stream",
     "text": [
      "                                                                                                    \r"
     ]
    }
   ],
   "source": [
    "# As we saved the model checkpoints, we need not run the model again! Now, we will just load the checkpoints and try to compare our accuracy with new test data points!\n",
    "loaded_model = PipelineModel.load(\"/kaggle/working/indicbert_sentiment_model\")\n",
    "predictions = loaded_model.transform(test_data)\n",
    "predictions.select(\n",
    "    \"text\",\n",
    "    \"label\",\n",
    "    F.col(\"prediction.result\").getItem(0).alias(\"Predicted_Sentiment\")\n",
    ").show(truncate=False)"
   ]
  },
  {
   "cell_type": "markdown",
   "id": "FHDZvd9oxDdM",
   "metadata": {
    "id": "FHDZvd9oxDdM"
   },
   "source": [
    "# Evaluating our model result"
   ]
  },
  {
   "cell_type": "code",
   "execution_count": 14,
   "id": "DGb-pBxHV4I4",
   "metadata": {
    "execution": {
     "iopub.execute_input": "2025-05-06T23:56:37.096449Z",
     "iopub.status.busy": "2025-05-06T23:56:37.096187Z",
     "iopub.status.idle": "2025-05-07T00:12:27.411279Z",
     "shell.execute_reply": "2025-05-07T00:12:27.410419Z",
     "shell.execute_reply.started": "2025-05-06T23:56:37.096431Z"
    },
    "id": "DGb-pBxHV4I4",
    "trusted": true
   },
   "outputs": [
    {
     "name": "stderr",
     "output_type": "stream",
     "text": [
      "[Stage 38:==========================================================>                   (3 + 1) / 4]\r"
     ]
    },
    {
     "name": "stdout",
     "output_type": "stream",
     "text": [
      "Accuracy: 81.20%\n",
      "F1 Score: 81.05%\n"
     ]
    },
    {
     "name": "stderr",
     "output_type": "stream",
     "text": [
      "                                                                                                    \r"
     ]
    }
   ],
   "source": [
    "my_predictions = predictions.withColumn(\"predicted_label\", F.col(\"prediction.result\").getItem(0))\n",
    "\n",
    "# will first convert to pandas dataframe for faster computation!\n",
    "my_predictions_pd = my_predictions.select(\n",
    "    F.col(\"label\").cast(\"float\").alias(\"true_label\"),  \n",
    "    F.col(\"predicted_label\").cast(\"float\").alias(\"predicted_label\") \n",
    ").toPandas()\n",
    "\n",
    "# calculating accuracy\n",
    "accuracy = (my_predictions_pd[\"true_label\"] == my_predictions_pd[\"predicted_label\"]).mean()\n",
    "print(f\"Accuracy: {accuracy * 100:.2f}%\")\n",
    "\n",
    "# calculating F1-Score \n",
    "f1 = f1_score(my_predictions_pd[\"true_label\"], my_predictions_pd[\"predicted_label\"], average='weighted')\n",
    "print(f\"F1 Score: {f1 * 100:.2f}%\")"
   ]
  },
  {
   "cell_type": "markdown",
   "id": "vyhA11aQXYXF",
   "metadata": {
    "id": "vyhA11aQXYXF"
   },
   "source": [
    "# Final accuracy and F-1 score visualization"
   ]
  },
  {
   "cell_type": "code",
   "execution_count": 15,
   "id": "DMfonHJKXKEH",
   "metadata": {
    "execution": {
     "iopub.execute_input": "2025-05-07T00:12:27.412541Z",
     "iopub.status.busy": "2025-05-07T00:12:27.412267Z",
     "iopub.status.idle": "2025-05-07T00:12:27.851120Z",
     "shell.execute_reply": "2025-05-07T00:12:27.850355Z",
     "shell.execute_reply.started": "2025-05-07T00:12:27.412520Z"
    },
    "id": "DMfonHJKXKEH",
    "trusted": true
   },
   "outputs": [
    {
     "data": {
      "image/png": "[encoded data removed]",
      "text/plain": [
       "<Figure size 600x500 with 1 Axes>"
      ]
     },
     "metadata": {},
     "output_type": "display_data"
    }
   ],
   "source": [
    "metrics = ['Accuracy', 'F1 Score']\n",
    "values = [accuracy * 100, f1 * 100]\n",
    "\n",
    "# Plots!\n",
    "plt.figure(figsize=(6, 5))\n",
    "bars = plt.bar(metrics, values, width=0.4)\n",
    "\n",
    "for bar in bars:\n",
    "    yval = bar.get_height()\n",
    "    plt.text(bar.get_x() + bar.get_width()/2.0, yval + 1, f'{yval:.2f}%', ha='center', va='bottom')\n",
    "\n",
    "plt.title('Model Evaluation Metrics', fontsize=16)\n",
    "plt.ylim(0, 110)\n",
    "plt.ylabel('Percentage (%)')\n",
    "plt.show()"
   ]
  },
  {
   "cell_type": "markdown",
   "id": "3ft7KMoIXYtb",
   "metadata": {
    "id": "3ft7KMoIXYtb"
   },
   "source": [
    "# Predicted label distribution\n",
    "I will plot pie-chart and bar-chart to visualize % proportion of each class (Positive/Negative)"
   ]
  },
  {
   "cell_type": "code",
   "execution_count": 16,
   "id": "foco74L5XJ-k",
   "metadata": {
    "execution": {
     "iopub.execute_input": "2025-05-07T00:12:27.852564Z",
     "iopub.status.busy": "2025-05-07T00:12:27.852359Z",
     "iopub.status.idle": "2025-05-07T00:12:27.997137Z",
     "shell.execute_reply": "2025-05-07T00:12:27.996342Z",
     "shell.execute_reply.started": "2025-05-07T00:12:27.852548Z"
    },
    "id": "foco74L5XJ-k",
    "trusted": true
   },
   "outputs": [
    {
     "data": {
      "image/png": "[encoded data removed]",
      "text/plain": [
       "<Figure size 700x700 with 1 Axes>"
      ]
     },
     "metadata": {},
     "output_type": "display_data"
    }
   ],
   "source": [
    "# Pie-chart\n",
    "label_mapping = {\n",
    "    0.0: \"Negative\",\n",
    "    1.0: \"Positive\"\n",
    "}\n",
    "my_predictions_pd['Predicted_Sentiment'] = my_predictions_pd['predicted_label'].map(label_mapping)\n",
    "predicted_counts = my_predictions_pd['Predicted_Sentiment'].value_counts()\n",
    "\n",
    "plt.figure(figsize=(7, 7))\n",
    "plt.pie(\n",
    "    predicted_counts,\n",
    "    labels=predicted_counts.index,\n",
    "    autopct='%1.1f%%',\n",
    "    startangle=140,\n",
    "    colors=[\"lightcoral\", \"lightskyblue\"]\n",
    ")\n",
    "plt.title(\"Predicted Sentiment Distribution (Pie Chart)\")\n",
    "plt.axis('equal')\n",
    "plt.show()"
   ]
  },
  {
   "cell_type": "code",
   "execution_count": 17,
   "id": "tkMJU3ScZTwM",
   "metadata": {
    "execution": {
     "iopub.execute_input": "2025-05-07T00:12:27.998058Z",
     "iopub.status.busy": "2025-05-07T00:12:27.997852Z",
     "iopub.status.idle": "2025-05-07T00:12:28.116032Z",
     "shell.execute_reply": "2025-05-07T00:12:28.115459Z",
     "shell.execute_reply.started": "2025-05-07T00:12:27.998042Z"
    },
    "id": "tkMJU3ScZTwM",
    "trusted": true
   },
   "outputs": [
    {
     "data": {
      "image/png": "[encoded data removed]",
      "text/plain": [
       "<Figure size 800x500 with 1 Axes>"
      ]
     },
     "metadata": {},
     "output_type": "display_data"
    }
   ],
   "source": [
    "# Bar Chart\n",
    "plt.figure(figsize=(8, 5))\n",
    "plt.bar(predicted_counts.index, predicted_counts.values, color=[\"lightcoral\", \"lightskyblue\"])\n",
    "plt.xlabel(\"Predicted Sentiment\")\n",
    "plt.ylabel(\"Count\")\n",
    "plt.title(\"Predicted Sentiment Distribution (Bar Chart)\")\n",
    "plt.grid(axis='y')\n",
    "plt.show()"
   ]
  }
 ],
 "metadata": {
  "accelerator": "GPU",
  "colab": {
   "gpuType": "T4",
   "provenance": []
  },
  "kaggle": {
   "accelerator": "nvidiaTeslaT4",
   "dataSources": [
    {
     "datasetId": 7340856,
     "sourceId": 11695793,
     "sourceType": "datasetVersion"
    }
   ],
   "dockerImageVersionId": 31011,
   "isGpuEnabled": true,
   "isInternetEnabled": true,
   "language": "python",
   "sourceType": "notebook"
  },
  "kernelspec": {
   "display_name": "Python 3",
   "language": "python",
   "name": "python3"
  },
  "language_info": {
   "codemirror_mode": {
    "name": "ipython",
    "version": 3
   },
   "file_extension": ".py",
   "mimetype": "text/x-python",
   "name": "python",
   "nbconvert_exporter": "python",
   "pygments_lexer": "ipython3",
   "version": "3.11.11"
  },
  "widgets": {
   "application/vnd.jupyter.widget-state+json": {
    "0bc4606cd54e4ab3982fbaf1d3a9da69": {
     "model_module": "@jupyter-widgets/controls",
     "model_module_version": "1.5.0",
     "model_name": "DescriptionStyleModel",
     "state": {
      "_model_module": "@jupyter-widgets/controls",
      "_model_module_version": "1.5.0",
      "_model_name": "DescriptionStyleModel",
      "_view_count": null,
      "_view_module": "@jupyter-widgets/base",
      "_view_module_version": "1.2.0",
      "_view_name": "StyleView",
      "description_width": ""
     }
    },
    "108894588f6a4bbab653c5b3418aecf6": {
     "model_module": "@jupyter-widgets/controls",
     "model_module_version": "1.5.0",
     "model_name": "HBoxModel",
     "state": {
      "_dom_classes": [],
      "_model_module": "@jupyter-widgets/controls",
      "_model_module_version": "1.5.0",
      "_model_name": "HBoxModel",
      "_view_count": null,
      "_view_module": "@jupyter-widgets/controls",
      "_view_module_version": "1.5.0",
      "_view_name": "HBoxView",
      "box_style": "",
      "children": [
       "IPY_MODEL_e255e578ec7d48e690dda36cb7058144",
       "IPY_MODEL_6aeb851f3601475bb82929448a0ff601",
       "IPY_MODEL_3933695cb32141678b21ce50b45cbee1"
      ],
      "layout": "IPY_MODEL_877068881fcb48eb9f09813c6611357d"
     }
    },
    "1a1ee941b5eb4fa39eae7d0918937f2d": {
     "model_module": "@jupyter-widgets/controls",
     "model_module_version": "1.5.0",
     "model_name": "HTMLModel",
     "state": {
      "_dom_classes": [],
      "_model_module": "@jupyter-widgets/controls",
      "_model_module_version": "1.5.0",
      "_model_name": "HTMLModel",
      "_view_count": null,
      "_view_module": "@jupyter-widgets/controls",
      "_view_module_version": "1.5.0",
      "_view_name": "HTMLView",
      "description": "",
      "description_tooltip": null,
      "layout": "IPY_MODEL_e7ddf2d55a694a19b6f9aa6d0ed70d0d",
      "placeholder": "​",
      "style": "IPY_MODEL_0bc4606cd54e4ab3982fbaf1d3a9da69",
      "value": " 629/629 [00:00&lt;00:00, 18.4kB/s]"
     }
    },
    "1d0b2b903fa5452082a0835a9a3178bf": {
     "model_module": "@jupyter-widgets/base",
     "model_module_version": "1.2.0",
     "model_name": "LayoutModel",
     "state": {
      "_model_module": "@jupyter-widgets/base",
      "_model_module_version": "1.2.0",
      "_model_name": "LayoutModel",
      "_view_count": null,
      "_view_module": "@jupyter-widgets/base",
      "_view_module_version": "1.2.0",
      "_view_name": "LayoutView",
      "align_content": null,
      "align_items": null,
      "align_self": null,
      "border": null,
      "bottom": null,
      "display": null,
      "flex": null,
      "flex_flow": null,
      "grid_area": null,
      "grid_auto_columns": null,
      "grid_auto_flow": null,
      "grid_auto_rows": null,
      "grid_column": null,
      "grid_gap": null,
      "grid_row": null,
      "grid_template_areas": null,
      "grid_template_columns": null,
      "grid_template_rows": null,
      "height": null,
      "justify_content": null,
      "justify_items": null,
      "left": null,
      "margin": null,
      "max_height": null,
      "max_width": null,
      "min_height": null,
      "min_width": null,
      "object_fit": null,
      "object_position": null,
      "order": null,
      "overflow": null,
      "overflow_x": null,
      "overflow_y": null,
      "padding": null,
      "right": null,
      "top": null,
      "visibility": null,
      "width": null
     }
    },
    "23e4026907e04f2badd2b07d25e67821": {
     "model_module": "@jupyter-widgets/base",
     "model_module_version": "1.2.0",
     "model_name": "LayoutModel",
     "state": {
      "_model_module": "@jupyter-widgets/base",
      "_model_module_version": "1.2.0",
      "_model_name": "LayoutModel",
      "_view_count": null,
      "_view_module": "@jupyter-widgets/base",
      "_view_module_version": "1.2.0",
      "_view_name": "LayoutView",
      "align_content": null,
      "align_items": null,
      "align_self": null,
      "border": null,
      "bottom": null,
      "display": null,
      "flex": null,
      "flex_flow": null,
      "grid_area": null,
      "grid_auto_columns": null,
      "grid_auto_flow": null,
      "grid_auto_rows": null,
      "grid_column": null,
      "grid_gap": null,
      "grid_row": null,
      "grid_template_areas": null,
      "grid_template_columns": null,
      "grid_template_rows": null,
      "height": null,
      "justify_content": null,
      "justify_items": null,
      "left": null,
      "margin": null,
      "max_height": null,
      "max_width": null,
      "min_height": null,
      "min_width": null,
      "object_fit": null,
      "object_position": null,
      "order": null,
      "overflow": null,
      "overflow_x": null,
      "overflow_y": null,
      "padding": null,
      "right": null,
      "top": null,
      "visibility": null,
      "width": null
     }
    },
    "2cb401b2a9d544449f7c92649d609bbf": {
     "model_module": "@jupyter-widgets/base",
     "model_module_version": "1.2.0",
     "model_name": "LayoutModel",
     "state": {
      "_model_module": "@jupyter-widgets/base",
      "_model_module_version": "1.2.0",
      "_model_name": "LayoutModel",
      "_view_count": null,
      "_view_module": "@jupyter-widgets/base",
      "_view_module_version": "1.2.0",
      "_view_name": "LayoutView",
      "align_content": null,
      "align_items": null,
      "align_self": null,
      "border": null,
      "bottom": null,
      "display": null,
      "flex": null,
      "flex_flow": null,
      "grid_area": null,
      "grid_auto_columns": null,
      "grid_auto_flow": null,
      "grid_auto_rows": null,
      "grid_column": null,
      "grid_gap": null,
      "grid_row": null,
      "grid_template_areas": null,
      "grid_template_columns": null,
      "grid_template_rows": null,
      "height": null,
      "justify_content": null,
      "justify_items": null,
      "left": null,
      "margin": null,
      "max_height": null,
      "max_width": null,
      "min_height": null,
      "min_width": null,
      "object_fit": null,
      "object_position": null,
      "order": null,
      "overflow": null,
      "overflow_x": null,
      "overflow_y": null,
      "padding": null,
      "right": null,
      "top": null,
      "visibility": null,
      "width": null
     }
    },
    "2ee60a21902e41b5be5a34faac4c7492": {
     "model_module": "@jupyter-widgets/base",
     "model_module_version": "1.2.0",
     "model_name": "LayoutModel",
     "state": {
      "_model_module": "@jupyter-widgets/base",
      "_model_module_version": "1.2.0",
      "_model_name": "LayoutModel",
      "_view_count": null,
      "_view_module": "@jupyter-widgets/base",
      "_view_module_version": "1.2.0",
      "_view_name": "LayoutView",
      "align_content": null,
      "align_items": null,
      "align_self": null,
      "border": null,
      "bottom": null,
      "display": null,
      "flex": null,
      "flex_flow": null,
      "grid_area": null,
      "grid_auto_columns": null,
      "grid_auto_flow": null,
      "grid_auto_rows": null,
      "grid_column": null,
      "grid_gap": null,
      "grid_row": null,
      "grid_template_areas": null,
      "grid_template_columns": null,
      "grid_template_rows": null,
      "height": null,
      "justify_content": null,
      "justify_items": null,
      "left": null,
      "margin": null,
      "max_height": null,
      "max_width": null,
      "min_height": null,
      "min_width": null,
      "object_fit": null,
      "object_position": null,
      "order": null,
      "overflow": null,
      "overflow_x": null,
      "overflow_y": null,
      "padding": null,
      "right": null,
      "top": null,
      "visibility": null,
      "width": null
     }
    },
    "33536ff1024e44cbac212fb30da30606": {
     "model_module": "@jupyter-widgets/controls",
     "model_module_version": "1.5.0",
     "model_name": "HTMLModel",
     "state": {
      "_dom_classes": [],
      "_model_module": "@jupyter-widgets/controls",
      "_model_module_version": "1.5.0",
      "_model_name": "HTMLModel",
      "_view_count": null,
      "_view_module": "@jupyter-widgets/controls",
      "_view_module_version": "1.5.0",
      "_view_name": "HTMLView",
      "description": "",
      "description_tooltip": null,
      "layout": "IPY_MODEL_39a3181429904b56bb476d64aef04307",
      "placeholder": "​",
      "style": "IPY_MODEL_fb9511b8d1ba4ad088e3c994d95c4c8e",
      "value": "config.json: 100%"
     }
    },
    "35ad7ec147704cf4940c01ab7b5ccd76": {
     "model_module": "@jupyter-widgets/base",
     "model_module_version": "1.2.0",
     "model_name": "LayoutModel",
     "state": {
      "_model_module": "@jupyter-widgets/base",
      "_model_module_version": "1.2.0",
      "_model_name": "LayoutModel",
      "_view_count": null,
      "_view_module": "@jupyter-widgets/base",
      "_view_module_version": "1.2.0",
      "_view_name": "LayoutView",
      "align_content": null,
      "align_items": null,
      "align_self": null,
      "border": null,
      "bottom": null,
      "display": null,
      "flex": null,
      "flex_flow": null,
      "grid_area": null,
      "grid_auto_columns": null,
      "grid_auto_flow": null,
      "grid_auto_rows": null,
      "grid_column": null,
      "grid_gap": null,
      "grid_row": null,
      "grid_template_areas": null,
      "grid_template_columns": null,
      "grid_template_rows": null,
      "height": null,
      "justify_content": null,
      "justify_items": null,
      "left": null,
      "margin": null,
      "max_height": null,
      "max_width": null,
      "min_height": null,
      "min_width": null,
      "object_fit": null,
      "object_position": null,
      "order": null,
      "overflow": null,
      "overflow_x": null,
      "overflow_y": null,
      "padding": null,
      "right": null,
      "top": null,
      "visibility": null,
      "width": null
     }
    },
    "3933695cb32141678b21ce50b45cbee1": {
     "model_module": "@jupyter-widgets/controls",
     "model_module_version": "1.5.0",
     "model_name": "HTMLModel",
     "state": {
      "_dom_classes": [],
      "_model_module": "@jupyter-widgets/controls",
      "_model_module_version": "1.5.0",
      "_model_name": "HTMLModel",
      "_view_count": null,
      "_view_module": "@jupyter-widgets/controls",
      "_view_module_version": "1.5.0",
      "_view_name": "HTMLView",
      "description": "",
      "description_tooltip": null,
      "layout": "IPY_MODEL_23e4026907e04f2badd2b07d25e67821",
      "placeholder": "​",
      "style": "IPY_MODEL_7612d309cf2f4e21b93c3b4ca7ac6d07",
      "value": " 268M/268M [00:01&lt;00:00, 263MB/s]"
     }
    },
    "39a3181429904b56bb476d64aef04307": {
     "model_module": "@jupyter-widgets/base",
     "model_module_version": "1.2.0",
     "model_name": "LayoutModel",
     "state": {
      "_model_module": "@jupyter-widgets/base",
      "_model_module_version": "1.2.0",
      "_model_name": "LayoutModel",
      "_view_count": null,
      "_view_module": "@jupyter-widgets/base",
      "_view_module_version": "1.2.0",
      "_view_name": "LayoutView",
      "align_content": null,
      "align_items": null,
      "align_self": null,
      "border": null,
      "bottom": null,
      "display": null,
      "flex": null,
      "flex_flow": null,
      "grid_area": null,
      "grid_auto_columns": null,
      "grid_auto_flow": null,
      "grid_auto_rows": null,
      "grid_column": null,
      "grid_gap": null,
      "grid_row": null,
      "grid_template_areas": null,
      "grid_template_columns": null,
      "grid_template_rows": null,
      "height": null,
      "justify_content": null,
      "justify_items": null,
      "left": null,
      "margin": null,
      "max_height": null,
      "max_width": null,
      "min_height": null,
      "min_width": null,
      "object_fit": null,
      "object_position": null,
      "order": null,
      "overflow": null,
      "overflow_x": null,
      "overflow_y": null,
      "padding": null,
      "right": null,
      "top": null,
      "visibility": null,
      "width": null
     }
    },
    "3b3d982b216a40b3886320aa6e81b692": {
     "model_module": "@jupyter-widgets/controls",
     "model_module_version": "1.5.0",
     "model_name": "DescriptionStyleModel",
     "state": {
      "_model_module": "@jupyter-widgets/controls",
      "_model_module_version": "1.5.0",
      "_model_name": "DescriptionStyleModel",
      "_view_count": null,
      "_view_module": "@jupyter-widgets/base",
      "_view_module_version": "1.2.0",
      "_view_name": "StyleView",
      "description_width": ""
     }
    },
    "45be41d80bd14f5e963c6c7d15a77fea": {
     "model_module": "@jupyter-widgets/controls",
     "model_module_version": "1.5.0",
     "model_name": "DescriptionStyleModel",
     "state": {
      "_model_module": "@jupyter-widgets/controls",
      "_model_module_version": "1.5.0",
      "_model_name": "DescriptionStyleModel",
      "_view_count": null,
      "_view_module": "@jupyter-widgets/base",
      "_view_module_version": "1.2.0",
      "_view_name": "StyleView",
      "description_width": ""
     }
    },
    "45f7bccd060d495fb35b9d68175e6448": {
     "model_module": "@jupyter-widgets/controls",
     "model_module_version": "1.5.0",
     "model_name": "ProgressStyleModel",
     "state": {
      "_model_module": "@jupyter-widgets/controls",
      "_model_module_version": "1.5.0",
      "_model_name": "ProgressStyleModel",
      "_view_count": null,
      "_view_module": "@jupyter-widgets/base",
      "_view_module_version": "1.2.0",
      "_view_name": "StyleView",
      "bar_color": null,
      "description_width": ""
     }
    },
    "461181dfd1e8442ab34339235280a79b": {
     "model_module": "@jupyter-widgets/controls",
     "model_module_version": "1.5.0",
     "model_name": "DescriptionStyleModel",
     "state": {
      "_model_module": "@jupyter-widgets/controls",
      "_model_module_version": "1.5.0",
      "_model_name": "DescriptionStyleModel",
      "_view_count": null,
      "_view_module": "@jupyter-widgets/base",
      "_view_module_version": "1.2.0",
      "_view_name": "StyleView",
      "description_width": ""
     }
    },
    "57b1f4ce02f6458293750a2de4792da9": {
     "model_module": "@jupyter-widgets/base",
     "model_module_version": "1.2.0",
     "model_name": "LayoutModel",
     "state": {
      "_model_module": "@jupyter-widgets/base",
      "_model_module_version": "1.2.0",
      "_model_name": "LayoutModel",
      "_view_count": null,
      "_view_module": "@jupyter-widgets/base",
      "_view_module_version": "1.2.0",
      "_view_name": "LayoutView",
      "align_content": null,
      "align_items": null,
      "align_self": null,
      "border": null,
      "bottom": null,
      "display": null,
      "flex": null,
      "flex_flow": null,
      "grid_area": null,
      "grid_auto_columns": null,
      "grid_auto_flow": null,
      "grid_auto_rows": null,
      "grid_column": null,
      "grid_gap": null,
      "grid_row": null,
      "grid_template_areas": null,
      "grid_template_columns": null,
      "grid_template_rows": null,
      "height": null,
      "justify_content": null,
      "justify_items": null,
      "left": null,
      "margin": null,
      "max_height": null,
      "max_width": null,
      "min_height": null,
      "min_width": null,
      "object_fit": null,
      "object_position": null,
      "order": null,
      "overflow": null,
      "overflow_x": null,
      "overflow_y": null,
      "padding": null,
      "right": null,
      "top": null,
      "visibility": null,
      "width": null
     }
    },
    "63e73c7d6bc24ea787f1ed12a8a1d806": {
     "model_module": "@jupyter-widgets/base",
     "model_module_version": "1.2.0",
     "model_name": "LayoutModel",
     "state": {
      "_model_module": "@jupyter-widgets/base",
      "_model_module_version": "1.2.0",
      "_model_name": "LayoutModel",
      "_view_count": null,
      "_view_module": "@jupyter-widgets/base",
      "_view_module_version": "1.2.0",
      "_view_name": "LayoutView",
      "align_content": null,
      "align_items": null,
      "align_self": null,
      "border": null,
      "bottom": null,
      "display": null,
      "flex": null,
      "flex_flow": null,
      "grid_area": null,
      "grid_auto_columns": null,
      "grid_auto_flow": null,
      "grid_auto_rows": null,
      "grid_column": null,
      "grid_gap": null,
      "grid_row": null,
      "grid_template_areas": null,
      "grid_template_columns": null,
      "grid_template_rows": null,
      "height": null,
      "justify_content": null,
      "justify_items": null,
      "left": null,
      "margin": null,
      "max_height": null,
      "max_width": null,
      "min_height": null,
      "min_width": null,
      "object_fit": null,
      "object_position": null,
      "order": null,
      "overflow": null,
      "overflow_x": null,
      "overflow_y": null,
      "padding": null,
      "right": null,
      "top": null,
      "visibility": null,
      "width": null
     }
    },
    "647f8eb7d9a849fc8eb8b795b7607d19": {
     "model_module": "@jupyter-widgets/controls",
     "model_module_version": "1.5.0",
     "model_name": "HBoxModel",
     "state": {
      "_dom_classes": [],
      "_model_module": "@jupyter-widgets/controls",
      "_model_module_version": "1.5.0",
      "_model_name": "HBoxModel",
      "_view_count": null,
      "_view_module": "@jupyter-widgets/controls",
      "_view_module_version": "1.5.0",
      "_view_name": "HBoxView",
      "box_style": "",
      "children": [
       "IPY_MODEL_6daa39fbc48c4e9aaf7b36fd3ad154ff",
       "IPY_MODEL_fc73e686577440618555e01f1fce07da",
       "IPY_MODEL_ede9bd64f7ab4d45becb55f3c5bb7169"
      ],
      "layout": "IPY_MODEL_cc31ccdc0d3146edbc7f349a6996777f"
     }
    },
    "6aeb851f3601475bb82929448a0ff601": {
     "model_module": "@jupyter-widgets/controls",
     "model_module_version": "1.5.0",
     "model_name": "FloatProgressModel",
     "state": {
      "_dom_classes": [],
      "_model_module": "@jupyter-widgets/controls",
      "_model_module_version": "1.5.0",
      "_model_name": "FloatProgressModel",
      "_view_count": null,
      "_view_module": "@jupyter-widgets/controls",
      "_view_module_version": "1.5.0",
      "_view_name": "ProgressView",
      "bar_style": "success",
      "description": "",
      "description_tooltip": null,
      "layout": "IPY_MODEL_e1274a4955be46d5ba528a845a8542e6",
      "max": 267832558,
      "min": 0,
      "orientation": "horizontal",
      "style": "IPY_MODEL_c69bef4d8ae346ecbf40f939393c866b",
      "value": 267832558
     }
    },
    "6cb9f7d73354422299a30f63b4334162": {
     "model_module": "@jupyter-widgets/base",
     "model_module_version": "1.2.0",
     "model_name": "LayoutModel",
     "state": {
      "_model_module": "@jupyter-widgets/base",
      "_model_module_version": "1.2.0",
      "_model_name": "LayoutModel",
      "_view_count": null,
      "_view_module": "@jupyter-widgets/base",
      "_view_module_version": "1.2.0",
      "_view_name": "LayoutView",
      "align_content": null,
      "align_items": null,
      "align_self": null,
      "border": null,
      "bottom": null,
      "display": null,
      "flex": null,
      "flex_flow": null,
      "grid_area": null,
      "grid_auto_columns": null,
      "grid_auto_flow": null,
      "grid_auto_rows": null,
      "grid_column": null,
      "grid_gap": null,
      "grid_row": null,
      "grid_template_areas": null,
      "grid_template_columns": null,
      "grid_template_rows": null,
      "height": null,
      "justify_content": null,
      "justify_items": null,
      "left": null,
      "margin": null,
      "max_height": null,
      "max_width": null,
      "min_height": null,
      "min_width": null,
      "object_fit": null,
      "object_position": null,
      "order": null,
      "overflow": null,
      "overflow_x": null,
      "overflow_y": null,
      "padding": null,
      "right": null,
      "top": null,
      "visibility": null,
      "width": null
     }
    },
    "6daa39fbc48c4e9aaf7b36fd3ad154ff": {
     "model_module": "@jupyter-widgets/controls",
     "model_module_version": "1.5.0",
     "model_name": "HTMLModel",
     "state": {
      "_dom_classes": [],
      "_model_module": "@jupyter-widgets/controls",
      "_model_module_version": "1.5.0",
      "_model_name": "HTMLModel",
      "_view_count": null,
      "_view_module": "@jupyter-widgets/controls",
      "_view_module_version": "1.5.0",
      "_view_name": "HTMLView",
      "description": "",
      "description_tooltip": null,
      "layout": "IPY_MODEL_6cb9f7d73354422299a30f63b4334162",
      "placeholder": "​",
      "style": "IPY_MODEL_dacfa6181dc745eb981e1dbc6b91b78c",
      "value": "vocab.txt: 100%"
     }
    },
    "7612d309cf2f4e21b93c3b4ca7ac6d07": {
     "model_module": "@jupyter-widgets/controls",
     "model_module_version": "1.5.0",
     "model_name": "DescriptionStyleModel",
     "state": {
      "_model_module": "@jupyter-widgets/controls",
      "_model_module_version": "1.5.0",
      "_model_name": "DescriptionStyleModel",
      "_view_count": null,
      "_view_module": "@jupyter-widgets/base",
      "_view_module_version": "1.2.0",
      "_view_name": "StyleView",
      "description_width": ""
     }
    },
    "7770f5540f21487095e31bced60e5406": {
     "model_module": "@jupyter-widgets/controls",
     "model_module_version": "1.5.0",
     "model_name": "DescriptionStyleModel",
     "state": {
      "_model_module": "@jupyter-widgets/controls",
      "_model_module_version": "1.5.0",
      "_model_name": "DescriptionStyleModel",
      "_view_count": null,
      "_view_module": "@jupyter-widgets/base",
      "_view_module_version": "1.2.0",
      "_view_name": "StyleView",
      "description_width": ""
     }
    },
    "877068881fcb48eb9f09813c6611357d": {
     "model_module": "@jupyter-widgets/base",
     "model_module_version": "1.2.0",
     "model_name": "LayoutModel",
     "state": {
      "_model_module": "@jupyter-widgets/base",
      "_model_module_version": "1.2.0",
      "_model_name": "LayoutModel",
      "_view_count": null,
      "_view_module": "@jupyter-widgets/base",
      "_view_module_version": "1.2.0",
      "_view_name": "LayoutView",
      "align_content": null,
      "align_items": null,
      "align_self": null,
      "border": null,
      "bottom": null,
      "display": null,
      "flex": null,
      "flex_flow": null,
      "grid_area": null,
      "grid_auto_columns": null,
      "grid_auto_flow": null,
      "grid_auto_rows": null,
      "grid_column": null,
      "grid_gap": null,
      "grid_row": null,
      "grid_template_areas": null,
      "grid_template_columns": null,
      "grid_template_rows": null,
      "height": null,
      "justify_content": null,
      "justify_items": null,
      "left": null,
      "margin": null,
      "max_height": null,
      "max_width": null,
      "min_height": null,
      "min_width": null,
      "object_fit": null,
      "object_position": null,
      "order": null,
      "overflow": null,
      "overflow_x": null,
      "overflow_y": null,
      "padding": null,
      "right": null,
      "top": null,
      "visibility": null,
      "width": null
     }
    },
    "88820da8554c439ab4a046929be3dae7": {
     "model_module": "@jupyter-widgets/base",
     "model_module_version": "1.2.0",
     "model_name": "LayoutModel",
     "state": {
      "_model_module": "@jupyter-widgets/base",
      "_model_module_version": "1.2.0",
      "_model_name": "LayoutModel",
      "_view_count": null,
      "_view_module": "@jupyter-widgets/base",
      "_view_module_version": "1.2.0",
      "_view_name": "LayoutView",
      "align_content": null,
      "align_items": null,
      "align_self": null,
      "border": null,
      "bottom": null,
      "display": null,
      "flex": null,
      "flex_flow": null,
      "grid_area": null,
      "grid_auto_columns": null,
      "grid_auto_flow": null,
      "grid_auto_rows": null,
      "grid_column": null,
      "grid_gap": null,
      "grid_row": null,
      "grid_template_areas": null,
      "grid_template_columns": null,
      "grid_template_rows": null,
      "height": null,
      "justify_content": null,
      "justify_items": null,
      "left": null,
      "margin": null,
      "max_height": null,
      "max_width": null,
      "min_height": null,
      "min_width": null,
      "object_fit": null,
      "object_position": null,
      "order": null,
      "overflow": null,
      "overflow_x": null,
      "overflow_y": null,
      "padding": null,
      "right": null,
      "top": null,
      "visibility": null,
      "width": null
     }
    },
    "8962610253394af8a932c4b201252a3f": {
     "model_module": "@jupyter-widgets/controls",
     "model_module_version": "1.5.0",
     "model_name": "HTMLModel",
     "state": {
      "_dom_classes": [],
      "_model_module": "@jupyter-widgets/controls",
      "_model_module_version": "1.5.0",
      "_model_name": "HTMLModel",
      "_view_count": null,
      "_view_module": "@jupyter-widgets/controls",
      "_view_module_version": "1.5.0",
      "_view_name": "HTMLView",
      "description": "",
      "description_tooltip": null,
      "layout": "IPY_MODEL_2cb401b2a9d544449f7c92649d609bbf",
      "placeholder": "​",
      "style": "IPY_MODEL_45be41d80bd14f5e963c6c7d15a77fea",
      "value": " 48.0/48.0 [00:00&lt;00:00, 4.33kB/s]"
     }
    },
    "a52bcd2f2b8c43689d9121443ae2b4a0": {
     "model_module": "@jupyter-widgets/controls",
     "model_module_version": "1.5.0",
     "model_name": "HBoxModel",
     "state": {
      "_dom_classes": [],
      "_model_module": "@jupyter-widgets/controls",
      "_model_module_version": "1.5.0",
      "_model_name": "HBoxModel",
      "_view_count": null,
      "_view_module": "@jupyter-widgets/controls",
      "_view_module_version": "1.5.0",
      "_view_name": "HBoxView",
      "box_style": "",
      "children": [
       "IPY_MODEL_d4837acc849347238aea9e74680fdc5c",
       "IPY_MODEL_adca969563c94840b726296646d05155",
       "IPY_MODEL_8962610253394af8a932c4b201252a3f"
      ],
      "layout": "IPY_MODEL_57b1f4ce02f6458293750a2de4792da9"
     }
    },
    "ab92aa6a7bf248a089daad30427b54ab": {
     "model_module": "@jupyter-widgets/base",
     "model_module_version": "1.2.0",
     "model_name": "LayoutModel",
     "state": {
      "_model_module": "@jupyter-widgets/base",
      "_model_module_version": "1.2.0",
      "_model_name": "LayoutModel",
      "_view_count": null,
      "_view_module": "@jupyter-widgets/base",
      "_view_module_version": "1.2.0",
      "_view_name": "LayoutView",
      "align_content": null,
      "align_items": null,
      "align_self": null,
      "border": null,
      "bottom": null,
      "display": null,
      "flex": null,
      "flex_flow": null,
      "grid_area": null,
      "grid_auto_columns": null,
      "grid_auto_flow": null,
      "grid_auto_rows": null,
      "grid_column": null,
      "grid_gap": null,
      "grid_row": null,
      "grid_template_areas": null,
      "grid_template_columns": null,
      "grid_template_rows": null,
      "height": null,
      "justify_content": null,
      "justify_items": null,
      "left": null,
      "margin": null,
      "max_height": null,
      "max_width": null,
      "min_height": null,
      "min_width": null,
      "object_fit": null,
      "object_position": null,
      "order": null,
      "overflow": null,
      "overflow_x": null,
      "overflow_y": null,
      "padding": null,
      "right": null,
      "top": null,
      "visibility": null,
      "width": null
     }
    },
    "adca969563c94840b726296646d05155": {
     "model_module": "@jupyter-widgets/controls",
     "model_module_version": "1.5.0",
     "model_name": "FloatProgressModel",
     "state": {
      "_dom_classes": [],
      "_model_module": "@jupyter-widgets/controls",
      "_model_module_version": "1.5.0",
      "_model_name": "FloatProgressModel",
      "_view_count": null,
      "_view_module": "@jupyter-widgets/controls",
      "_view_module_version": "1.5.0",
      "_view_name": "ProgressView",
      "bar_style": "success",
      "description": "",
      "description_tooltip": null,
      "layout": "IPY_MODEL_88820da8554c439ab4a046929be3dae7",
      "max": 48,
      "min": 0,
      "orientation": "horizontal",
      "style": "IPY_MODEL_d7c5e73b14584c62aff8298665f26188",
      "value": 48
     }
    },
    "bdf70c99a78c410d9ccd191af3ef1242": {
     "model_module": "@jupyter-widgets/controls",
     "model_module_version": "1.5.0",
     "model_name": "HBoxModel",
     "state": {
      "_dom_classes": [],
      "_model_module": "@jupyter-widgets/controls",
      "_model_module_version": "1.5.0",
      "_model_name": "HBoxModel",
      "_view_count": null,
      "_view_module": "@jupyter-widgets/controls",
      "_view_module_version": "1.5.0",
      "_view_name": "HBoxView",
      "box_style": "",
      "children": [
       "IPY_MODEL_33536ff1024e44cbac212fb30da30606",
       "IPY_MODEL_df010472093d4903a8ec9e3bf0671b10",
       "IPY_MODEL_1a1ee941b5eb4fa39eae7d0918937f2d"
      ],
      "layout": "IPY_MODEL_35ad7ec147704cf4940c01ab7b5ccd76"
     }
    },
    "c69bef4d8ae346ecbf40f939393c866b": {
     "model_module": "@jupyter-widgets/controls",
     "model_module_version": "1.5.0",
     "model_name": "ProgressStyleModel",
     "state": {
      "_model_module": "@jupyter-widgets/controls",
      "_model_module_version": "1.5.0",
      "_model_name": "ProgressStyleModel",
      "_view_count": null,
      "_view_module": "@jupyter-widgets/base",
      "_view_module_version": "1.2.0",
      "_view_name": "StyleView",
      "bar_color": null,
      "description_width": ""
     }
    },
    "cc31ccdc0d3146edbc7f349a6996777f": {
     "model_module": "@jupyter-widgets/base",
     "model_module_version": "1.2.0",
     "model_name": "LayoutModel",
     "state": {
      "_model_module": "@jupyter-widgets/base",
      "_model_module_version": "1.2.0",
      "_model_name": "LayoutModel",
      "_view_count": null,
      "_view_module": "@jupyter-widgets/base",
      "_view_module_version": "1.2.0",
      "_view_name": "LayoutView",
      "align_content": null,
      "align_items": null,
      "align_self": null,
      "border": null,
      "bottom": null,
      "display": null,
      "flex": null,
      "flex_flow": null,
      "grid_area": null,
      "grid_auto_columns": null,
      "grid_auto_flow": null,
      "grid_auto_rows": null,
      "grid_column": null,
      "grid_gap": null,
      "grid_row": null,
      "grid_template_areas": null,
      "grid_template_columns": null,
      "grid_template_rows": null,
      "height": null,
      "justify_content": null,
      "justify_items": null,
      "left": null,
      "margin": null,
      "max_height": null,
      "max_width": null,
      "min_height": null,
      "min_width": null,
      "object_fit": null,
      "object_position": null,
      "order": null,
      "overflow": null,
      "overflow_x": null,
      "overflow_y": null,
      "padding": null,
      "right": null,
      "top": null,
      "visibility": null,
      "width": null
     }
    },
    "cf5da085366b47e08edc1b77bfcc08ba": {
     "model_module": "@jupyter-widgets/base",
     "model_module_version": "1.2.0",
     "model_name": "LayoutModel",
     "state": {
      "_model_module": "@jupyter-widgets/base",
      "_model_module_version": "1.2.0",
      "_model_name": "LayoutModel",
      "_view_count": null,
      "_view_module": "@jupyter-widgets/base",
      "_view_module_version": "1.2.0",
      "_view_name": "LayoutView",
      "align_content": null,
      "align_items": null,
      "align_self": null,
      "border": null,
      "bottom": null,
      "display": null,
      "flex": null,
      "flex_flow": null,
      "grid_area": null,
      "grid_auto_columns": null,
      "grid_auto_flow": null,
      "grid_auto_rows": null,
      "grid_column": null,
      "grid_gap": null,
      "grid_row": null,
      "grid_template_areas": null,
      "grid_template_columns": null,
      "grid_template_rows": null,
      "height": null,
      "justify_content": null,
      "justify_items": null,
      "left": null,
      "margin": null,
      "max_height": null,
      "max_width": null,
      "min_height": null,
      "min_width": null,
      "object_fit": null,
      "object_position": null,
      "order": null,
      "overflow": null,
      "overflow_x": null,
      "overflow_y": null,
      "padding": null,
      "right": null,
      "top": null,
      "visibility": null,
      "width": null
     }
    },
    "d4837acc849347238aea9e74680fdc5c": {
     "model_module": "@jupyter-widgets/controls",
     "model_module_version": "1.5.0",
     "model_name": "HTMLModel",
     "state": {
      "_dom_classes": [],
      "_model_module": "@jupyter-widgets/controls",
      "_model_module_version": "1.5.0",
      "_model_name": "HTMLModel",
      "_view_count": null,
      "_view_module": "@jupyter-widgets/controls",
      "_view_module_version": "1.5.0",
      "_view_name": "HTMLView",
      "description": "",
      "description_tooltip": null,
      "layout": "IPY_MODEL_cf5da085366b47e08edc1b77bfcc08ba",
      "placeholder": "​",
      "style": "IPY_MODEL_7770f5540f21487095e31bced60e5406",
      "value": "tokenizer_config.json: 100%"
     }
    },
    "d7c5e73b14584c62aff8298665f26188": {
     "model_module": "@jupyter-widgets/controls",
     "model_module_version": "1.5.0",
     "model_name": "ProgressStyleModel",
     "state": {
      "_model_module": "@jupyter-widgets/controls",
      "_model_module_version": "1.5.0",
      "_model_name": "ProgressStyleModel",
      "_view_count": null,
      "_view_module": "@jupyter-widgets/base",
      "_view_module_version": "1.2.0",
      "_view_name": "StyleView",
      "bar_color": null,
      "description_width": ""
     }
    },
    "dacfa6181dc745eb981e1dbc6b91b78c": {
     "model_module": "@jupyter-widgets/controls",
     "model_module_version": "1.5.0",
     "model_name": "DescriptionStyleModel",
     "state": {
      "_model_module": "@jupyter-widgets/controls",
      "_model_module_version": "1.5.0",
      "_model_name": "DescriptionStyleModel",
      "_view_count": null,
      "_view_module": "@jupyter-widgets/base",
      "_view_module_version": "1.2.0",
      "_view_name": "StyleView",
      "description_width": ""
     }
    },
    "df010472093d4903a8ec9e3bf0671b10": {
     "model_module": "@jupyter-widgets/controls",
     "model_module_version": "1.5.0",
     "model_name": "FloatProgressModel",
     "state": {
      "_dom_classes": [],
      "_model_module": "@jupyter-widgets/controls",
      "_model_module_version": "1.5.0",
      "_model_name": "FloatProgressModel",
      "_view_count": null,
      "_view_module": "@jupyter-widgets/controls",
      "_view_module_version": "1.5.0",
      "_view_name": "ProgressView",
      "bar_style": "success",
      "description": "",
      "description_tooltip": null,
      "layout": "IPY_MODEL_1d0b2b903fa5452082a0835a9a3178bf",
      "max": 629,
      "min": 0,
      "orientation": "horizontal",
      "style": "IPY_MODEL_fbdf18ec4b94448e8a8ef95f0f383b28",
      "value": 629
     }
    },
    "e1274a4955be46d5ba528a845a8542e6": {
     "model_module": "@jupyter-widgets/base",
     "model_module_version": "1.2.0",
     "model_name": "LayoutModel",
     "state": {
      "_model_module": "@jupyter-widgets/base",
      "_model_module_version": "1.2.0",
      "_model_name": "LayoutModel",
      "_view_count": null,
      "_view_module": "@jupyter-widgets/base",
      "_view_module_version": "1.2.0",
      "_view_name": "LayoutView",
      "align_content": null,
      "align_items": null,
      "align_self": null,
      "border": null,
      "bottom": null,
      "display": null,
      "flex": null,
      "flex_flow": null,
      "grid_area": null,
      "grid_auto_columns": null,
      "grid_auto_flow": null,
      "grid_auto_rows": null,
      "grid_column": null,
      "grid_gap": null,
      "grid_row": null,
      "grid_template_areas": null,
      "grid_template_columns": null,
      "grid_template_rows": null,
      "height": null,
      "justify_content": null,
      "justify_items": null,
      "left": null,
      "margin": null,
      "max_height": null,
      "max_width": null,
      "min_height": null,
      "min_width": null,
      "object_fit": null,
      "object_position": null,
      "order": null,
      "overflow": null,
      "overflow_x": null,
      "overflow_y": null,
      "padding": null,
      "right": null,
      "top": null,
      "visibility": null,
      "width": null
     }
    },
    "e255e578ec7d48e690dda36cb7058144": {
     "model_module": "@jupyter-widgets/controls",
     "model_module_version": "1.5.0",
     "model_name": "HTMLModel",
     "state": {
      "_dom_classes": [],
      "_model_module": "@jupyter-widgets/controls",
      "_model_module_version": "1.5.0",
      "_model_name": "HTMLModel",
      "_view_count": null,
      "_view_module": "@jupyter-widgets/controls",
      "_view_module_version": "1.5.0",
      "_view_name": "HTMLView",
      "description": "",
      "description_tooltip": null,
      "layout": "IPY_MODEL_2ee60a21902e41b5be5a34faac4c7492",
      "placeholder": "​",
      "style": "IPY_MODEL_461181dfd1e8442ab34339235280a79b",
      "value": "model.safetensors: 100%"
     }
    },
    "e7ddf2d55a694a19b6f9aa6d0ed70d0d": {
     "model_module": "@jupyter-widgets/base",
     "model_module_version": "1.2.0",
     "model_name": "LayoutModel",
     "state": {
      "_model_module": "@jupyter-widgets/base",
      "_model_module_version": "1.2.0",
      "_model_name": "LayoutModel",
      "_view_count": null,
      "_view_module": "@jupyter-widgets/base",
      "_view_module_version": "1.2.0",
      "_view_name": "LayoutView",
      "align_content": null,
      "align_items": null,
      "align_self": null,
      "border": null,
      "bottom": null,
      "display": null,
      "flex": null,
      "flex_flow": null,
      "grid_area": null,
      "grid_auto_columns": null,
      "grid_auto_flow": null,
      "grid_auto_rows": null,
      "grid_column": null,
      "grid_gap": null,
      "grid_row": null,
      "grid_template_areas": null,
      "grid_template_columns": null,
      "grid_template_rows": null,
      "height": null,
      "justify_content": null,
      "justify_items": null,
      "left": null,
      "margin": null,
      "max_height": null,
      "max_width": null,
      "min_height": null,
      "min_width": null,
      "object_fit": null,
      "object_position": null,
      "order": null,
      "overflow": null,
      "overflow_x": null,
      "overflow_y": null,
      "padding": null,
      "right": null,
      "top": null,
      "visibility": null,
      "width": null
     }
    },
    "ede9bd64f7ab4d45becb55f3c5bb7169": {
     "model_module": "@jupyter-widgets/controls",
     "model_module_version": "1.5.0",
     "model_name": "HTMLModel",
     "state": {
      "_dom_classes": [],
      "_model_module": "@jupyter-widgets/controls",
      "_model_module_version": "1.5.0",
      "_model_name": "HTMLModel",
      "_view_count": null,
      "_view_module": "@jupyter-widgets/controls",
      "_view_module_version": "1.5.0",
      "_view_name": "HTMLView",
      "description": "",
      "description_tooltip": null,
      "layout": "IPY_MODEL_ab92aa6a7bf248a089daad30427b54ab",
      "placeholder": "​",
      "style": "IPY_MODEL_3b3d982b216a40b3886320aa6e81b692",
      "value": " 232k/232k [00:00&lt;00:00, 641kB/s]"
     }
    },
    "fb9511b8d1ba4ad088e3c994d95c4c8e": {
     "model_module": "@jupyter-widgets/controls",
     "model_module_version": "1.5.0",
     "model_name": "DescriptionStyleModel",
     "state": {
      "_model_module": "@jupyter-widgets/controls",
      "_model_module_version": "1.5.0",
      "_model_name": "DescriptionStyleModel",
      "_view_count": null,
      "_view_module": "@jupyter-widgets/base",
      "_view_module_version": "1.2.0",
      "_view_name": "StyleView",
      "description_width": ""
     }
    },
    "fbdf18ec4b94448e8a8ef95f0f383b28": {
     "model_module": "@jupyter-widgets/controls",
     "model_module_version": "1.5.0",
     "model_name": "ProgressStyleModel",
     "state": {
      "_model_module": "@jupyter-widgets/controls",
      "_model_module_version": "1.5.0",
      "_model_name": "ProgressStyleModel",
      "_view_count": null,
      "_view_module": "@jupyter-widgets/base",
      "_view_module_version": "1.2.0",
      "_view_name": "StyleView",
      "bar_color": null,
      "description_width": ""
     }
    },
    "fc73e686577440618555e01f1fce07da": {
     "model_module": "@jupyter-widgets/controls",
     "model_module_version": "1.5.0",
     "model_name": "FloatProgressModel",
     "state": {
      "_dom_classes": [],
      "_model_module": "@jupyter-widgets/controls",
      "_model_module_version": "1.5.0",
      "_model_name": "FloatProgressModel",
      "_view_count": null,
      "_view_module": "@jupyter-widgets/controls",
      "_view_module_version": "1.5.0",
      "_view_name": "ProgressView",
      "bar_style": "success",
      "description": "",
      "description_tooltip": null,
      "layout": "IPY_MODEL_63e73c7d6bc24ea787f1ed12a8a1d806",
      "max": 231508,
      "min": 0,
      "orientation": "horizontal",
      "style": "IPY_MODEL_45f7bccd060d495fb35b9d68175e6448",
      "value": 231508
     }
    }
   }
  }
 },
 "nbformat": 4,
 "nbformat_minor": 5
}
